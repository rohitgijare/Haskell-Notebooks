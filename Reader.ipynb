{
 "cells": [
  {
   "cell_type": "code",
   "execution_count": 73,
   "metadata": {},
   "outputs": [],
   "source": [
    "import Test.QuickCheck\n",
    "import Test.QuickCheck.Checkers\n",
    "import Test.QuickCheck.Classes\n",
    "import Data.Char\n",
    "import Control.Applicative"
   ]
  },
  {
   "cell_type": "markdown",
   "metadata": {},
   "source": [
    "<h4>Composition as Functor, Applicative and Monad</h4>"
   ]
  },
  {
   "cell_type": "code",
   "execution_count": 2,
   "metadata": {},
   "outputs": [],
   "source": [
    "cap :: [Char] -> [Char]\n",
    "cap = map toUpper\n",
    "\n",
    "rev :: [Char] -> [Char]\n",
    "rev = reverse"
   ]
  },
  {
   "cell_type": "code",
   "execution_count": 3,
   "metadata": {},
   "outputs": [],
   "source": [
    "composed :: [Char] -> [Char]\n",
    "composed = rev . cap"
   ]
  },
  {
   "cell_type": "code",
   "execution_count": 5,
   "metadata": {},
   "outputs": [],
   "source": [
    "fmapped :: [Char] -> [Char]\n",
    "fmapped = fmap rev cap"
   ]
  },
  {
   "cell_type": "code",
   "execution_count": 7,
   "metadata": {},
   "outputs": [],
   "source": [
    "tupled :: [Char] -> ([Char], [Char])\n",
    "tupled = (,) <$> rev <*> cap"
   ]
  },
  {
   "cell_type": "code",
   "execution_count": 20,
   "metadata": {},
   "outputs": [],
   "source": [
    "tupledMonad :: [Char] -> ([Char], [Char])\n",
    "tupledMonad = do\n",
    "    a <- rev\n",
    "    b <- cap\n",
    "    return (a, b)"
   ]
  },
  {
   "cell_type": "code",
   "execution_count": 21,
   "metadata": {},
   "outputs": [
    {
     "data": {
      "text/plain": [
       "(\"eiluJ\",\"JULIE\")"
      ]
     },
     "metadata": {},
     "output_type": "display_data"
    }
   ],
   "source": [
    "tupledMonad \"Julie\""
   ]
  },
  {
   "cell_type": "markdown",
   "metadata": {},
   "source": [
    "<h4>Function applicative</h4>"
   ]
  },
  {
   "cell_type": "code",
   "execution_count": 64,
   "metadata": {},
   "outputs": [],
   "source": [
    "newtype HumanName = HumanName String deriving (Eq, Show)\n",
    "\n",
    "newtype DogName = DogName String deriving (Eq, Show)\n",
    "\n",
    "newtype Address = Address String deriving (Eq, Show)"
   ]
  },
  {
   "cell_type": "code",
   "execution_count": 66,
   "metadata": {},
   "outputs": [],
   "source": [
    "data Person = \n",
    "    Person {\n",
    "         humanName :: HumanName\n",
    "        ,dogName :: DogName\n",
    "        ,address :: Address\n",
    "    } deriving (Eq, Show)\n",
    "    \n",
    "data Dog =\n",
    "    Dog {\n",
    "         dogsName :: DogName\n",
    "        ,dogsAddress :: Address\n",
    "    } deriving (Eq, Show)"
   ]
  },
  {
   "cell_type": "code",
   "execution_count": 67,
   "metadata": {},
   "outputs": [],
   "source": [
    "p1 = Person (HumanName \"Rohit\") (DogName \"D1\") (Address \"NYC\")\n",
    "p2 = Person (HumanName \"Rashi\") (DogName \"D2\") (Address \"NY\")"
   ]
  },
  {
   "cell_type": "code",
   "execution_count": 85,
   "metadata": {},
   "outputs": [],
   "source": [
    "getDog :: Person -> Dog\n",
    "getDog p = Dog (dogName p) (address p)\n",
    "\n",
    "getDogR :: Person -> Dog\n",
    "getDogR = Dog <$> dogName <*> address\n",
    "\n",
    "getDogR' :: Person -> Dog\n",
    "getDogR' = liftA2 Dog dogName address"
   ]
  },
  {
   "cell_type": "markdown",
   "metadata": {},
   "source": [
    "<h4>Reading Comprehension Exercise</h4>"
   ]
  },
  {
   "cell_type": "code",
   "execution_count": 86,
   "metadata": {},
   "outputs": [],
   "source": [
    "myLiftA2 :: Applicative f => (a -> b -> c) -> f a -> f b -> f c\n",
    "myLiftA2 f a b = f <$> a <*> b"
   ]
  },
  {
   "cell_type": "markdown",
   "metadata": {},
   "source": [
    "<h4>Function Monad</h4>"
   ]
  },
  {
   "cell_type": "code",
   "execution_count": 96,
   "metadata": {},
   "outputs": [],
   "source": [
    "foo :: (Functor f, Num a) => f a -> f a\n",
    "foo r = fmap (+1) r\n",
    "\n",
    "bar :: Foldable f => t -> f a -> (t, Int)\n",
    "bar r t = (r, length t)"
   ]
  },
  {
   "cell_type": "code",
   "execution_count": 97,
   "metadata": {},
   "outputs": [],
   "source": [
    "froot :: Num a => [a] -> ([a], Int)\n",
    "froot r = (map (+1) r, length r)"
   ]
  },
  {
   "cell_type": "code",
   "execution_count": 105,
   "metadata": {},
   "outputs": [],
   "source": [
    "barPlus r = (foo r, length r)\n",
    "\n",
    "frooty :: Num a => [a] -> ([a], Int)\n",
    "frooty r = bar (foo r) r\n",
    "\n",
    "frooty' :: Num a => [a] -> ([a], Int)\n",
    "frooty' = \\r -> bar (foo r) r"
   ]
  },
  {
   "cell_type": "code",
   "execution_count": 112,
   "metadata": {},
   "outputs": [],
   "source": [
    "fooBind :: (r -> a) -> (a -> r -> b) -> (r -> b)\n",
    "fooBind m k = \\r -> k (m r) r"
   ]
  },
  {
   "cell_type": "code",
   "execution_count": 113,
   "metadata": {},
   "outputs": [
    {
     "data": {
      "text/html": [
       "<style>/* Styles used for the Hoogle display in the pager */\n",
       ".hoogle-doc {\n",
       "display: block;\n",
       "padding-bottom: 1.3em;\n",
       "padding-left: 0.4em;\n",
       "}\n",
       ".hoogle-code {\n",
       "display: block;\n",
       "font-family: monospace;\n",
       "white-space: pre;\n",
       "}\n",
       ".hoogle-text {\n",
       "display: block;\n",
       "}\n",
       ".hoogle-name {\n",
       "color: green;\n",
       "font-weight: bold;\n",
       "}\n",
       ".hoogle-head {\n",
       "font-weight: bold;\n",
       "}\n",
       ".hoogle-sub {\n",
       "display: block;\n",
       "margin-left: 0.4em;\n",
       "}\n",
       ".hoogle-package {\n",
       "font-weight: bold;\n",
       "font-style: italic;\n",
       "}\n",
       ".hoogle-module {\n",
       "font-weight: bold;\n",
       "}\n",
       ".hoogle-class {\n",
       "font-weight: bold;\n",
       "}\n",
       ".get-type {\n",
       "color: green;\n",
       "font-weight: bold;\n",
       "font-family: monospace;\n",
       "display: block;\n",
       "white-space: pre-wrap;\n",
       "}\n",
       ".show-type {\n",
       "color: green;\n",
       "font-weight: bold;\n",
       "font-family: monospace;\n",
       "margin-left: 1em;\n",
       "}\n",
       ".mono {\n",
       "font-family: monospace;\n",
       "display: block;\n",
       "}\n",
       ".err-msg {\n",
       "color: red;\n",
       "font-style: italic;\n",
       "font-family: monospace;\n",
       "white-space: pre;\n",
       "display: block;\n",
       "}\n",
       "#unshowable {\n",
       "color: red;\n",
       "font-weight: bold;\n",
       "}\n",
       ".err-msg.in.collapse {\n",
       "padding-top: 0.7em;\n",
       "}\n",
       ".highlight-code {\n",
       "white-space: pre;\n",
       "font-family: monospace;\n",
       "}\n",
       ".suggestion-warning { \n",
       "font-weight: bold;\n",
       "color: rgb(200, 130, 0);\n",
       "}\n",
       ".suggestion-error { \n",
       "font-weight: bold;\n",
       "color: red;\n",
       "}\n",
       ".suggestion-name {\n",
       "font-weight: bold;\n",
       "}\n",
       "</style><span class='get-type'>fooBind :: forall r a b. (r -> a) -> (a -> r -> b) -> r -> b</span>"
      ],
      "text/plain": [
       "fooBind :: forall r a b. (r -> a) -> (a -> r -> b) -> r -> b"
      ]
     },
     "metadata": {},
     "output_type": "display_data"
    }
   ],
   "source": [
    ":t fooBind"
   ]
  },
  {
   "cell_type": "code",
   "execution_count": 114,
   "metadata": {},
   "outputs": [
    {
     "data": {
      "text/html": [
       "<style>/* Styles used for the Hoogle display in the pager */\n",
       ".hoogle-doc {\n",
       "display: block;\n",
       "padding-bottom: 1.3em;\n",
       "padding-left: 0.4em;\n",
       "}\n",
       ".hoogle-code {\n",
       "display: block;\n",
       "font-family: monospace;\n",
       "white-space: pre;\n",
       "}\n",
       ".hoogle-text {\n",
       "display: block;\n",
       "}\n",
       ".hoogle-name {\n",
       "color: green;\n",
       "font-weight: bold;\n",
       "}\n",
       ".hoogle-head {\n",
       "font-weight: bold;\n",
       "}\n",
       ".hoogle-sub {\n",
       "display: block;\n",
       "margin-left: 0.4em;\n",
       "}\n",
       ".hoogle-package {\n",
       "font-weight: bold;\n",
       "font-style: italic;\n",
       "}\n",
       ".hoogle-module {\n",
       "font-weight: bold;\n",
       "}\n",
       ".hoogle-class {\n",
       "font-weight: bold;\n",
       "}\n",
       ".get-type {\n",
       "color: green;\n",
       "font-weight: bold;\n",
       "font-family: monospace;\n",
       "display: block;\n",
       "white-space: pre-wrap;\n",
       "}\n",
       ".show-type {\n",
       "color: green;\n",
       "font-weight: bold;\n",
       "font-family: monospace;\n",
       "margin-left: 1em;\n",
       "}\n",
       ".mono {\n",
       "font-family: monospace;\n",
       "display: block;\n",
       "}\n",
       ".err-msg {\n",
       "color: red;\n",
       "font-style: italic;\n",
       "font-family: monospace;\n",
       "white-space: pre;\n",
       "display: block;\n",
       "}\n",
       "#unshowable {\n",
       "color: red;\n",
       "font-weight: bold;\n",
       "}\n",
       ".err-msg.in.collapse {\n",
       "padding-top: 0.7em;\n",
       "}\n",
       ".highlight-code {\n",
       "white-space: pre;\n",
       "font-family: monospace;\n",
       "}\n",
       ".suggestion-warning { \n",
       "font-weight: bold;\n",
       "color: rgb(200, 130, 0);\n",
       "}\n",
       ".suggestion-error { \n",
       "font-weight: bold;\n",
       "color: red;\n",
       "}\n",
       ".suggestion-name {\n",
       "font-weight: bold;\n",
       "}\n",
       "</style><span class='get-type'>(>>=) :: forall (m :: * -> *) a b. Monad m => m a -> (a -> m b) -> m b</span>"
      ],
      "text/plain": [
       "(>>=) :: forall (m :: * -> *) a b. Monad m => m a -> (a -> m b) -> m b"
      ]
     },
     "metadata": {},
     "output_type": "display_data"
    }
   ],
   "source": [
    ":t (>>=)"
   ]
  },
  {
   "cell_type": "code",
   "execution_count": 107,
   "metadata": {},
   "outputs": [
    {
     "data": {
      "text/plain": [
       "True"
      ]
     },
     "metadata": {},
     "output_type": "display_data"
    },
    {
     "data": {
      "text/plain": [
       "True"
      ]
     },
     "metadata": {},
     "output_type": "display_data"
    },
    {
     "data": {
      "text/plain": [
       "True"
      ]
     },
     "metadata": {},
     "output_type": "display_data"
    }
   ],
   "source": [
    "froot [1,2,3] == barPlus [1,2,3]\n",
    "barPlus [1,2,3] == frooty [1,2,3]\n",
    "frooty [1,2,3] == frooty' [1,2,3]"
   ]
  },
  {
   "cell_type": "markdown",
   "metadata": {},
   "source": [
    "<h4>Custom Reader</h4>"
   ]
  },
  {
   "cell_type": "code",
   "execution_count": 27,
   "metadata": {},
   "outputs": [],
   "source": [
    "newtype Reader r a = Reader (r -> a)"
   ]
  },
  {
   "cell_type": "code",
   "execution_count": 29,
   "metadata": {},
   "outputs": [],
   "source": [
    "runReader :: Reader r a -> (r -> a)\n",
    "runReader (Reader x) = x"
   ]
  },
  {
   "cell_type": "code",
   "execution_count": 63,
   "metadata": {},
   "outputs": [],
   "source": [
    "ask :: Reader a a\n",
    "ask = Reader id"
   ]
  },
  {
   "cell_type": "code",
   "execution_count": 40,
   "metadata": {},
   "outputs": [],
   "source": [
    "instance Functor (Reader r) where\n",
    "    fmap f (Reader x) = Reader (f . x)"
   ]
  },
  {
   "cell_type": "code",
   "execution_count": 41,
   "metadata": {},
   "outputs": [],
   "source": [
    "rdr :: Reader String Int\n",
    "rdr = Reader (\\x -> length x)\n",
    "\n",
    "rdrFMapped = fmap (\\x -> x*x) rdr"
   ]
  },
  {
   "cell_type": "code",
   "execution_count": 43,
   "metadata": {},
   "outputs": [
    {
     "data": {
      "text/plain": [
       "25"
      ]
     },
     "metadata": {},
     "output_type": "display_data"
    }
   ],
   "source": [
    "runReader rdrFMapped \"Rohit\""
   ]
  },
  {
   "cell_type": "code",
   "execution_count": 92,
   "metadata": {},
   "outputs": [],
   "source": [
    "{-# LANGUAGE InstanceSigs #-}\n",
    "\n",
    "instance Applicative (Reader r) where\n",
    "    pure :: a -> Reader r a\n",
    "    pure x = Reader (const x)\n",
    "    \n",
    "    (<*>) :: Reader r (a -> b) -> Reader r a -> Reader r b\n",
    "    (<*>) (Reader rab) (Reader ra) = Reader $ \\r -> rab r (ra r)\n",
    "\n",
    "{-- Applicative f =>\n",
    "f (b -> c) -> f b -> f c\n",
    "\n",
    "f ~ Reader r\n",
    "\n",
    "(Reader r) (b -> c) -> (Reader r) b -> (Reader r) c\n",
    "--}"
   ]
  },
  {
   "cell_type": "code",
   "execution_count": 129,
   "metadata": {},
   "outputs": [],
   "source": [
    "instance Monad (Reader r) where\n",
    "    return = pure\n",
    "\n",
    "{--\n",
    "    (r -> a) -> (a -> r -> b) -> (r -> b)\n",
    "--}\n",
    "    (>>=) :: Reader r a -> (a -> Reader r b) -> Reader r b\n",
    "    (>>=) (Reader ra) aRb = Reader $ \\r -> runReader (aRb (ra r)) r"
   ]
  },
  {
   "cell_type": "code",
   "execution_count": 130,
   "metadata": {},
   "outputs": [],
   "source": [
    "getDogRM :: Reader Person Dog\n",
    "getDogRM = Reader $ Dog <$> dogName <*> address"
   ]
  },
  {
   "cell_type": "code",
   "execution_count": 132,
   "metadata": {},
   "outputs": [
    {
     "data": {
      "text/plain": [
       "Dog {dogsName = DogName \"D1\", dogsAddress = Address \"NYC\"}"
      ]
     },
     "metadata": {},
     "output_type": "display_data"
    }
   ],
   "source": [
    "runReader getDogRM p1"
   ]
  },
  {
   "cell_type": "markdown",
   "metadata": {},
   "source": [
    "<h4>Exercise</h4>"
   ]
  },
  {
   "cell_type": "code",
   "execution_count": 133,
   "metadata": {},
   "outputs": [],
   "source": [
    "import Control.Applicative\n",
    "import Data.Maybe"
   ]
  },
  {
   "cell_type": "code",
   "execution_count": 134,
   "metadata": {},
   "outputs": [],
   "source": [
    "x = [1..3]\n",
    "y = [4..6]\n",
    "z = [7..9]"
   ]
  },
  {
   "cell_type": "code",
   "execution_count": 139,
   "metadata": {},
   "outputs": [],
   "source": [
    "xs :: Maybe Integer\n",
    "xs = lookup 3 (zip x y)\n",
    "\n",
    "ys :: Maybe Integer\n",
    "ys = lookup 6 (zip y z)\n",
    "\n",
    "zs :: Maybe Integer\n",
    "zs = lookup 4 (zip x y)"
   ]
  },
  {
   "cell_type": "code",
   "execution_count": 148,
   "metadata": {},
   "outputs": [],
   "source": [
    "z' :: Integer -> Maybe Integer\n",
    "z' n = lookup n (zip x z)"
   ]
  },
  {
   "cell_type": "code",
   "execution_count": 154,
   "metadata": {},
   "outputs": [],
   "source": [
    "x1 :: Maybe (Integer, Integer)\n",
    "x1 = (,) <$> xs <*> ys\n",
    "\n",
    "x2 :: Maybe (Integer, Integer)\n",
    "x2 = (,) <$> ys <*> zs"
   ]
  },
  {
   "cell_type": "code",
   "execution_count": 156,
   "metadata": {},
   "outputs": [],
   "source": [
    "x3 :: Integer -> (Maybe Integer, Maybe Integer)\n",
    "x3 n = (z' n, z' n)"
   ]
  },
  {
   "cell_type": "code",
   "execution_count": 160,
   "metadata": {},
   "outputs": [],
   "source": [
    "summed :: Num c => (c, c) -> c\n",
    "summed = uncurry (+)"
   ]
  },
  {
   "cell_type": "code",
   "execution_count": 167,
   "metadata": {},
   "outputs": [],
   "source": [
    "bolt :: Integer -> Bool\n",
    "bolt x = (x > 3) && (x < 8)"
   ]
  },
  {
   "cell_type": "code",
   "execution_count": 170,
   "metadata": {},
   "outputs": [],
   "source": [
    "main :: IO ()\n",
    "main = do\n",
    "    print $ sequenceA [Just 3, Just 2, Just 1]\n",
    "    print $ sequenceA [x, y]\n",
    "    print $ [xs, ys]\n",
    "    print $ summed <$> ((,) <$> xs <*> ys)\n",
    "    print $ fmap summed ((,) <$> xs <*> zs)\n",
    "    print $ bolt 7\n",
    "    print $ fmap bolt z"
   ]
  },
  {
   "cell_type": "code",
   "execution_count": 171,
   "metadata": {},
   "outputs": [
    {
     "data": {
      "text/plain": [
       "Just [3,2,1]\n",
       "[[1,4],[1,5],[1,6],[2,4],[2,5],[2,6],[3,4],[3,5],[3,6]]\n",
       "[Just 6,Just 9]\n",
       "Just 15\n",
       "Nothing\n",
       "True\n",
       "[True,False,False]"
      ]
     },
     "metadata": {},
     "output_type": "display_data"
    }
   ],
   "source": [
    "main"
   ]
  },
  {
   "cell_type": "code",
   "execution_count": 182,
   "metadata": {},
   "outputs": [],
   "source": [
    "sequA :: Integral a => a -> [Bool]\n",
    "sequA = sequenceA [(>3), (<8), even]"
   ]
  },
  {
   "cell_type": "code",
   "execution_count": 184,
   "metadata": {},
   "outputs": [],
   "source": [
    "s' = summed <$> ((,) <$> xs <*> ys)"
   ]
  }
 ],
 "metadata": {
  "kernelspec": {
   "display_name": "Haskell",
   "language": "haskell",
   "name": "haskell"
  },
  "language_info": {
   "codemirror_mode": "ihaskell",
   "file_extension": ".hs",
   "name": "haskell",
   "pygments_lexer": "Haskell",
   "version": "8.4.4"
  }
 },
 "nbformat": 4,
 "nbformat_minor": 2
}
