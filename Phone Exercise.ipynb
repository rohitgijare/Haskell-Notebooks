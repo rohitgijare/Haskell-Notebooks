{
 "cells": [
  {
   "cell_type": "code",
   "execution_count": 71,
   "metadata": {},
   "outputs": [],
   "source": [
    "import Data.List\n",
    "import Data.Maybe\n",
    "import Data.Char"
   ]
  },
  {
   "cell_type": "code",
   "execution_count": 41,
   "metadata": {},
   "outputs": [],
   "source": [
    "type Digit = Char\n",
    "type PhoneValues = String\n",
    "type Presses = Int"
   ]
  },
  {
   "cell_type": "code",
   "execution_count": 42,
   "metadata": {},
   "outputs": [],
   "source": [
    "newtype Phone = Phone {phones:: [(Digit, PhoneValues)]} deriving (Eq, Show)"
   ]
  },
  {
   "cell_type": "code",
   "execution_count": 43,
   "metadata": {},
   "outputs": [],
   "source": [
    "phone = Phone [('2', \"abc\"), ('3', \"def\"), ('4', \"ghi\"), ('5', \"jkl\"), ('6', \"mno\"), ('7', \"pqrs\"),\n",
    "    ('8', \"tuv\"), ('9', \"wxyz\"), ('0', \" \"), ('*', \"^\")]"
   ]
  },
  {
   "cell_type": "code",
   "execution_count": 78,
   "metadata": {},
   "outputs": [],
   "source": [
    "reverseTaps :: Phone -> Char -> [(Digit, Presses)]\n",
    "reverseTaps ph c_in = if isUpper c_in == True then [('*', 1)] ++ z else z\n",
    "    where z = [(fst $ phones ph !! fromJust (findIndex (/= Nothing) x), (+1) $ fromJust . fromJust $ find (/= Nothing) x)]\n",
    "          x = map (elemIndex c . snd) (phones ph)\n",
    "          c = toLower c_in"
   ]
  },
  {
   "cell_type": "code",
   "execution_count": 79,
   "metadata": {},
   "outputs": [
    {
     "data": {
      "text/plain": [
       "[('*',1),('9',4)]"
      ]
     },
     "metadata": {},
     "output_type": "display_data"
    }
   ],
   "source": [
    "reverseTaps phone 'Z'"
   ]
  },
  {
   "cell_type": "code",
   "execution_count": null,
   "metadata": {},
   "outputs": [],
   "source": []
  }
 ],
 "metadata": {
  "kernelspec": {
   "display_name": "Haskell",
   "language": "haskell",
   "name": "haskell"
  },
  "language_info": {
   "codemirror_mode": "ihaskell",
   "file_extension": ".hs",
   "name": "haskell",
   "pygments_lexer": "Haskell",
   "version": "8.4.4"
  }
 },
 "nbformat": 4,
 "nbformat_minor": 2
}
