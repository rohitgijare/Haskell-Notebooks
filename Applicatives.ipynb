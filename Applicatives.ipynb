{
 "cells": [
  {
   "cell_type": "code",
   "execution_count": 1,
   "metadata": {},
   "outputs": [],
   "source": [
    "import Test.QuickCheck\n",
    "import Control.Applicative\n",
    "import Data.List (elemIndex)\n",
    "import Data.Monoid\n",
    "import Test.QuickCheck.Checkers\n",
    "import Test.QuickCheck.Classes"
   ]
  },
  {
   "cell_type": "code",
   "execution_count": 2,
   "metadata": {},
   "outputs": [],
   "source": [
    "applicativeId :: (Applicative f, Eq (f a))\n",
    "    => f a -> Bool\n",
    "applicativeId m = (pure id <*> m) == m"
   ]
  },
  {
   "cell_type": "code",
   "execution_count": 3,
   "metadata": {
    "scrolled": true
   },
   "outputs": [],
   "source": [
    "applicativeCompose :: (Applicative f, Eq (f c))\n",
    "    => (a -> b) -> (b -> c) -> f a -> Bool\n",
    "applicativeCompose u v w = (pure (.) <*> pure v <*> pure u <*> w) == (pure v <*> (pure u <*> w))"
   ]
  },
  {
   "cell_type": "code",
   "execution_count": 4,
   "metadata": {},
   "outputs": [],
   "source": [
    "{--\n",
    "{-# LANGUAGE AllowAmbiguousTypes #-}\n",
    "\n",
    "applicativeHomomorphism :: (Applicative f, Eq (f b))\n",
    "    => f b -> (a -> b) -> a -> Bool\n",
    "applicativeHomomorphism _ fn x = lhs == pure (fn x)\n",
    "    where lhs :: f b \n",
    "          lhs = (pure fn <*> pure x)\n",
    "--}"
   ]
  },
  {
   "cell_type": "code",
   "execution_count": 5,
   "metadata": {},
   "outputs": [],
   "source": [
    "applicativeHomomorphism :: (Applicative f, Eq (f b))\n",
    "    => f (a -> b) -> (a -> b) -> a -> Bool\n",
    "applicativeHomomorphism ffn fn x = (ffn <*> pure x) == pure (fn x)"
   ]
  },
  {
   "cell_type": "code",
   "execution_count": 6,
   "metadata": {},
   "outputs": [],
   "source": [
    "applicativeInterchange :: (Applicative f, Eq (f b))\n",
    "    => f (a -> b) -> a -> Bool\n",
    "applicativeInterchange u y = (u <*> (pure y)) == (pure ($ y) <*> u)"
   ]
  },
  {
   "cell_type": "markdown",
   "metadata": {},
   "source": [
    "<h4>Tupley Type</h4>"
   ]
  },
  {
   "cell_type": "code",
   "execution_count": 7,
   "metadata": {},
   "outputs": [],
   "source": [
    "data Tupley a b = Tupley {first:: a, second:: b} deriving (Eq, Show)\n",
    "\n",
    "instance (Arbitrary a, Arbitrary b) => Arbitrary (Tupley a b) where\n",
    "    arbitrary = do\n",
    "        a <- arbitrary\n",
    "        b <- arbitrary\n",
    "        return (Tupley a b)"
   ]
  },
  {
   "cell_type": "code",
   "execution_count": 8,
   "metadata": {},
   "outputs": [],
   "source": [
    "instance (Semigroup a, Semigroup b) => Semigroup (Tupley a b) where\n",
    "    (<>) (Tupley a b) (Tupley a' b') = Tupley (a <> a') (b <> b')\n",
    "    \n",
    "instance (Monoid a, Monoid b) => Monoid (Tupley a b) where\n",
    "    mempty = Tupley mempty mempty\n",
    "    mappend = (<>)"
   ]
  },
  {
   "cell_type": "code",
   "execution_count": 9,
   "metadata": {},
   "outputs": [],
   "source": [
    "instance Functor (Tupley a) where\n",
    "    fmap f (Tupley a b) = Tupley a (f b)"
   ]
  },
  {
   "cell_type": "code",
   "execution_count": 10,
   "metadata": {},
   "outputs": [],
   "source": [
    "instance Monoid a => Applicative (Tupley a) where\n",
    "    pure = Tupley mempty\n",
    "    (Tupley u f) <*> (Tupley v x) = Tupley (u `mappend` v)  (f x)"
   ]
  },
  {
   "cell_type": "code",
   "execution_count": 11,
   "metadata": {},
   "outputs": [],
   "source": [
    "instance (Eq a, Eq b) => EqProp (Tupley a b) where\n",
    "    (=-=) = eq"
   ]
  },
  {
   "cell_type": "code",
   "execution_count": 12,
   "metadata": {},
   "outputs": [
    {
     "data": {
      "text/plain": [
       "\n",
       "applicative:\n",
       "  identity:     +++ OK, passed 500 tests.\n",
       "  composition:  +++ OK, passed 500 tests.\n",
       "  homomorphism: +++ OK, passed 500 tests.\n",
       "  interchange:  +++ OK, passed 500 tests.\n",
       "  functor:      +++ OK, passed 500 tests."
      ]
     },
     "metadata": {},
     "output_type": "display_data"
    }
   ],
   "source": [
    "trigger :: Tupley String (String, Int, Char)\n",
    "trigger = undefined\n",
    "\n",
    "verboseBatch (applicative trigger)"
   ]
  },
  {
   "cell_type": "code",
   "execution_count": 13,
   "metadata": {},
   "outputs": [
    {
     "data": {
      "text/plain": [
       "+++ OK, passed 100 tests."
      ]
     },
     "metadata": {},
     "output_type": "display_data"
    }
   ],
   "source": [
    "f :: Tupley String String -> Bool\n",
    "f = applicativeId\n",
    "\n",
    "quickCheck f"
   ]
  },
  {
   "cell_type": "code",
   "execution_count": 14,
   "metadata": {},
   "outputs": [
    {
     "data": {
      "text/plain": [
       "+++ OK, passed 100 tests."
      ]
     },
     "metadata": {},
     "output_type": "display_data"
    }
   ],
   "source": [
    "c = applicativeCompose (++ \"Hi\") (++ \" Bye!\")\n",
    "li x = c (x :: Tupley String String)\n",
    "\n",
    "quickCheck li"
   ]
  },
  {
   "cell_type": "code",
   "execution_count": 15,
   "metadata": {},
   "outputs": [
    {
     "data": {
      "text/plain": [
       "+++ OK, passed 100 tests."
      ]
     },
     "metadata": {},
     "output_type": "display_data"
    }
   ],
   "source": [
    "ah = applicativeHomomorphism (Tupley \"\" (++ \"Hi\")) (++ \"Hi\")\n",
    "li x = ah (x :: String)\n",
    "\n",
    "quickCheck li"
   ]
  },
  {
   "cell_type": "code",
   "execution_count": 16,
   "metadata": {},
   "outputs": [
    {
     "data": {
      "text/plain": [
       "+++ OK, passed 100 tests."
      ]
     },
     "metadata": {},
     "output_type": "display_data"
    }
   ],
   "source": [
    "ai = applicativeInterchange (Tupley \"\" (++ \"Hi\"))\n",
    "li x = ai (x :: String)\n",
    "\n",
    "quickCheck li"
   ]
  },
  {
   "cell_type": "markdown",
   "metadata": {},
   "source": [
    "<h4>TypeCheck Exercises</h4>"
   ]
  },
  {
   "cell_type": "code",
   "execution_count": 17,
   "metadata": {},
   "outputs": [
    {
     "data": {
      "text/plain": [
       "True"
      ]
     },
     "metadata": {},
     "output_type": "display_data"
    }
   ],
   "source": [
    "added :: Maybe Integer\n",
    "added = fmap (+3) (lookup 3 $ zip [1, 2, 3] [4, 5, 6])\n",
    "added == Just 9"
   ]
  },
  {
   "cell_type": "code",
   "execution_count": 18,
   "metadata": {},
   "outputs": [
    {
     "data": {
      "text/plain": [
       "True"
      ]
     },
     "metadata": {},
     "output_type": "display_data"
    }
   ],
   "source": [
    "y :: Maybe Integer\n",
    "y = lookup 3 $ zip [1, 2, 3] [4, 5, 6]\n",
    "\n",
    "z :: Maybe Integer\n",
    "z = lookup 2 $ zip [1, 2, 3] [4, 5, 6]\n",
    "\n",
    "tupled :: Maybe (Integer, Integer)\n",
    "tupled = (,) <$> y <*> z\n",
    "\n",
    "tupled == Just (6, 5)"
   ]
  },
  {
   "cell_type": "code",
   "execution_count": 19,
   "metadata": {},
   "outputs": [
    {
     "data": {
      "text/plain": [
       "True"
      ]
     },
     "metadata": {},
     "output_type": "display_data"
    }
   ],
   "source": [
    "x :: Maybe Int\n",
    "x = elemIndex 3 [1, 2, 3, 4, 5]\n",
    "\n",
    "y :: Maybe Int\n",
    "y = elemIndex 4 [1, 2, 3, 4, 5]\n",
    "\n",
    "max' :: Int -> Int -> Int\n",
    "max' = max\n",
    "\n",
    "maxed :: Maybe Int\n",
    "maxed = liftA2 max' x y\n",
    "\n",
    "maxed == Just 3"
   ]
  },
  {
   "cell_type": "code",
   "execution_count": 20,
   "metadata": {},
   "outputs": [
    {
     "data": {
      "text/plain": [
       "True"
      ]
     },
     "metadata": {},
     "output_type": "display_data"
    }
   ],
   "source": [
    "xs = [1, 2, 3]\n",
    "ys = [4, 5, 6]\n",
    "\n",
    "x :: Maybe Integer\n",
    "x = lookup 3 $ zip xs ys\n",
    "\n",
    "y :: Maybe Integer\n",
    "y = lookup 2 $ zip xs ys\n",
    "\n",
    "summed :: Maybe Integer\n",
    "summed = pure sum <*> ((,) <$> x <*> y)\n",
    "\n",
    "summed == Just 5"
   ]
  },
  {
   "cell_type": "markdown",
   "metadata": {},
   "source": [
    "<h4>Identity</h4>"
   ]
  },
  {
   "cell_type": "code",
   "execution_count": 21,
   "metadata": {},
   "outputs": [],
   "source": [
    "newtype Identity a = Identity a deriving (Eq, Ord, Show)"
   ]
  },
  {
   "cell_type": "code",
   "execution_count": 22,
   "metadata": {},
   "outputs": [],
   "source": [
    "instance Arbitrary a => Arbitrary (Identity a) where\n",
    "    arbitrary = do\n",
    "        x <- arbitrary\n",
    "        return (Identity x)\n",
    "    \n",
    "instance Eq a => EqProp (Identity a) where\n",
    "    (=-=) = eq"
   ]
  },
  {
   "cell_type": "code",
   "execution_count": 23,
   "metadata": {},
   "outputs": [],
   "source": [
    "instance Functor Identity where\n",
    "    fmap f (Identity a) = Identity (f a)\n",
    "    \n",
    "instance Applicative Identity where\n",
    "    pure = Identity\n",
    "    (<*>) (Identity f) (Identity a) = Identity (f a)"
   ]
  },
  {
   "cell_type": "code",
   "execution_count": 24,
   "metadata": {},
   "outputs": [
    {
     "data": {
      "text/plain": [
       "[1,1,1,2,2,2,3,3,3]"
      ]
     },
     "metadata": {},
     "output_type": "display_data"
    }
   ],
   "source": [
    "xs = [1, 2, 3]\n",
    "ys = [9, 9, 9]\n",
    "\n",
    "const <$> xs <*> ys"
   ]
  },
  {
   "cell_type": "code",
   "execution_count": 25,
   "metadata": {},
   "outputs": [
    {
     "data": {
      "text/plain": [
       "Identity [1,2,3]"
      ]
     },
     "metadata": {},
     "output_type": "display_data"
    }
   ],
   "source": [
    "const <$> Identity xs <*> Identity ys"
   ]
  },
  {
   "cell_type": "code",
   "execution_count": 26,
   "metadata": {},
   "outputs": [
    {
     "data": {
      "text/plain": [
       "\n",
       "applicative:\n",
       "  identity:     +++ OK, passed 500 tests.\n",
       "  composition:  +++ OK, passed 500 tests.\n",
       "  homomorphism: +++ OK, passed 500 tests.\n",
       "  interchange:  +++ OK, passed 500 tests.\n",
       "  functor:      +++ OK, passed 500 tests."
      ]
     },
     "metadata": {},
     "output_type": "display_data"
    }
   ],
   "source": [
    "trigger :: Identity (String, String, String)\n",
    "trigger = undefined\n",
    "\n",
    "quickBatch (applicative trigger)"
   ]
  },
  {
   "cell_type": "markdown",
   "metadata": {},
   "source": [
    "<h4>Constant</h4>"
   ]
  },
  {
   "cell_type": "code",
   "execution_count": 27,
   "metadata": {},
   "outputs": [],
   "source": [
    "newtype Constant a b = Constant { getConstant :: a } deriving (Eq, Ord, Show)"
   ]
  },
  {
   "cell_type": "code",
   "execution_count": 28,
   "metadata": {},
   "outputs": [],
   "source": [
    "instance Arbitrary a => Arbitrary (Constant a b) where\n",
    "    arbitrary = do\n",
    "        a <- arbitrary\n",
    "        return (Constant a)\n",
    "    \n",
    "instance Eq a => EqProp (Constant a b) where\n",
    "    (=-=) = eq"
   ]
  },
  {
   "cell_type": "code",
   "execution_count": 29,
   "metadata": {},
   "outputs": [],
   "source": [
    "instance Functor (Constant a) where\n",
    "    fmap _ (Constant a) = Constant a"
   ]
  },
  {
   "cell_type": "code",
   "execution_count": 30,
   "metadata": {},
   "outputs": [],
   "source": [
    "instance Semigroup a => Semigroup (Constant a b) where\n",
    "    (<>) (Constant a) (Constant a') = Constant (a <> a')\n",
    "\n",
    "instance Monoid a => Monoid (Constant a b) where\n",
    "    mempty = Constant mempty\n",
    "    mappend = (<>)"
   ]
  },
  {
   "cell_type": "code",
   "execution_count": 31,
   "metadata": {},
   "outputs": [],
   "source": [
    "instance Monoid a => Applicative (Constant a) where\n",
    "    pure = mempty\n",
    "    (<*>) (Constant a) (Constant a') = Constant (a <> a')"
   ]
  },
  {
   "cell_type": "code",
   "execution_count": 32,
   "metadata": {},
   "outputs": [],
   "source": [
    "f = Constant (Sum 1)\n",
    "g = Constant (Sum 2)"
   ]
  },
  {
   "cell_type": "code",
   "execution_count": 33,
   "metadata": {},
   "outputs": [
    {
     "data": {
      "text/plain": [
       "\n",
       "applicative:\n",
       "  identity:     +++ OK, passed 500 tests.\n",
       "  composition:  +++ OK, passed 500 tests.\n",
       "  homomorphism: +++ OK, passed 500 tests.\n",
       "  interchange:  +++ OK, passed 500 tests.\n",
       "  functor:      +++ OK, passed 500 tests."
      ]
     },
     "metadata": {},
     "output_type": "display_data"
    }
   ],
   "source": [
    "trigger :: Constant (String, String, String) (String, String, String)\n",
    "trigger = undefined\n",
    "\n",
    "verboseBatch (applicative trigger)"
   ]
  },
  {
   "cell_type": "markdown",
   "metadata": {},
   "source": [
    "<h4>Safe Constructors Name</h4>"
   ]
  },
  {
   "cell_type": "code",
   "execution_count": 34,
   "metadata": {},
   "outputs": [],
   "source": [
    "validateLength :: Int -> String -> Maybe String\n",
    "validateLength maxLen s = if (length s > maxLen) then Nothing else Just s"
   ]
  },
  {
   "cell_type": "code",
   "execution_count": 35,
   "metadata": {},
   "outputs": [],
   "source": [
    "newtype Name = Name String deriving (Eq, Show)\n",
    "\n",
    "newtype Address = Address String deriving (Eq, Show)"
   ]
  },
  {
   "cell_type": "code",
   "execution_count": 36,
   "metadata": {},
   "outputs": [],
   "source": [
    "mkName :: String -> Maybe Name\n",
    "mkName s = fmap Name (validateLength 32 s)"
   ]
  },
  {
   "cell_type": "code",
   "execution_count": 37,
   "metadata": {},
   "outputs": [],
   "source": [
    "mkAddress :: String -> Maybe Address\n",
    "mkAddress a = fmap Address (validateLength 100 a)"
   ]
  },
  {
   "cell_type": "code",
   "execution_count": 38,
   "metadata": {},
   "outputs": [],
   "source": [
    "data Person = Person Name Address deriving (Eq, Show)"
   ]
  },
  {
   "cell_type": "code",
   "execution_count": 39,
   "metadata": {},
   "outputs": [],
   "source": [
    "mkPerson :: String -> String -> Maybe Person\n",
    "mkPerson n a = Person <$> mkName n <*> mkAddress a"
   ]
  },
  {
   "cell_type": "code",
   "execution_count": 40,
   "metadata": {},
   "outputs": [
    {
     "data": {
      "text/plain": [
       "Just (Person (Name \"Rohit\") (Address \"234567890123456789012345678901234567890123456789012345678901234567890123456789012345678901234567890\"))"
      ]
     },
     "metadata": {},
     "output_type": "display_data"
    }
   ],
   "source": [
    "mkPerson \"Rohit\" \"234567890123456789012345678901234567890123456789012345678901234567890123456789012345678901234567890\""
   ]
  },
  {
   "cell_type": "markdown",
   "metadata": {},
   "source": [
    "<h4>Safe Constructors Cow</h4>"
   ]
  },
  {
   "cell_type": "code",
   "execution_count": 41,
   "metadata": {},
   "outputs": [],
   "source": [
    "data Cow = Cow { name:: String, age:: Int, weight:: Int } deriving (Eq, Show)"
   ]
  },
  {
   "cell_type": "code",
   "execution_count": 42,
   "metadata": {},
   "outputs": [],
   "source": [
    "noEmpty :: String -> Maybe String\n",
    "noEmpty \"\" = Nothing\n",
    "noEmpty str = Just str"
   ]
  },
  {
   "cell_type": "code",
   "execution_count": 43,
   "metadata": {},
   "outputs": [],
   "source": [
    "noNegative :: Int -> Maybe Int\n",
    "noNegative n \n",
    "    | n >= 0     = Just n\n",
    "    | otherwise  = Nothing"
   ]
  },
  {
   "cell_type": "code",
   "execution_count": 44,
   "metadata": {},
   "outputs": [],
   "source": [
    "cowConstructor :: String -> Int -> Int -> Maybe Cow\n",
    "cowConstructor n a w = Cow <$> noEmpty n <*> noNegative a <*> noNegative w "
   ]
  },
  {
   "cell_type": "code",
   "execution_count": 45,
   "metadata": {},
   "outputs": [
    {
     "data": {
      "text/plain": [
       "Nothing"
      ]
     },
     "metadata": {},
     "output_type": "display_data"
    }
   ],
   "source": [
    "cowConstructor \"Rohit\" (-1) 2"
   ]
  },
  {
   "cell_type": "markdown",
   "metadata": {},
   "source": [
    "<h4>Listy</h4>"
   ]
  },
  {
   "cell_type": "code",
   "execution_count": 46,
   "metadata": {},
   "outputs": [],
   "source": [
    "data Listy a = Nil | Cons {head':: a, tail':: Listy a} deriving (Eq, Show)\n",
    "\n",
    "instance Arbitrary a => Arbitrary (Listy a) where\n",
    "    arbitrary = frequency [(1, pure Nil), (5, Cons <$> arbitrary <*> arbitrary)]\n",
    "    \n",
    "instance Eq a => EqProp (Listy a) where\n",
    "    (=-=) = eq"
   ]
  },
  {
   "cell_type": "code",
   "execution_count": 47,
   "metadata": {},
   "outputs": [],
   "source": [
    "instance Semigroup (Listy a) where\n",
    "    (<>) Nil ys = ys\n",
    "    (<>) (Cons x xs) ys = Cons x (xs <> ys)\n",
    "    \n",
    "instance Monoid (Listy a) where\n",
    "    mempty = Nil\n",
    "    mappend = (<>)"
   ]
  },
  {
   "cell_type": "code",
   "execution_count": 48,
   "metadata": {},
   "outputs": [],
   "source": [
    "instance Functor Listy where\n",
    "    fmap _ Nil = Nil\n",
    "    fmap f (Cons x xs) = Cons (f x) (fmap f xs)"
   ]
  },
  {
   "cell_type": "code",
   "execution_count": 49,
   "metadata": {},
   "outputs": [],
   "source": [
    "instance Applicative Listy where\n",
    "    pure x = Cons x Nil\n",
    "    (<*>) _ Nil = Nil\n",
    "    (<*>) Nil _ = Nil\n",
    "    (<*>) (Cons f fs) x = (f <$> x) <> (fs <*> x)"
   ]
  },
  {
   "cell_type": "code",
   "execution_count": 50,
   "metadata": {},
   "outputs": [
    {
     "data": {
      "text/plain": [
       "\n",
       "applicative:\n",
       "  identity:     +++ OK, passed 500 tests.\n",
       "  composition:  +++ OK, passed 500 tests.\n",
       "  homomorphism: +++ OK, passed 500 tests.\n",
       "  interchange:  +++ OK, passed 500 tests.\n",
       "  functor:      +++ OK, passed 500 tests."
      ]
     },
     "metadata": {},
     "output_type": "display_data"
    }
   ],
   "source": [
    "trigger :: Listy (String, String, String)\n",
    "trigger = undefined\n",
    "\n",
    "verboseBatch (applicative trigger)"
   ]
  },
  {
   "cell_type": "markdown",
   "metadata": {},
   "source": [
    "<h4>ZipListy</h4>"
   ]
  },
  {
   "cell_type": "code",
   "execution_count": 51,
   "metadata": {},
   "outputs": [],
   "source": [
    "newtype ZipListy a = ZipListy { getZipListy :: [a] } deriving (Eq, Show)"
   ]
  },
  {
   "cell_type": "code",
   "execution_count": 52,
   "metadata": {},
   "outputs": [],
   "source": [
    "instance Arbitrary a => Arbitrary (ZipListy a) where\n",
    "    arbitrary = ZipListy <$> arbitrary"
   ]
  },
  {
   "cell_type": "code",
   "execution_count": 53,
   "metadata": {},
   "outputs": [
    {
     "data": {
      "text/html": [
       "<style>/* Styles used for the Hoogle display in the pager */\n",
       ".hoogle-doc {\n",
       "display: block;\n",
       "padding-bottom: 1.3em;\n",
       "padding-left: 0.4em;\n",
       "}\n",
       ".hoogle-code {\n",
       "display: block;\n",
       "font-family: monospace;\n",
       "white-space: pre;\n",
       "}\n",
       ".hoogle-text {\n",
       "display: block;\n",
       "}\n",
       ".hoogle-name {\n",
       "color: green;\n",
       "font-weight: bold;\n",
       "}\n",
       ".hoogle-head {\n",
       "font-weight: bold;\n",
       "}\n",
       ".hoogle-sub {\n",
       "display: block;\n",
       "margin-left: 0.4em;\n",
       "}\n",
       ".hoogle-package {\n",
       "font-weight: bold;\n",
       "font-style: italic;\n",
       "}\n",
       ".hoogle-module {\n",
       "font-weight: bold;\n",
       "}\n",
       ".hoogle-class {\n",
       "font-weight: bold;\n",
       "}\n",
       ".get-type {\n",
       "color: green;\n",
       "font-weight: bold;\n",
       "font-family: monospace;\n",
       "display: block;\n",
       "white-space: pre-wrap;\n",
       "}\n",
       ".show-type {\n",
       "color: green;\n",
       "font-weight: bold;\n",
       "font-family: monospace;\n",
       "margin-left: 1em;\n",
       "}\n",
       ".mono {\n",
       "font-family: monospace;\n",
       "display: block;\n",
       "}\n",
       ".err-msg {\n",
       "color: red;\n",
       "font-style: italic;\n",
       "font-family: monospace;\n",
       "white-space: pre;\n",
       "display: block;\n",
       "}\n",
       "#unshowable {\n",
       "color: red;\n",
       "font-weight: bold;\n",
       "}\n",
       ".err-msg.in.collapse {\n",
       "padding-top: 0.7em;\n",
       "}\n",
       ".highlight-code {\n",
       "white-space: pre;\n",
       "font-family: monospace;\n",
       "}\n",
       ".suggestion-warning { \n",
       "font-weight: bold;\n",
       "color: rgb(200, 130, 0);\n",
       "}\n",
       ".suggestion-error { \n",
       "font-weight: bold;\n",
       "color: red;\n",
       "}\n",
       ".suggestion-name {\n",
       "font-weight: bold;\n",
       "}\n",
       "</style><span class='err-msg'>&lt;interactive&gt;:2:12: error:<br/>    • Could not deduce (Applicative ZipListy) arising from a use of ‘liftA2’<br/>      from the context: Semigroup a bound by the instance declaration at &lt;interactive&gt;:1:10-46<br/>    • In the expression: liftA2 (&lt;&gt;)<br/>      In an equation for ‘&lt;&gt;’: (&lt;&gt;) = liftA2 (&lt;&gt;)<br/>      In the instance declaration for ‘Semigroup (ZipListy a)’</span>"
      ],
      "text/plain": [
       "<interactive>:2:12: error:\n",
       "    • Could not deduce (Applicative ZipListy) arising from a use of ‘liftA2’\n",
       "      from the context: Semigroup a bound by the instance declaration at <interactive>:1:10-46\n",
       "    • In the expression: liftA2 (<>)\n",
       "      In an equation for ‘<>’: (<>) = liftA2 (<>)\n",
       "      In the instance declaration for ‘Semigroup (ZipListy a)’"
      ]
     },
     "metadata": {},
     "output_type": "display_data"
    }
   ],
   "source": [
    "instance Semigroup a => Semigroup (ZipListy a) where\n",
    "    (<>) = "
   ]
  },
  {
   "cell_type": "code",
   "execution_count": null,
   "metadata": {},
   "outputs": [],
   "source": []
  }
 ],
 "metadata": {
  "kernelspec": {
   "display_name": "Haskell",
   "language": "haskell",
   "name": "haskell"
  },
  "language_info": {
   "codemirror_mode": "ihaskell",
   "file_extension": ".hs",
   "name": "haskell",
   "pygments_lexer": "Haskell",
   "version": "8.4.4"
  }
 },
 "nbformat": 4,
 "nbformat_minor": 2
}
