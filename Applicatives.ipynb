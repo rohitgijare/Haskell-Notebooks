{
 "cells": [
  {
   "cell_type": "code",
   "execution_count": 89,
   "metadata": {},
   "outputs": [],
   "source": [
    "import Test.QuickCheck\n",
    "import Control.Applicative\n",
    "import Data.List (elemIndex)\n",
    "import Data.Monoid"
   ]
  },
  {
   "cell_type": "markdown",
   "metadata": {},
   "source": [
    "<h4>Tupley Type</h4>"
   ]
  },
  {
   "cell_type": "code",
   "execution_count": 3,
   "metadata": {},
   "outputs": [],
   "source": [
    "data Tupley a b = Tupley {first:: a, second:: b} deriving (Eq, Show)\n",
    "\n",
    "instance (Arbitrary a, Arbitrary b) => Arbitrary (Tupley a b) where\n",
    "    arbitrary = do\n",
    "        a <- arbitrary\n",
    "        b <- arbitrary\n",
    "        return (Tupley a b)"
   ]
  },
  {
   "cell_type": "code",
   "execution_count": 4,
   "metadata": {},
   "outputs": [],
   "source": [
    "instance (Semigroup a, Semigroup b) => Semigroup (Tupley a b) where\n",
    "    (<>) (Tupley a b) (Tupley a' b') = Tupley (a <> a') (b <> b')\n",
    "    \n",
    "instance (Monoid a, Monoid b) => Monoid (Tupley a b) where\n",
    "    mempty = Tupley mempty mempty\n",
    "    mappend = (<>)"
   ]
  },
  {
   "cell_type": "code",
   "execution_count": 9,
   "metadata": {},
   "outputs": [],
   "source": [
    "instance Functor (Tupley a) where\n",
    "    fmap f (Tupley a b) = Tupley a (f b)"
   ]
  },
  {
   "cell_type": "code",
   "execution_count": 11,
   "metadata": {},
   "outputs": [],
   "source": [
    "instance Monoid a => Applicative (Tupley a) where\n",
    "    pure = Tupley mempty\n",
    "    (Tupley u f) <*> (Tupley v x) = Tupley (u `mappend` v)  (f x)"
   ]
  },
  {
   "cell_type": "markdown",
   "metadata": {},
   "source": [
    "<h4>TypeCheck Exercises</h4>"
   ]
  },
  {
   "cell_type": "code",
   "execution_count": 22,
   "metadata": {},
   "outputs": [
    {
     "data": {
      "text/plain": [
       "True"
      ]
     },
     "metadata": {},
     "output_type": "display_data"
    }
   ],
   "source": [
    "added :: Maybe Integer\n",
    "added = fmap (+3) (lookup 3 $ zip [1, 2, 3] [4, 5, 6])\n",
    "added == Just 9"
   ]
  },
  {
   "cell_type": "code",
   "execution_count": 24,
   "metadata": {},
   "outputs": [
    {
     "data": {
      "text/plain": [
       "True"
      ]
     },
     "metadata": {},
     "output_type": "display_data"
    }
   ],
   "source": [
    "y :: Maybe Integer\n",
    "y = lookup 3 $ zip [1, 2, 3] [4, 5, 6]\n",
    "\n",
    "z :: Maybe Integer\n",
    "z = lookup 2 $ zip [1, 2, 3] [4, 5, 6]\n",
    "\n",
    "tupled :: Maybe (Integer, Integer)\n",
    "tupled = (,) <$> y <*> z\n",
    "\n",
    "tupled == Just (6, 5)"
   ]
  },
  {
   "cell_type": "code",
   "execution_count": 28,
   "metadata": {},
   "outputs": [
    {
     "data": {
      "text/plain": [
       "True"
      ]
     },
     "metadata": {},
     "output_type": "display_data"
    }
   ],
   "source": [
    "x :: Maybe Int\n",
    "x = elemIndex 3 [1, 2, 3, 4, 5]\n",
    "\n",
    "y :: Maybe Int\n",
    "y = elemIndex 4 [1, 2, 3, 4, 5]\n",
    "\n",
    "max' :: Int -> Int -> Int\n",
    "max' = max\n",
    "\n",
    "maxed :: Maybe Int\n",
    "maxed = liftA2 max' x y\n",
    "\n",
    "maxed == Just 3"
   ]
  },
  {
   "cell_type": "code",
   "execution_count": 53,
   "metadata": {},
   "outputs": [
    {
     "data": {
      "text/plain": [
       "True"
      ]
     },
     "metadata": {},
     "output_type": "display_data"
    }
   ],
   "source": [
    "xs = [1, 2, 3]\n",
    "ys = [4, 5, 6]\n",
    "\n",
    "x :: Maybe Integer\n",
    "x = lookup 3 $ zip xs ys\n",
    "\n",
    "y :: Maybe Integer\n",
    "y = lookup 2 $ zip xs ys\n",
    "\n",
    "summed :: Maybe Integer\n",
    "summed = pure sum <*> ((,) <$> x <*> y)\n",
    "\n",
    "summed == Just 5"
   ]
  },
  {
   "cell_type": "markdown",
   "metadata": {},
   "source": [
    "<h4>Identity</h4>"
   ]
  },
  {
   "cell_type": "code",
   "execution_count": 68,
   "metadata": {},
   "outputs": [],
   "source": [
    "newtype Identity a = Identity a deriving (Eq, Ord, Show)"
   ]
  },
  {
   "cell_type": "code",
   "execution_count": 69,
   "metadata": {},
   "outputs": [],
   "source": [
    "instance Functor Identity where\n",
    "    fmap f (Identity a) = Identity (f a)\n",
    "    \n",
    "instance Applicative Identity where\n",
    "    pure = Identity\n",
    "    (<*>) (Identity f) (Identity a) = Identity (f a)"
   ]
  },
  {
   "cell_type": "code",
   "execution_count": 70,
   "metadata": {},
   "outputs": [
    {
     "data": {
      "text/plain": [
       "[1,1,1,2,2,2,3,3,3]"
      ]
     },
     "metadata": {},
     "output_type": "display_data"
    }
   ],
   "source": [
    "xs = [1, 2, 3]\n",
    "ys = [9, 9, 9]\n",
    "\n",
    "const <$> xs <*> ys"
   ]
  },
  {
   "cell_type": "code",
   "execution_count": 71,
   "metadata": {},
   "outputs": [
    {
     "data": {
      "text/plain": [
       "Identity [1,2,3]"
      ]
     },
     "metadata": {},
     "output_type": "display_data"
    }
   ],
   "source": [
    "const <$> Identity xs <*> Identity ys"
   ]
  },
  {
   "cell_type": "markdown",
   "metadata": {},
   "source": [
    "<h4>Constant</h4>"
   ]
  },
  {
   "cell_type": "code",
   "execution_count": 78,
   "metadata": {},
   "outputs": [],
   "source": [
    "newtype Constant a b = Constant { getConstant :: a } deriving (Eq, Ord, Show)"
   ]
  },
  {
   "cell_type": "code",
   "execution_count": 79,
   "metadata": {},
   "outputs": [],
   "source": [
    "instance Functor (Constant a) where\n",
    "    fmap _ (Constant a) = Constant a"
   ]
  },
  {
   "cell_type": "code",
   "execution_count": 80,
   "metadata": {},
   "outputs": [],
   "source": [
    "instance Semigroup a => Semigroup (Constant a b) where\n",
    "    (<>) (Constant a) (Constant a') = Constant (a <> a')\n",
    "\n",
    "instance Monoid a => Monoid (Constant a b) where\n",
    "    mempty = Constant mempty\n",
    "    mappend = (<>)"
   ]
  },
  {
   "cell_type": "code",
   "execution_count": 86,
   "metadata": {},
   "outputs": [],
   "source": [
    "instance Monoid a => Applicative (Constant a) where\n",
    "    pure = mempty\n",
    "    (<*>) (Constant a) (Constant a') = Constant (a <> a')"
   ]
  },
  {
   "cell_type": "code",
   "execution_count": 91,
   "metadata": {},
   "outputs": [],
   "source": [
    "f = Constant (Sum 1)\n",
    "g = Constant (Sum 2)"
   ]
  },
  {
   "cell_type": "code",
   "execution_count": 92,
   "metadata": {},
   "outputs": [
    {
     "data": {
      "text/plain": [
       "Constant {getConstant = Sum {getSum = 3}}"
      ]
     },
     "metadata": {},
     "output_type": "display_data"
    }
   ],
   "source": [
    "f <*> g"
   ]
  },
  {
   "cell_type": "markdown",
   "metadata": {},
   "source": [
    "<h4>Safe Constructors Name</h4>"
   ]
  },
  {
   "cell_type": "code",
   "execution_count": 97,
   "metadata": {},
   "outputs": [],
   "source": [
    "validateLength :: Int -> String -> Maybe String\n",
    "validateLength maxLen s = if (length s > maxLen) then Nothing else Just s"
   ]
  },
  {
   "cell_type": "code",
   "execution_count": 98,
   "metadata": {},
   "outputs": [],
   "source": [
    "newtype Name = Name String deriving (Eq, Show)\n",
    "\n",
    "newtype Address = Address String deriving (Eq, Show)"
   ]
  },
  {
   "cell_type": "code",
   "execution_count": 100,
   "metadata": {},
   "outputs": [],
   "source": [
    "mkName :: String -> Maybe Name\n",
    "mkName s = fmap Name (validateLength 32 s)"
   ]
  },
  {
   "cell_type": "code",
   "execution_count": 103,
   "metadata": {},
   "outputs": [],
   "source": [
    "mkAddress :: String -> Maybe Address\n",
    "mkAddress a = fmap Address (validateLength 100 a)"
   ]
  },
  {
   "cell_type": "code",
   "execution_count": 107,
   "metadata": {},
   "outputs": [],
   "source": [
    "data Person = Person Name Address deriving (Eq, Show)"
   ]
  },
  {
   "cell_type": "code",
   "execution_count": 109,
   "metadata": {},
   "outputs": [],
   "source": [
    "mkPerson :: String -> String -> Maybe Person\n",
    "mkPerson n a = Person <$> mkName n <*> mkAddress a"
   ]
  },
  {
   "cell_type": "code",
   "execution_count": 113,
   "metadata": {},
   "outputs": [
    {
     "data": {
      "text/plain": [
       "Just (Person (Name \"Rohit\") (Address \"234567890123456789012345678901234567890123456789012345678901234567890123456789012345678901234567890\"))"
      ]
     },
     "metadata": {},
     "output_type": "display_data"
    }
   ],
   "source": [
    "mkPerson \"Rohit\" \"234567890123456789012345678901234567890123456789012345678901234567890123456789012345678901234567890\""
   ]
  },
  {
   "cell_type": "markdown",
   "metadata": {},
   "source": [
    "<h4>Safe Constructors Cow</h4>"
   ]
  },
  {
   "cell_type": "code",
   "execution_count": 115,
   "metadata": {},
   "outputs": [],
   "source": [
    "data Cow = Cow { name:: String, age:: Int, weight:: Int } deriving (Eq, Show)"
   ]
  },
  {
   "cell_type": "code",
   "execution_count": 116,
   "metadata": {},
   "outputs": [],
   "source": [
    "noEmpty :: String -> Maybe String\n",
    "noEmpty \"\" = Nothing\n",
    "noEmpty str = Just str"
   ]
  },
  {
   "cell_type": "code",
   "execution_count": 118,
   "metadata": {},
   "outputs": [],
   "source": [
    "noNegative :: Int -> Maybe Int\n",
    "noNegative n \n",
    "    | n >= 0     = Just n\n",
    "    | otherwise  = Nothing"
   ]
  },
  {
   "cell_type": "code",
   "execution_count": 119,
   "metadata": {},
   "outputs": [],
   "source": [
    "cowConstructor :: String -> Int -> Int -> Maybe Cow\n",
    "cowConstructor n a w = Cow <$> noEmpty n <*> noNegative a <*> noNegative w "
   ]
  },
  {
   "cell_type": "code",
   "execution_count": 121,
   "metadata": {},
   "outputs": [
    {
     "data": {
      "text/plain": [
       "Nothing"
      ]
     },
     "metadata": {},
     "output_type": "display_data"
    }
   ],
   "source": [
    "cowConstructor \"Rohit\" (-1) 2"
   ]
  },
  {
   "cell_type": "code",
   "execution_count": null,
   "metadata": {},
   "outputs": [],
   "source": []
  }
 ],
 "metadata": {
  "kernelspec": {
   "display_name": "Haskell",
   "language": "haskell",
   "name": "haskell"
  },
  "language_info": {
   "codemirror_mode": "ihaskell",
   "file_extension": ".hs",
   "name": "haskell",
   "pygments_lexer": "Haskell",
   "version": "8.4.4"
  }
 },
 "nbformat": 4,
 "nbformat_minor": 2
}
