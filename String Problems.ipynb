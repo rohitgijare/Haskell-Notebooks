{
 "cells": [
  {
   "cell_type": "markdown",
   "metadata": {},
   "source": [
    "<h2>Caeser's Cipher</h2>"
   ]
  },
  {
   "cell_type": "code",
   "execution_count": 102,
   "metadata": {},
   "outputs": [],
   "source": [
    "import Data.Char\n",
    "import Data.List"
   ]
  },
  {
   "cell_type": "code",
   "execution_count": 110,
   "metadata": {},
   "outputs": [],
   "source": [
    "transpose :: Char -> Int -> Char\n",
    "transpose ' ' _ = ' '\n",
    "transpose c n\n",
    "    | x < 0 = chr ((26 - ((abs x) `rem` 26)) + base)\n",
    "    | otherwise = chr ((x `mod` 26) + base)\n",
    "    where base = if isUpper c then ord 'A' else ord 'a'\n",
    "          x = ord c + n - base"
   ]
  },
  {
   "cell_type": "code",
   "execution_count": 111,
   "metadata": {},
   "outputs": [],
   "source": [
    "caesersEncrypt :: String -> Int -> String\n",
    "caesersEncrypt s n = map (flip transpose n) s"
   ]
  },
  {
   "cell_type": "code",
   "execution_count": 112,
   "metadata": {},
   "outputs": [],
   "source": [
    "caesersDecrypt :: String -> Int -> String\n",
    "caesersDecrypt s n = map (flip transpose (-n)) s"
   ]
  },
  {
   "cell_type": "markdown",
   "metadata": {},
   "source": [
    "<h2>Vignere Cipher</h2>"
   ]
  },
  {
   "cell_type": "code",
   "execution_count": 113,
   "metadata": {},
   "outputs": [],
   "source": [
    "findOffset :: String -> [Int]\n",
    "findOffset \"\" = []\n",
    "findOffset s = map (\\x -> if x == ' ' then 0 else (ord x) - (ord 'A')) s"
   ]
  },
  {
   "cell_type": "code",
   "execution_count": 114,
   "metadata": {},
   "outputs": [],
   "source": [
    "next :: String -> Int -> String\n",
    "next \"\" _ = \"A\"\n",
    "next s i = [s !! (i `mod` (length s))]"
   ]
  },
  {
   "cell_type": "code",
   "execution_count": 115,
   "metadata": {},
   "outputs": [],
   "source": [
    "substituteWithKey :: String -> String -> String\n",
    "substituteWithKey \"\" _ = \"\"\n",
    "substituteWithKey a \"\" = a\n",
    "substituteWithKey a s = go a s 0 \"\" where\n",
    "    go :: String -> String -> Int -> String -> String\n",
    "    go [] _ _ stringSoFar = stringSoFar\n",
    "    go (x:xs) s i stringSoFar\n",
    "        | x == ' ' = go xs s i (stringSoFar ++ \" \")\n",
    "        | otherwise = go xs s (i+1) (stringSoFar ++ (next s i))"
   ]
  },
  {
   "cell_type": "code",
   "execution_count": 116,
   "metadata": {},
   "outputs": [
    {
     "data": {
      "text/plain": [
       "\"MPPR AE OYWY\""
      ]
     },
     "metadata": {},
     "output_type": "display_data"
    }
   ],
   "source": [
    "s = \"MEET AT DAWN\"\n",
    "key = \"ALLY\"\n",
    "\n",
    "zipWith transpose s (findOffset (substituteWithKey s key))"
   ]
  },
  {
   "cell_type": "markdown",
   "metadata": {},
   "source": [
    "<h2>Hutton's Razor</h2>"
   ]
  },
  {
   "cell_type": "code",
   "execution_count": 118,
   "metadata": {},
   "outputs": [],
   "source": [
    "data Expr = Lit Integer | Add Expr Expr"
   ]
  },
  {
   "cell_type": "code",
   "execution_count": 120,
   "metadata": {},
   "outputs": [],
   "source": [
    "eval :: Expr -> Integer\n",
    "eval (Lit i) = i\n",
    "eval (Add e1 e2) = (+) (eval e1) (eval e2)"
   ]
  },
  {
   "cell_type": "code",
   "execution_count": 122,
   "metadata": {},
   "outputs": [],
   "source": [
    "printExpr :: Expr -> String\n",
    "printExpr (Lit i) = show i\n",
    "printExpr (Add e1 e2) = printExpr e1 ++ \" + \" ++ printExpr e2"
   ]
  },
  {
   "cell_type": "code",
   "execution_count": 124,
   "metadata": {},
   "outputs": [],
   "source": [
    "a1 = Add (Lit 9001) (Lit 1)\n",
    "a2 = Add a1 (Lit 20001)\n",
    "a3 = Add (Lit 1) a2"
   ]
  },
  {
   "cell_type": "code",
   "execution_count": 125,
   "metadata": {},
   "outputs": [
    {
     "data": {
      "text/plain": [
       "\"1 + 9001 + 1 + 20001\""
      ]
     },
     "metadata": {},
     "output_type": "display_data"
    }
   ],
   "source": [
    "printExpr a3"
   ]
  },
  {
   "cell_type": "code",
   "execution_count": null,
   "metadata": {},
   "outputs": [],
   "source": []
  }
 ],
 "metadata": {
  "kernelspec": {
   "display_name": "Haskell",
   "language": "haskell",
   "name": "haskell"
  },
  "language_info": {
   "codemirror_mode": "ihaskell",
   "file_extension": ".hs",
   "name": "haskell",
   "pygments_lexer": "Haskell",
   "version": "8.4.4"
  }
 },
 "nbformat": 4,
 "nbformat_minor": 2
}
