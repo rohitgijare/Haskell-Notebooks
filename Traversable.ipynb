{
 "cells": [
  {
   "cell_type": "code",
   "execution_count": 1,
   "metadata": {},
   "outputs": [],
   "source": [
    "import Test.QuickCheck\n",
    "import Test.QuickCheck.Checkers\n",
    "import Test.QuickCheck.Classes"
   ]
  },
  {
   "cell_type": "markdown",
   "metadata": {},
   "source": [
    "<h4><i>Axing tedious code</i></h4>"
   ]
  },
  {
   "cell_type": "code",
   "execution_count": null,
   "metadata": {},
   "outputs": [],
   "source": [
    "data Query = Query\n",
    "data SomeObj = SomeObj\n",
    "data IoOnlyObj = IoOnlyObj\n",
    "data Err = Err"
   ]
  },
  {
   "cell_type": "code",
   "execution_count": null,
   "metadata": {},
   "outputs": [],
   "source": [
    "decodeFn :: String -> Either Err SomeObj\n",
    "decodeFn = undefined\n",
    "\n",
    "fetchFn :: Query -> IO [String]\n",
    "fetchFn = undefined\n",
    "\n",
    "makeIoOnlyObj :: [SomeObj] -> IO [(SomeObj, IoOnlyObj)]\n",
    "makeIoOnlyObj = undefined"
   ]
  },
  {
   "cell_type": "code",
   "execution_count": null,
   "metadata": {},
   "outputs": [],
   "source": [
    "pipelineQuery :: Query -> IO (Either Err [(SomeObj, IoOnlyObj)])\n",
    "pipelineQuery query = do\n",
    "    a <- fetchFn query\n",
    "    case sequence (map decodeFn a) of\n",
    "        (Left err) -> return $ Left err\n",
    "        (Right res) -> do\n",
    "            a <- makeIoOnlyObj res\n",
    "            return $ Right a"
   ]
  },
  {
   "cell_type": "code",
   "execution_count": null,
   "metadata": {},
   "outputs": [],
   "source": [
    "pipelineQuery' :: Query -> IO (Either Err [(SomeObj, IoOnlyObj)])\n",
    "pipelineQuery' = ((traverse makeIoOnlyObj . traverse decodeFn) =<<) . fetchFn"
   ]
  },
  {
   "cell_type": "markdown",
   "metadata": {},
   "source": [
    "<h4>Http Clients</h4>"
   ]
  },
  {
   "cell_type": "code",
   "execution_count": null,
   "metadata": {},
   "outputs": [],
   "source": [
    "import Data.ByteString.Lazy hiding (map)\n",
    "import Network.Wreq"
   ]
  },
  {
   "cell_type": "code",
   "execution_count": null,
   "metadata": {},
   "outputs": [],
   "source": [
    "urls :: [String]\n",
    "urls = [ \"http://httpbin.org/ip\"\n",
    "        ,\"http://httpbin.org/bytes/5\"]"
   ]
  },
  {
   "cell_type": "code",
   "execution_count": null,
   "metadata": {},
   "outputs": [],
   "source": [
    "mappingGet :: [IO (Response ByteString)]\n",
    "mappingGet = map get urls"
   ]
  },
  {
   "cell_type": "code",
   "execution_count": null,
   "metadata": {},
   "outputs": [],
   "source": [
    "traversedUrls :: IO [Response ByteString]\n",
    "traversedUrls = traverse get urls"
   ]
  },
  {
   "cell_type": "markdown",
   "metadata": {},
   "source": [
    "<h4>Exercises</h4>"
   ]
  },
  {
   "cell_type": "code",
   "execution_count": null,
   "metadata": {},
   "outputs": [],
   "source": [
    "import Data.Functor.Identity\n",
    "import Data.Functor.Constant\n",
    "import Data.Monoid"
   ]
  },
  {
   "cell_type": "code",
   "execution_count": null,
   "metadata": {},
   "outputs": [],
   "source": [
    "traverse (Identity . (+1)) [1..3]"
   ]
  },
  {
   "cell_type": "code",
   "execution_count": null,
   "metadata": {},
   "outputs": [],
   "source": [
    "xs' = [1..5]\n",
    "xs = fmap Sum xs'\n",
    "traverse (Constant . (+1)) xs"
   ]
  },
  {
   "cell_type": "markdown",
   "metadata": {},
   "source": [
    "<h4>Either synonym</h4>"
   ]
  },
  {
   "cell_type": "code",
   "execution_count": null,
   "metadata": {},
   "outputs": [],
   "source": [
    "data Sum a b = First a | Second b deriving (Eq, Ord, Show)\n",
    "\n",
    "instance (Arbitrary a, Arbitrary b) => Arbitrary (Sum a b) where\n",
    "    arbitrary = frequency [(1, First <$> arbitrary), (3, Second <$> arbitrary)]\n",
    "    \n",
    "instance (Eq a, Eq b) => EqProp (Sum a b) where\n",
    "    (=-=) = eq\n",
    "\n",
    "instance Functor (Sum a) where\n",
    "    fmap _ (First x) = First x\n",
    "    fmap f (Second y) = Second (f y)\n",
    "    \n",
    "instance Applicative (Sum a) where\n",
    "    pure = Second\n",
    "    First e <*> _ = First e\n",
    "    _ <*> First x = First x\n",
    "    Second f <*> y = fmap f y"
   ]
  },
  {
   "cell_type": "code",
   "execution_count": null,
   "metadata": {},
   "outputs": [],
   "source": [
    "instance Foldable (Sum a) where\n",
    "    foldMap _ (First _) = mempty\n",
    "    foldMap f (Second y) = f y\n",
    "    \n",
    "    foldr _ z (First _) = z\n",
    "    foldr f z (Second y) = f y z\n",
    "    \n",
    "instance Traversable (Sum a) where\n",
    "    traverse _ (First x) = pure (First x)\n",
    "    traverse f (Second y) = Second <$> f y"
   ]
  },
  {
   "cell_type": "code",
   "execution_count": null,
   "metadata": {},
   "outputs": [],
   "source": [
    "trigger :: Sum (String, String, String) (String, String, String)\n",
    "trigger = undefined\n",
    "\n",
    "quickBatch (functor trigger)\n",
    "quickBatch (applicative trigger)\n",
    "quickBatch (traversable trigger)"
   ]
  },
  {
   "cell_type": "markdown",
   "metadata": {},
   "source": [
    "<h4>Tuple Synonym</h4>"
   ]
  },
  {
   "cell_type": "code",
   "execution_count": null,
   "metadata": {},
   "outputs": [],
   "source": [
    "data Tupley a b = Tupley {first:: a, second:: b} deriving (Eq, Show)\n",
    "\n",
    "instance (Arbitrary a, Arbitrary b) => Arbitrary (Tupley a b) where\n",
    "    arbitrary = do\n",
    "        a <- arbitrary\n",
    "        b <- arbitrary\n",
    "        return (Tupley a b)\n",
    "        \n",
    "instance (Eq a, Eq b) => EqProp (Tupley a b) where\n",
    "    (=-=) = eq"
   ]
  },
  {
   "cell_type": "code",
   "execution_count": null,
   "metadata": {},
   "outputs": [],
   "source": [
    "instance Functor (Tupley a) where\n",
    "    fmap f (Tupley x y) = Tupley x (f y)\n",
    "    \n",
    "instance Monoid a => Applicative (Tupley a) where\n",
    "    pure x = Tupley mempty x\n",
    "    (<*>) (Tupley fx fy) (Tupley x y) = Tupley (fx <> x) (fy y)"
   ]
  },
  {
   "cell_type": "code",
   "execution_count": null,
   "metadata": {},
   "outputs": [],
   "source": [
    "instance Foldable (Tupley a) where\n",
    "    foldMap f (Tupley a b) = f b\n",
    "    foldr f acc (Tupley a b) = f b acc\n",
    "    \n",
    "instance Traversable (Tupley a) where\n",
    "    traverse f (Tupley x y) = (Tupley x) <$> f y"
   ]
  },
  {
   "cell_type": "code",
   "execution_count": null,
   "metadata": {},
   "outputs": [],
   "source": [
    "trigger :: Tupley (String, String, String) (String, String, String)\n",
    "trigger = undefined\n",
    "\n",
    "quickBatch (functor trigger)\n",
    "quickBatch (applicative trigger)\n",
    "quickBatch (traversable trigger)"
   ]
  },
  {
   "cell_type": "markdown",
   "metadata": {},
   "source": [
    "<h4>Identity</h4>"
   ]
  },
  {
   "cell_type": "code",
   "execution_count": null,
   "metadata": {},
   "outputs": [],
   "source": [
    "newtype Identity a = Identity a deriving (Eq, Ord, Show)\n",
    "\n",
    "instance Arbitrary a => Arbitrary (Identity a) where\n",
    "    arbitrary = Identity <$> arbitrary\n",
    "    \n",
    "instance Eq a => EqProp (Identity a) where\n",
    "    (=-=) = eq"
   ]
  },
  {
   "cell_type": "code",
   "execution_count": null,
   "metadata": {},
   "outputs": [],
   "source": [
    "instance Functor Identity where\n",
    "    fmap f (Identity a) = Identity (f a)\n",
    "    \n",
    "instance Foldable Identity where\n",
    "    foldMap f (Identity a) = f a\n",
    "    foldr f b (Identity a) = f a b\n",
    "    \n",
    "instance Traversable Identity where\n",
    "    traverse f (Identity a) = Identity <$> f a"
   ]
  },
  {
   "cell_type": "code",
   "execution_count": null,
   "metadata": {},
   "outputs": [],
   "source": [
    "trigger :: Identity (String, String, String)\n",
    "trigger = undefined\n",
    "\n",
    "quickBatch (functor trigger)\n",
    "quickBatch (traversable trigger)"
   ]
  },
  {
   "cell_type": "markdown",
   "metadata": {},
   "source": [
    "<h4>Listy</h4>"
   ]
  },
  {
   "cell_type": "code",
   "execution_count": null,
   "metadata": {},
   "outputs": [],
   "source": [
    "data Listy a = Nil | Cons {head':: a, tail':: Listy a} deriving (Eq, Show)\n",
    "\n",
    "instance Arbitrary a => Arbitrary (Listy a) where\n",
    "    arbitrary = frequency [(1, pure Nil), (5, Cons <$> arbitrary <*> arbitrary)]\n",
    "    \n",
    "instance Eq a => EqProp (Listy a) where\n",
    "    (=-=) = eq"
   ]
  },
  {
   "cell_type": "code",
   "execution_count": null,
   "metadata": {},
   "outputs": [],
   "source": [
    "instance Functor Listy where\n",
    "    fmap _ Nil = Nil\n",
    "    fmap f (Cons x xs) = Cons (f x) (fmap f xs)\n",
    "    \n",
    "instance Foldable Listy where\n",
    "    foldMap _ Nil = mempty\n",
    "    foldMap f (Cons x xs) = f x <> foldMap f xs\n",
    "    \n",
    "    foldr _ b Nil = b\n",
    "    foldr f b (Cons x xs) = f x (foldr f b xs)\n",
    "    \n",
    "instance Traversable Listy where\n",
    "    traverse _ Nil = pure Nil\n",
    "    traverse f (Cons x xs) = Cons <$> f x <*> traverse f xs"
   ]
  },
  {
   "cell_type": "code",
   "execution_count": null,
   "metadata": {},
   "outputs": [],
   "source": [
    "trigger :: Listy (String, String, String)\n",
    "trigger = undefined\n",
    "\n",
    "quickBatch (functor trigger)\n",
    "quickBatch (traversable trigger)"
   ]
  },
  {
   "cell_type": "markdown",
   "metadata": {},
   "source": [
    "<h4>Big and Bigger</h4>"
   ]
  },
  {
   "cell_type": "code",
   "execution_count": null,
   "metadata": {},
   "outputs": [],
   "source": [
    "data Big a b = Big a b b deriving (Eq, Show)\n",
    "\n",
    "instance (Arbitrary a, Arbitrary b) => Arbitrary (Big a b) where\n",
    "    arbitrary = do\n",
    "        a <- arbitrary\n",
    "        b <- arbitrary\n",
    "        return (Big a b b)\n",
    "        \n",
    "instance (Eq a, Eq b) => EqProp (Big a b) where\n",
    "    (=-=) = eq"
   ]
  },
  {
   "cell_type": "code",
   "execution_count": null,
   "metadata": {},
   "outputs": [],
   "source": [
    "instance Functor (Big a) where\n",
    "    fmap f (Big a b b') = Big a (f b) (f b')\n",
    "    \n",
    "instance Foldable (Big a) where\n",
    "    foldMap f (Big a b b') = (f b) <> (f b')\n",
    "    foldr f acc (Big a b b') = f b (f b' acc)\n",
    "    \n",
    "instance Traversable (Big a) where\n",
    "    traverse f (Big a b b') = Big a <$> f b <*> f b'"
   ]
  },
  {
   "cell_type": "code",
   "execution_count": null,
   "metadata": {},
   "outputs": [],
   "source": [
    "trigger :: Big String (String, String, String)\n",
    "trigger = undefined\n",
    "\n",
    "quickBatch (functor trigger)\n",
    "quickBatch (traversable trigger)"
   ]
  },
  {
   "cell_type": "markdown",
   "metadata": {},
   "source": [
    "<h4>S</h4>"
   ]
  },
  {
   "cell_type": "code",
   "execution_count": null,
   "metadata": {},
   "outputs": [],
   "source": [
    "data S n a = S (n a) a deriving (Eq, Show)\n",
    "\n",
    "instance (Functor n, Arbitrary (n a), Arbitrary a) => Arbitrary (S n a) where\n",
    "    arbitrary = S <$> arbitrary <*> arbitrary\n",
    "    \n",
    "instance (Applicative n, Testable (n Property), EqProp a) => EqProp (S n a) where\n",
    "    (S x y) =-= (S p q) = (property $ (=-=) <$> x <*> p) .&. (y =-= q)"
   ]
  },
  {
   "cell_type": "code",
   "execution_count": null,
   "metadata": {},
   "outputs": [],
   "source": [
    "instance Functor n => Functor (S n) where\n",
    "    fmap f (S x y) = S (fmap f x) (f y)"
   ]
  },
  {
   "cell_type": "code",
   "execution_count": null,
   "metadata": {},
   "outputs": [],
   "source": [
    "functorIdentity :: (Functor f, Eq (f a)) => f a -> Bool\n",
    "functorIdentity f = fmap id f == f\n",
    "\n",
    "functorCompose :: (Functor f, Eq (f c)) =>\n",
    "                    (a -> b) -> (b -> c) -> f a -> Bool\n",
    "functorCompose f g x = fmap g (fmap f x) == fmap (g.f) x"
   ]
  },
  {
   "cell_type": "code",
   "execution_count": null,
   "metadata": {},
   "outputs": [],
   "source": [
    "f :: S [] String -> Bool\n",
    "f = functorIdentity\n",
    "\n",
    "quickCheck f\n",
    "\n",
    "c = functorCompose (++ \"HI\") ((++) \"Bye\")\n",
    "li x = c (x :: S [] String)\n",
    "\n",
    "quickCheck li"
   ]
  },
  {
   "cell_type": "code",
   "execution_count": null,
   "metadata": {},
   "outputs": [],
   "source": [
    "instance Foldable n => Foldable (S n) where\n",
    "    foldMap f (S x y) = f y <> foldMap f x "
   ]
  },
  {
   "cell_type": "code",
   "execution_count": null,
   "metadata": {},
   "outputs": [],
   "source": [
    "instance Traversable n => Traversable (S n) where\n",
    "    traverse f (S x y) = S <$> traverse f x <*> f y"
   ]
  },
  {
   "cell_type": "markdown",
   "metadata": {},
   "source": [
    "<h4>Tree</h4>"
   ]
  },
  {
   "cell_type": "code",
   "execution_count": 2,
   "metadata": {},
   "outputs": [],
   "source": [
    "data Tree a = Empty | Leaf a | Node (Tree a) a (Tree a) deriving (Eq, Show)"
   ]
  },
  {
   "cell_type": "code",
   "execution_count": 3,
   "metadata": {},
   "outputs": [],
   "source": [
    "instance Arbitrary a => Arbitrary (Tree a) where\n",
    "  arbitrary = genTree\n",
    "\n",
    "genTree :: Arbitrary a => Gen (Tree a)\n",
    "genTree = do\n",
    "  x <- arbitrary\n",
    "  n <- genTree\n",
    "  n' <- genTree\n",
    "  frequency [ (1, return Empty)\n",
    "            , (2, return $ Leaf x)\n",
    "            , (2, return $ Node n x n') ]\n",
    "    \n",
    "instance Eq a => EqProp (Tree a) where\n",
    "    (=-=) = eq"
   ]
  },
  {
   "cell_type": "code",
   "execution_count": 4,
   "metadata": {},
   "outputs": [],
   "source": [
    "instance Functor Tree where\n",
    "    fmap _ Empty = Empty\n",
    "    fmap f (Leaf a) = Leaf (f a)\n",
    "    fmap f (Node lc a rc) = Node (f <$> lc) (f a) (f <$> rc)"
   ]
  },
  {
   "cell_type": "code",
   "execution_count": 12,
   "metadata": {},
   "outputs": [],
   "source": [
    "instance Foldable Tree where\n",
    "    foldMap f Empty = mempty\n",
    "    foldMap f (Leaf a) = f a\n",
    "    foldMap f (Node lc a rc) = foldMap f lc <> f a <> foldMap f rc\n",
    "    \n",
    "    foldr f b Empty = b\n",
    "    foldr f b (Leaf a) = f a b\n",
    "    foldr f b (Node lc a rc) = f a (foldr f (foldr f b rc) lc)"
   ]
  },
  {
   "cell_type": "code",
   "execution_count": 15,
   "metadata": {},
   "outputs": [],
   "source": [
    "instance Traversable Tree where\n",
    "    traverse f Empty = pure Empty\n",
    "    traverse f (Leaf a) = Leaf <$> f a\n",
    "    traverse f (Node lc a rc) = Node <$> traverse f lc <*> f a <*> traverse f rc"
   ]
  },
  {
   "cell_type": "code",
   "execution_count": 16,
   "metadata": {},
   "outputs": [
    {
     "data": {
      "text/plain": [
       "\n",
       "functor:\n",
       "  identity: +++ OK, passed 500 tests.\n",
       "  compose:  +++ OK, passed 500 tests."
      ]
     },
     "metadata": {},
     "output_type": "display_data"
    },
    {
     "data": {
      "text/plain": [
       "\n",
       "traversable:\n",
       "  fmap:    +++ OK, passed 500 tests.\n",
       "  foldMap: +++ OK, passed 500 tests."
      ]
     },
     "metadata": {},
     "output_type": "display_data"
    }
   ],
   "source": [
    "trigger :: Tree (String, String, String)\n",
    "trigger = undefined\n",
    "\n",
    "quickBatch (functor trigger)\n",
    "quickBatch (traversable trigger)"
   ]
  },
  {
   "cell_type": "code",
   "execution_count": 13,
   "metadata": {},
   "outputs": [
    {
     "data": {
      "text/html": [
       "<style>/* Styles used for the Hoogle display in the pager */\n",
       ".hoogle-doc {\n",
       "display: block;\n",
       "padding-bottom: 1.3em;\n",
       "padding-left: 0.4em;\n",
       "}\n",
       ".hoogle-code {\n",
       "display: block;\n",
       "font-family: monospace;\n",
       "white-space: pre;\n",
       "}\n",
       ".hoogle-text {\n",
       "display: block;\n",
       "}\n",
       ".hoogle-name {\n",
       "color: green;\n",
       "font-weight: bold;\n",
       "}\n",
       ".hoogle-head {\n",
       "font-weight: bold;\n",
       "}\n",
       ".hoogle-sub {\n",
       "display: block;\n",
       "margin-left: 0.4em;\n",
       "}\n",
       ".hoogle-package {\n",
       "font-weight: bold;\n",
       "font-style: italic;\n",
       "}\n",
       ".hoogle-module {\n",
       "font-weight: bold;\n",
       "}\n",
       ".hoogle-class {\n",
       "font-weight: bold;\n",
       "}\n",
       ".get-type {\n",
       "color: green;\n",
       "font-weight: bold;\n",
       "font-family: monospace;\n",
       "display: block;\n",
       "white-space: pre-wrap;\n",
       "}\n",
       ".show-type {\n",
       "color: green;\n",
       "font-weight: bold;\n",
       "font-family: monospace;\n",
       "margin-left: 1em;\n",
       "}\n",
       ".mono {\n",
       "font-family: monospace;\n",
       "display: block;\n",
       "}\n",
       ".err-msg {\n",
       "color: red;\n",
       "font-style: italic;\n",
       "font-family: monospace;\n",
       "white-space: pre;\n",
       "display: block;\n",
       "}\n",
       "#unshowable {\n",
       "color: red;\n",
       "font-weight: bold;\n",
       "}\n",
       ".err-msg.in.collapse {\n",
       "padding-top: 0.7em;\n",
       "}\n",
       ".highlight-code {\n",
       "white-space: pre;\n",
       "font-family: monospace;\n",
       "}\n",
       ".suggestion-warning { \n",
       "font-weight: bold;\n",
       "color: rgb(200, 130, 0);\n",
       "}\n",
       ".suggestion-error { \n",
       "font-weight: bold;\n",
       "color: red;\n",
       "}\n",
       ".suggestion-name {\n",
       "font-weight: bold;\n",
       "}\n",
       "</style><span class='get-type'>traverse :: forall (t :: * -> *) (f :: * -> *) a b. (Traversable t, Applicative f) => (a -> f b) -> t a -> f (t b)</span>"
      ],
      "text/plain": [
       "traverse :: forall (t :: * -> *) (f :: * -> *) a b. (Traversable t, Applicative f) => (a -> f b) -> t a -> f (t b)"
      ]
     },
     "metadata": {},
     "output_type": "display_data"
    }
   ],
   "source": [
    ":t traverse"
   ]
  },
  {
   "cell_type": "code",
   "execution_count": 14,
   "metadata": {},
   "outputs": [
    {
     "data": {
      "text/plain": [
       "Just [1,2,3]"
      ]
     },
     "metadata": {},
     "output_type": "display_data"
    }
   ],
   "source": [
    "traverse Just [1, 2, 3]"
   ]
  },
  {
   "cell_type": "code",
   "execution_count": null,
   "metadata": {},
   "outputs": [],
   "source": []
  }
 ],
 "metadata": {
  "kernelspec": {
   "display_name": "Haskell",
   "language": "haskell",
   "name": "haskell"
  },
  "language_info": {
   "codemirror_mode": "ihaskell",
   "file_extension": ".hs",
   "name": "haskell",
   "pygments_lexer": "Haskell",
   "version": "8.4.4"
  }
 },
 "nbformat": 4,
 "nbformat_minor": 2
}
