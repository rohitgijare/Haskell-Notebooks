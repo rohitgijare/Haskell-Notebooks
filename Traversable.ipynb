{
 "cells": [
  {
   "cell_type": "markdown",
   "metadata": {},
   "source": [
    "<h4><i>Axing tedious code</i></h4>"
   ]
  },
  {
   "cell_type": "code",
   "execution_count": 1,
   "metadata": {},
   "outputs": [],
   "source": [
    "data Query = Query\n",
    "data SomeObj = SomeObj\n",
    "data IoOnlyObj = IoOnlyObj\n",
    "data Err = Err"
   ]
  },
  {
   "cell_type": "code",
   "execution_count": 7,
   "metadata": {},
   "outputs": [],
   "source": [
    "decodeFn :: String -> Either Err SomeObj\n",
    "decodeFn = undefined\n",
    "\n",
    "fetchFn :: Query -> IO [String]\n",
    "fetchFn = undefined\n",
    "\n",
    "makeIoOnlyObj :: [SomeObj] -> IO [(SomeObj, IoOnlyObj)]\n",
    "makeIoOnlyObj = undefined"
   ]
  },
  {
   "cell_type": "code",
   "execution_count": 8,
   "metadata": {},
   "outputs": [],
   "source": [
    "pipelineQuery :: Query -> IO (Either Err [(SomeObj, IoOnlyObj)])\n",
    "pipelineQuery query = do\n",
    "    a <- fetchFn query\n",
    "    case sequence (map decodeFn a) of\n",
    "        (Left err) -> return $ Left err\n",
    "        (Right res) -> do\n",
    "            a <- makeIoOnlyObj res\n",
    "            return $ Right a"
   ]
  },
  {
   "cell_type": "code",
   "execution_count": 9,
   "metadata": {},
   "outputs": [],
   "source": [
    "pipelineQuery' :: Query -> IO (Either Err [(SomeObj, IoOnlyObj)])\n",
    "pipelineQuery' = ((traverse makeIoOnlyObj . traverse decodeFn) =<<) . fetchFn"
   ]
  },
  {
   "cell_type": "code",
   "execution_count": null,
   "metadata": {},
   "outputs": [],
   "source": []
  }
 ],
 "metadata": {
  "kernelspec": {
   "display_name": "Haskell",
   "language": "haskell",
   "name": "haskell"
  },
  "language_info": {
   "codemirror_mode": "ihaskell",
   "file_extension": ".hs",
   "name": "haskell",
   "pygments_lexer": "Haskell",
   "version": "8.4.4"
  }
 },
 "nbformat": 4,
 "nbformat_minor": 2
}
