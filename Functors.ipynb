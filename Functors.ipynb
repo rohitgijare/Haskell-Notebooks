{
 "cells": [
  {
   "cell_type": "code",
   "execution_count": 1,
   "metadata": {},
   "outputs": [],
   "source": [
    "import Test.QuickCheck"
   ]
  },
  {
   "cell_type": "code",
   "execution_count": 2,
   "metadata": {},
   "outputs": [],
   "source": [
    "functorIdentity :: (Functor f, Eq (f a)) => f a -> Bool\n",
    "functorIdentity f = fmap id f == f"
   ]
  },
  {
   "cell_type": "code",
   "execution_count": 3,
   "metadata": {},
   "outputs": [],
   "source": [
    "functorCompose :: (Functor f, Eq (f c)) =>\n",
    "                    (a -> b) -> (b -> c) -> f a -> Bool\n",
    "functorCompose f g x = fmap g (fmap f x) == fmap (g.f) x"
   ]
  },
  {
   "cell_type": "code",
   "execution_count": 5,
   "metadata": {},
   "outputs": [],
   "source": [
    "f :: [Int] -> Bool\n",
    "f = functorIdentity"
   ]
  },
  {
   "cell_type": "code",
   "execution_count": 6,
   "metadata": {},
   "outputs": [
    {
     "data": {
      "text/plain": [
       "+++ OK, passed 100 tests."
      ]
     },
     "metadata": {},
     "output_type": "display_data"
    }
   ],
   "source": [
    "quickCheck f"
   ]
  },
  {
   "cell_type": "code",
   "execution_count": 7,
   "metadata": {},
   "outputs": [],
   "source": [
    "c = functorCompose (+1) (*2)\n",
    "li x = c (x :: [Int])"
   ]
  },
  {
   "cell_type": "code",
   "execution_count": 12,
   "metadata": {},
   "outputs": [
    {
     "data": {
      "text/plain": [
       "+++ OK, passed 100 tests."
      ]
     },
     "metadata": {},
     "output_type": "display_data"
    }
   ],
   "source": [
    "quickCheck li"
   ]
  },
  {
   "cell_type": "markdown",
   "metadata": {},
   "source": [
    "<h3>Exercises</h3>"
   ]
  },
  {
   "cell_type": "markdown",
   "metadata": {},
   "source": [
    "<h4>Identity</h4>"
   ]
  },
  {
   "cell_type": "code",
   "execution_count": 16,
   "metadata": {},
   "outputs": [],
   "source": [
    "newtype Identity a = Identity a deriving (Show, Eq)"
   ]
  },
  {
   "cell_type": "code",
   "execution_count": 23,
   "metadata": {},
   "outputs": [],
   "source": [
    "instance Arbitrary a => Arbitrary (Identity a) where\n",
    "    arbitrary = do\n",
    "        a <- arbitrary\n",
    "        return (Identity a)\n",
    "        \n",
    "instance Functor Identity where\n",
    "    fmap f (Identity a) = Identity (f a)"
   ]
  },
  {
   "cell_type": "code",
   "execution_count": 24,
   "metadata": {},
   "outputs": [
    {
     "data": {
      "text/plain": [
       "+++ OK, passed 100 tests."
      ]
     },
     "metadata": {},
     "output_type": "display_data"
    }
   ],
   "source": [
    "f :: Identity Int -> Bool\n",
    "f = functorIdentity\n",
    "quickCheck f"
   ]
  },
  {
   "cell_type": "code",
   "execution_count": 25,
   "metadata": {},
   "outputs": [],
   "source": [
    "li x = c (x :: Identity Int)"
   ]
  },
  {
   "cell_type": "code",
   "execution_count": 26,
   "metadata": {},
   "outputs": [
    {
     "data": {
      "text/plain": [
       "+++ OK, passed 100 tests."
      ]
     },
     "metadata": {},
     "output_type": "display_data"
    }
   ],
   "source": [
    "quickCheck li"
   ]
  },
  {
   "cell_type": "markdown",
   "metadata": {},
   "source": [
    "<h4>Pair</h4>"
   ]
  },
  {
   "cell_type": "code",
   "execution_count": 28,
   "metadata": {},
   "outputs": [],
   "source": [
    "data Pair a = Pair a a deriving (Eq, Show)\n",
    "\n",
    "instance Arbitrary a => Arbitrary (Pair a) where\n",
    "    arbitrary = do\n",
    "        a <- arbitrary\n",
    "        b <- arbitrary\n",
    "        return (Pair a b)"
   ]
  },
  {
   "cell_type": "code",
   "execution_count": 31,
   "metadata": {},
   "outputs": [],
   "source": [
    "instance Functor Pair where\n",
    "    fmap f (Pair a b) = Pair (f a) (f b)"
   ]
  },
  {
   "cell_type": "code",
   "execution_count": 36,
   "metadata": {},
   "outputs": [
    {
     "data": {
      "text/plain": [
       "+++ OK, passed 100 tests."
      ]
     },
     "metadata": {},
     "output_type": "display_data"
    }
   ],
   "source": [
    "f :: Pair String -> Bool\n",
    "f = functorIdentity\n",
    "quickCheck f"
   ]
  },
  {
   "cell_type": "code",
   "execution_count": 40,
   "metadata": {},
   "outputs": [
    {
     "data": {
      "text/plain": [
       "+++ OK, passed 100 tests."
      ]
     },
     "metadata": {},
     "output_type": "display_data"
    }
   ],
   "source": [
    "-- c = functorCompose (+1) (*2)\n",
    "c = functorCompose (++ \"Hi\") (++ \" Bye!\")\n",
    "li x = c (x :: Pair String)\n",
    "quickCheck li"
   ]
  },
  {
   "cell_type": "markdown",
   "metadata": {},
   "source": [
    "<h4>Two</h4>"
   ]
  },
  {
   "cell_type": "code",
   "execution_count": 47,
   "metadata": {},
   "outputs": [],
   "source": [
    "data Two a b = Two a b deriving (Eq, Show)\n",
    "\n",
    "instance (Arbitrary a, Arbitrary b) => Arbitrary (Two a b) where\n",
    "    arbitrary = do\n",
    "        a <- arbitrary\n",
    "        b <- arbitrary\n",
    "        return (Two a b)"
   ]
  },
  {
   "cell_type": "code",
   "execution_count": 48,
   "metadata": {},
   "outputs": [],
   "source": [
    "instance Functor (Two a) where\n",
    "    fmap f (Two a b) = Two a (f b)"
   ]
  },
  {
   "cell_type": "code",
   "execution_count": 49,
   "metadata": {},
   "outputs": [
    {
     "data": {
      "text/plain": [
       "+++ OK, passed 100 tests."
      ]
     },
     "metadata": {},
     "output_type": "display_data"
    }
   ],
   "source": [
    "f :: Two Int String -> Bool\n",
    "f = functorIdentity\n",
    "quickCheck f"
   ]
  },
  {
   "cell_type": "code",
   "execution_count": 50,
   "metadata": {},
   "outputs": [
    {
     "data": {
      "text/plain": [
       "+++ OK, passed 100 tests."
      ]
     },
     "metadata": {},
     "output_type": "display_data"
    }
   ],
   "source": [
    "-- c = functorCompose (+1) (*2)\n",
    "c = functorCompose (++ \"Hi\") (++ \" Bye!\")\n",
    "li x = c (x :: Two Int String)\n",
    "quickCheck li"
   ]
  },
  {
   "cell_type": "markdown",
   "metadata": {},
   "source": [
    "<h4>Three</h4>"
   ]
  },
  {
   "cell_type": "code",
   "execution_count": 54,
   "metadata": {},
   "outputs": [],
   "source": [
    "data Three a b c = Three a b c deriving (Eq, Show)\n",
    "\n",
    "instance (Arbitrary a, Arbitrary b, Arbitrary c) => Arbitrary (Three a b c) where\n",
    "    arbitrary = do\n",
    "        a <- arbitrary\n",
    "        b <- arbitrary\n",
    "        c <- arbitrary\n",
    "        return (Three a b c)"
   ]
  },
  {
   "cell_type": "code",
   "execution_count": 55,
   "metadata": {},
   "outputs": [],
   "source": [
    "instance Functor (Three a b) where\n",
    "    fmap f (Three a b c) = Three a b (f c)"
   ]
  },
  {
   "cell_type": "code",
   "execution_count": 56,
   "metadata": {},
   "outputs": [
    {
     "data": {
      "text/plain": [
       "+++ OK, passed 100 tests."
      ]
     },
     "metadata": {},
     "output_type": "display_data"
    }
   ],
   "source": [
    "f :: Three Int Int String -> Bool\n",
    "f = functorIdentity\n",
    "quickCheck f"
   ]
  },
  {
   "cell_type": "code",
   "execution_count": 57,
   "metadata": {},
   "outputs": [
    {
     "data": {
      "text/plain": [
       "+++ OK, passed 100 tests."
      ]
     },
     "metadata": {},
     "output_type": "display_data"
    }
   ],
   "source": [
    "-- c = functorCompose (+1) (*2)\n",
    "c = functorCompose (++ \"Hi\") (++ \" Bye!\")\n",
    "li x = c (x :: Three Int Int String)\n",
    "quickCheck li"
   ]
  },
  {
   "cell_type": "markdown",
   "metadata": {},
   "source": [
    "<h4>Three'</h4>"
   ]
  },
  {
   "cell_type": "code",
   "execution_count": 59,
   "metadata": {},
   "outputs": [],
   "source": [
    "data Three' a b = Three' a b b deriving (Eq, Show)\n",
    "\n",
    "instance (Arbitrary a, Arbitrary b) => Arbitrary (Three' a b) where\n",
    "    arbitrary = do\n",
    "        a <- arbitrary\n",
    "        b <- arbitrary\n",
    "        c <- arbitrary\n",
    "        return (Three' a b c)"
   ]
  },
  {
   "cell_type": "code",
   "execution_count": 60,
   "metadata": {},
   "outputs": [],
   "source": [
    "instance Functor (Three' a) where\n",
    "    fmap f (Three' a b c) = Three' a (f b) (f c)"
   ]
  },
  {
   "cell_type": "code",
   "execution_count": 61,
   "metadata": {},
   "outputs": [
    {
     "data": {
      "text/plain": [
       "+++ OK, passed 100 tests."
      ]
     },
     "metadata": {},
     "output_type": "display_data"
    }
   ],
   "source": [
    "f :: Three' Int Int -> Bool\n",
    "f = functorIdentity\n",
    "quickCheck f"
   ]
  },
  {
   "cell_type": "code",
   "execution_count": 63,
   "metadata": {},
   "outputs": [
    {
     "data": {
      "text/plain": [
       "+++ OK, passed 100 tests."
      ]
     },
     "metadata": {},
     "output_type": "display_data"
    }
   ],
   "source": [
    "c = functorCompose (+1) (*2)\n",
    "li x = c (x :: Three' Int Int)\n",
    "quickCheck li"
   ]
  },
  {
   "cell_type": "markdown",
   "metadata": {},
   "source": [
    "<h4>Four</h4>"
   ]
  },
  {
   "cell_type": "code",
   "execution_count": 66,
   "metadata": {},
   "outputs": [],
   "source": [
    "data Four a b c d = Four a b c d deriving (Eq, Show)\n",
    "\n",
    "instance (Arbitrary a, Arbitrary b, Arbitrary c, Arbitrary d) => Arbitrary (Four a b c d) where\n",
    "    arbitrary = do\n",
    "        a <- arbitrary\n",
    "        b <- arbitrary\n",
    "        c <- arbitrary\n",
    "        d <- arbitrary\n",
    "        return (Four a b c d)"
   ]
  },
  {
   "cell_type": "code",
   "execution_count": 67,
   "metadata": {},
   "outputs": [],
   "source": [
    "instance Functor (Four a b c) where\n",
    "    fmap f (Four a b c d) = Four a b c (f d)"
   ]
  },
  {
   "cell_type": "code",
   "execution_count": 69,
   "metadata": {},
   "outputs": [
    {
     "data": {
      "text/plain": [
       "+++ OK, passed 100 tests."
      ]
     },
     "metadata": {},
     "output_type": "display_data"
    }
   ],
   "source": [
    "f :: Four String String String String -> Bool\n",
    "f = functorIdentity\n",
    "quickCheck f"
   ]
  },
  {
   "cell_type": "code",
   "execution_count": 70,
   "metadata": {},
   "outputs": [
    {
     "data": {
      "text/plain": [
       "+++ OK, passed 100 tests."
      ]
     },
     "metadata": {},
     "output_type": "display_data"
    }
   ],
   "source": [
    "c = functorCompose (++ \"Hi\") (++ \" Bye!\")\n",
    "li x = c (x :: Four String String String String)\n",
    "quickCheck li"
   ]
  },
  {
   "cell_type": "markdown",
   "metadata": {},
   "source": [
    "<h4>Four'</h4>"
   ]
  },
  {
   "cell_type": "code",
   "execution_count": 75,
   "metadata": {},
   "outputs": [],
   "source": [
    "data Four' a b = Four' a a a b deriving (Eq, Show)\n",
    "\n",
    "instance (Arbitrary a, Arbitrary b) => Arbitrary (Four' a b) where\n",
    "    arbitrary = do\n",
    "        a <- arbitrary\n",
    "        b <- arbitrary\n",
    "        c <- arbitrary\n",
    "        d <- arbitrary\n",
    "        return (Four' a b c d)"
   ]
  },
  {
   "cell_type": "code",
   "execution_count": 76,
   "metadata": {},
   "outputs": [],
   "source": [
    "instance Functor (Four' a) where\n",
    "    fmap f (Four' a b c d) = Four' a b c (f d)"
   ]
  },
  {
   "cell_type": "code",
   "execution_count": 77,
   "metadata": {},
   "outputs": [
    {
     "data": {
      "text/plain": [
       "+++ OK, passed 100 tests."
      ]
     },
     "metadata": {},
     "output_type": "display_data"
    }
   ],
   "source": [
    "f :: Four' String String -> Bool\n",
    "f = functorIdentity\n",
    "quickCheck f"
   ]
  },
  {
   "cell_type": "code",
   "execution_count": 78,
   "metadata": {},
   "outputs": [
    {
     "data": {
      "text/plain": [
       "+++ OK, passed 100 tests."
      ]
     },
     "metadata": {},
     "output_type": "display_data"
    }
   ],
   "source": [
    "c = functorCompose (++ \"Hi\") (++ \" Bye!\")\n",
    "li x = c (x :: Four' String String)\n",
    "quickCheck li"
   ]
  },
  {
   "cell_type": "markdown",
   "metadata": {},
   "source": [
    "<h4>Possible (Maybe synonym)</h4>"
   ]
  },
  {
   "cell_type": "code",
   "execution_count": 86,
   "metadata": {},
   "outputs": [],
   "source": [
    "data Possibly a = Nope | Yep a deriving (Eq, Show)\n",
    "\n",
    "instance Arbitrary a => Arbitrary (Possibly a) where\n",
    "    arbitrary = frequency [(1, return Nope), (3, fmap Yep arbitrary)]"
   ]
  },
  {
   "cell_type": "code",
   "execution_count": 88,
   "metadata": {},
   "outputs": [],
   "source": [
    "instance Functor Possibly where\n",
    "    fmap _ Nope = Nope\n",
    "    fmap f (Yep a) = Yep (f a)"
   ]
  },
  {
   "cell_type": "code",
   "execution_count": 90,
   "metadata": {},
   "outputs": [
    {
     "data": {
      "text/plain": [
       "+++ OK, passed 100 tests."
      ]
     },
     "metadata": {},
     "output_type": "display_data"
    }
   ],
   "source": [
    "f :: Possibly String -> Bool\n",
    "f = functorIdentity\n",
    "quickCheck f"
   ]
  },
  {
   "cell_type": "code",
   "execution_count": 91,
   "metadata": {},
   "outputs": [
    {
     "data": {
      "text/plain": [
       "+++ OK, passed 100 tests."
      ]
     },
     "metadata": {},
     "output_type": "display_data"
    }
   ],
   "source": [
    "c = functorCompose (++ \"Hi\") (++ \" Bye!\")\n",
    "li x = c (x :: Possibly String)\n",
    "quickCheck li"
   ]
  },
  {
   "cell_type": "markdown",
   "metadata": {},
   "source": [
    "<h4>Sum (Either synonym)</h4>"
   ]
  },
  {
   "cell_type": "code",
   "execution_count": 92,
   "metadata": {},
   "outputs": [],
   "source": [
    "data Sum a b = First a | Second b deriving (Eq, Show)\n",
    "\n",
    "instance (Arbitrary a, Arbitrary b) => Arbitrary (Sum a b) where\n",
    "    arbitrary = frequency [(1, fmap First arbitrary), (1, fmap Second arbitrary)]"
   ]
  },
  {
   "cell_type": "code",
   "execution_count": 95,
   "metadata": {},
   "outputs": [],
   "source": [
    "instance Functor (Sum a) where\n",
    "    fmap _ (First a) = First a\n",
    "    fmap f (Second b) = Second (f b)"
   ]
  },
  {
   "cell_type": "code",
   "execution_count": 96,
   "metadata": {},
   "outputs": [
    {
     "data": {
      "text/plain": [
       "+++ OK, passed 100 tests."
      ]
     },
     "metadata": {},
     "output_type": "display_data"
    }
   ],
   "source": [
    "f :: Sum String String -> Bool\n",
    "f = functorIdentity\n",
    "quickCheck f"
   ]
  },
  {
   "cell_type": "code",
   "execution_count": 97,
   "metadata": {},
   "outputs": [
    {
     "data": {
      "text/plain": [
       "+++ OK, passed 100 tests."
      ]
     },
     "metadata": {},
     "output_type": "display_data"
    }
   ],
   "source": [
    "c = functorCompose (++ \"Hi\") (++ \" Bye!\")\n",
    "li x = c (x :: Sum String String)\n",
    "quickCheck li"
   ]
  },
  {
   "cell_type": "code",
   "execution_count": null,
   "metadata": {},
   "outputs": [],
   "source": []
  }
 ],
 "metadata": {
  "kernelspec": {
   "display_name": "Haskell",
   "language": "haskell",
   "name": "haskell"
  },
  "language_info": {
   "codemirror_mode": "ihaskell",
   "file_extension": ".hs",
   "name": "haskell",
   "pygments_lexer": "Haskell",
   "version": "8.4.4"
  }
 },
 "nbformat": 4,
 "nbformat_minor": 2
}
