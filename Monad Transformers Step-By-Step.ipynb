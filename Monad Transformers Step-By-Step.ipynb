{
 "cells": [
  {
   "cell_type": "markdown",
   "metadata": {},
   "source": [
    "<h4><a href=\"https://page.mi.fu-berlin.de/scravy/realworldhaskell/materialien/monad-transformers-step-by-step.pdf\">From this paper</a></h4>"
   ]
  },
  {
   "cell_type": "code",
   "execution_count": 1,
   "metadata": {},
   "outputs": [],
   "source": [
    "import Control.Monad.Identity\n",
    "import Control.Monad.Error\n",
    "import Control.Monad.Reader\n",
    "import Control.Monad.State\n",
    "import Control.Monad.Writer\n",
    "import Data.Maybe\n",
    "import qualified Data.Map as Map"
   ]
  },
  {
   "cell_type": "code",
   "execution_count": 2,
   "metadata": {},
   "outputs": [],
   "source": [
    "type Name = String\n",
    "\n",
    "data Exp = Lit Integer\n",
    "    | Var Name\n",
    "    | Plus Exp Exp\n",
    "    | Abs Name Exp\n",
    "    | App Exp Exp\n",
    "    deriving Show"
   ]
  },
  {
   "cell_type": "code",
   "execution_count": 3,
   "metadata": {},
   "outputs": [],
   "source": [
    "type Env = Map.Map Name Value\n",
    "\n",
    "data Value = IntVal Integer\n",
    "    | FunVal Env Name Exp\n",
    "    deriving Show"
   ]
  },
  {
   "cell_type": "code",
   "execution_count": 4,
   "metadata": {},
   "outputs": [],
   "source": [
    "eval0 :: Env -> Exp -> Value\n",
    "eval0 _ (Lit i) = IntVal i\n",
    "eval0 env (Var v) = fromJust (Map.lookup v env)\n",
    "eval0 env (Plus exp1 exp2) = let IntVal i1 = eval0 env exp1\n",
    "                                 IntVal i2 = eval0 env exp2\n",
    "                             in IntVal(i1 + i2)\n",
    "eval0 env (Abs n e) = FunVal env n e\n",
    "eval0 env (App e1 e2) = let val1 = eval0 env e1\n",
    "                            val2 = eval0 env e2\n",
    "                        in case val1 of\n",
    "                            FunVal env' n body -> eval0 (Map.insert n val2 env') body"
   ]
  },
  {
   "cell_type": "code",
   "execution_count": 5,
   "metadata": {},
   "outputs": [],
   "source": [
    "-- 12+((λx → x)(4+2))\n",
    "exampleEx = Lit 12 `Plus` App (Abs \"x\" (Var \"x\")) (Lit 4 `Plus` Lit 2)"
   ]
  },
  {
   "cell_type": "code",
   "execution_count": 6,
   "metadata": {},
   "outputs": [
    {
     "data": {
      "text/plain": [
       "IntVal 18"
      ]
     },
     "metadata": {},
     "output_type": "display_data"
    }
   ],
   "source": [
    "eval0 Map.empty exampleEx"
   ]
  },
  {
   "cell_type": "markdown",
   "metadata": {},
   "source": [
    "<h4>Converting to Monadic Style</h4>"
   ]
  },
  {
   "cell_type": "code",
   "execution_count": 25,
   "metadata": {},
   "outputs": [],
   "source": [
    "liftReturn :: Monad m => Maybe a -> m a\n",
    "liftReturn Nothing = fail \"Key not found in map\"\n",
    "liftReturn (Just a) = return a"
   ]
  },
  {
   "cell_type": "code",
   "execution_count": 26,
   "metadata": {},
   "outputs": [],
   "source": [
    "type Eval1 a = Identity a\n",
    "\n",
    "runEval1 :: Eval1 a -> a\n",
    "runEval1 = runIdentity"
   ]
  },
  {
   "cell_type": "code",
   "execution_count": 31,
   "metadata": {},
   "outputs": [],
   "source": [
    "eval1 :: Env -> Exp -> Eval1 Value\n",
    "eval1 _ (Lit i) = return (IntVal i)\n",
    "eval1 env (Var v) = liftReturn $ Map.lookup v env\n",
    "eval1 env (Plus exp1 exp2) = do\n",
    "    IntVal i1 <- eval1 env exp1\n",
    "    IntVal i2 <- eval1 env exp2\n",
    "    return $ IntVal (i1 + i2)\n",
    "eval1 env (Abs n e) = return (FunVal env n e)\n",
    "eval1 env (App e1 e2) = do\n",
    "    val1 <- eval1 env e1\n",
    "    val2 <- eval1 env e2\n",
    "    case val1 of\n",
    "        FunVal env' n body -> eval1 (Map.insert n val2 env') body"
   ]
  },
  {
   "cell_type": "code",
   "execution_count": 32,
   "metadata": {},
   "outputs": [
    {
     "data": {
      "text/plain": [
       "IntVal 18"
      ]
     },
     "metadata": {},
     "output_type": "display_data"
    }
   ],
   "source": [
    "runEval1 (eval1 Map.empty exampleEx)"
   ]
  },
  {
   "cell_type": "markdown",
   "metadata": {},
   "source": [
    "<h4>Adding Error Handling</h4>"
   ]
  },
  {
   "cell_type": "code",
   "execution_count": 33,
   "metadata": {},
   "outputs": [],
   "source": [
    "type Eval2 a = ErrorT String Identity a\n",
    "\n",
    "runEval2 :: Eval2 a -> Either String a\n",
    "runEval2 ev = runIdentity (runErrorT ev)"
   ]
  },
  {
   "cell_type": "code",
   "execution_count": 34,
   "metadata": {},
   "outputs": [],
   "source": [
    "eval2a :: Env -> Exp -> Eval2 Value\n",
    "eval2a _ (Lit i) = return (IntVal i)\n",
    "eval2a env (Var v) = liftReturn $ Map.lookup v env\n",
    "eval2a env (Plus exp1 exp2) = do\n",
    "    IntVal i1 <- eval2a env exp1\n",
    "    IntVal i2 <- eval2a env exp2\n",
    "    return $ IntVal (i1 + i2)\n",
    "eval2a env (Abs n e) = return (FunVal env n e)\n",
    "eval2a env (App e1 e2) = do\n",
    "    val1 <- eval2a env e1\n",
    "    val2 <- eval2a env e2\n",
    "    case val1 of\n",
    "        FunVal env' n body -> eval2a (Map.insert n val2 env') body"
   ]
  },
  {
   "cell_type": "code",
   "execution_count": 35,
   "metadata": {
    "scrolled": true
   },
   "outputs": [
    {
     "data": {
      "text/plain": [
       "Right (IntVal 18)"
      ]
     },
     "metadata": {},
     "output_type": "display_data"
    }
   ],
   "source": [
    "runEval2 (eval2a Map.empty exampleEx)"
   ]
  },
  {
   "cell_type": "code",
   "execution_count": 36,
   "metadata": {},
   "outputs": [],
   "source": [
    "eval2b :: Env -> Exp -> Eval2 Value\n",
    "eval2b _ (Lit i) = return (IntVal i)\n",
    "eval2b env (Var v) = liftReturn $ Map.lookup v env\n",
    "eval2b env (Plus exp1 exp2) = do\n",
    "    e1' <- eval2b env exp1\n",
    "    e2' <- eval2b env exp2\n",
    "    case (e1', e2') of\n",
    "        (IntVal i1, IntVal i2) -> return $ IntVal (i1 + i2)\n",
    "        _ -> throwError \"type Error\"\n",
    "eval2b env (Abs n e) = return (FunVal env n e)\n",
    "eval2b env (App e1 e2) = do\n",
    "    val1 <- eval2b env e1\n",
    "    val2 <- eval2b env e2\n",
    "    case val1 of\n",
    "        FunVal env' n body -> eval2b (Map.insert n val2 env') body\n",
    "        _                  -> throwError \"type Error\""
   ]
  },
  {
   "cell_type": "code",
   "execution_count": 37,
   "metadata": {},
   "outputs": [
    {
     "data": {
      "text/plain": [
       "Left \"Pattern match failure in do expression at <interactive>:6:5-13\""
      ]
     },
     "metadata": {},
     "output_type": "display_data"
    }
   ],
   "source": [
    "runEval2 (eval2a Map.empty (Plus (Lit 1) (Abs \"x\" (Var \"x\"))))"
   ]
  },
  {
   "cell_type": "code",
   "execution_count": 38,
   "metadata": {},
   "outputs": [
    {
     "data": {
      "text/plain": [
       "Left \"Key not found in map\""
      ]
     },
     "metadata": {},
     "output_type": "display_data"
    }
   ],
   "source": [
    "runEval2 (eval2b Map.empty (Var \"x\"))"
   ]
  },
  {
   "cell_type": "code",
   "execution_count": 39,
   "metadata": {},
   "outputs": [],
   "source": [
    "eval2c :: Env -> Exp -> Eval2 Value\n",
    "eval2c _ (Lit i) = return (IntVal i)\n",
    "eval2c env (Var v) = liftReturn $ Map.lookup v env\n",
    "eval2c env (Plus exp1 exp2) = do\n",
    "    IntVal i1 <- eval2c env exp1\n",
    "    IntVal i2 <- eval2c env exp2\n",
    "    return $ IntVal (i1 + i2)\n",
    "eval2c env (Abs n e) = return (FunVal env n e)\n",
    "eval2c env (App e1 e2) = do\n",
    "    FunVal env' n body <- eval2c env e1\n",
    "    val2               <- eval2c env e2\n",
    "    eval2c (Map.insert n val2 env') body"
   ]
  },
  {
   "cell_type": "markdown",
   "metadata": {},
   "source": [
    "<h4>Final version</h4>"
   ]
  },
  {
   "cell_type": "code",
   "execution_count": 40,
   "metadata": {},
   "outputs": [],
   "source": [
    "eval2 :: Env -> Exp -> Eval2 Value\n",
    "eval2 _ (Lit i) = return (IntVal i)\n",
    "eval2 env (Var v) = case Map.lookup v env of\n",
    "    Nothing -> throwError (\"unbound variable: \" ++ v)\n",
    "    Just val -> return val\n",
    "eval2 env (Plus exp1 exp2) = do\n",
    "    e1' <- eval2 env exp1\n",
    "    e2' <- eval2 env exp2\n",
    "    case (e1', e2') of\n",
    "        (IntVal i1, IntVal i2) -> return $ IntVal (i1 + i2)\n",
    "        _ -> throwError \"type Error in addition\"\n",
    "eval2 env (Abs n e) = return (FunVal env n e)\n",
    "eval2 env (App e1 e2) = do\n",
    "    val1 <- eval2 env e1\n",
    "    val2 <- eval2 env e2\n",
    "    case val1 of\n",
    "        FunVal env' n body -> eval2 (Map.insert n val2 env') body\n",
    "        _                  -> throwError \"type error in application\""
   ]
  },
  {
   "cell_type": "markdown",
   "metadata": {},
   "source": [
    "<h4>Hide the env using ReaderT</h4>"
   ]
  },
  {
   "cell_type": "code",
   "execution_count": 44,
   "metadata": {},
   "outputs": [],
   "source": [
    "type Eval3 a = ReaderT Env (ErrorT String Identity) a\n",
    "\n",
    "runEval3 :: Env -> Eval3 a -> Either String a\n",
    "runEval3 env ev = runIdentity (runErrorT (runReaderT ev env))"
   ]
  },
  {
   "cell_type": "code",
   "execution_count": 47,
   "metadata": {},
   "outputs": [],
   "source": [
    "eval3 :: Exp -> Eval3 Value\n",
    "eval3 (Lit i) = return (IntVal i)\n",
    "eval3 (Var n) = do\n",
    "    env <- ask\n",
    "    case Map.lookup n env of\n",
    "        Nothing  -> throwError (\"unbound variable: \" ++ n)\n",
    "        Just val -> return val\n",
    "eval3 (Plus e1 e2) = do\n",
    "    e1' <- eval3 e1\n",
    "    e2' <- eval3 e2\n",
    "    case (e1', e2') of\n",
    "        (IntVal i1, IntVal i2) -> return (IntVal (i1 + i2))\n",
    "        _                      -> throwError \"type error in addition\"\n",
    "eval3 (Abs n e) = do\n",
    "    env <- ask\n",
    "    return (FunVal env n e)\n",
    "eval3 (App e1 e2) = do\n",
    "    val1 <- eval3 e1\n",
    "    val2 <- eval3 e2\n",
    "    case val1 of\n",
    "        FunVal env' n body -> local (const (Map.insert n val2 env')) (eval3 body)\n",
    "        _                  -> throwError \"type error in application\""
   ]
  },
  {
   "cell_type": "code",
   "execution_count": 48,
   "metadata": {},
   "outputs": [
    {
     "data": {
      "text/plain": [
       "Right (IntVal 18)"
      ]
     },
     "metadata": {},
     "output_type": "display_data"
    }
   ],
   "source": [
    "runEval3 Map.empty (eval3 exampleEx)"
   ]
  },
  {
   "cell_type": "markdown",
   "metadata": {},
   "source": [
    "<h4>Adding State</h4>"
   ]
  },
  {
   "cell_type": "code",
   "execution_count": 49,
   "metadata": {},
   "outputs": [],
   "source": [
    "type Eval4 a = ReaderT Env (ErrorT String (StateT Integer Identity)) a\n",
    "\n",
    "runEval4 :: Env -> Integer -> Eval4 a -> (Either String a, Integer)\n",
    "runEval4 env st ev = runIdentity (runStateT (runErrorT (runReaderT ev env)) st)"
   ]
  },
  {
   "cell_type": "code",
   "execution_count": 50,
   "metadata": {},
   "outputs": [],
   "source": [
    "-- increment the count of number of evaluation steps\n",
    "tick :: (Num s, MonadState s m) => m ()\n",
    "tick = do\n",
    "    st <- get\n",
    "    put (st+1)"
   ]
  },
  {
   "cell_type": "code",
   "execution_count": 51,
   "metadata": {},
   "outputs": [],
   "source": [
    "eval4 :: Exp -> Eval4 Value\n",
    "eval4 (Lit i) = do\n",
    "    tick\n",
    "    return (IntVal i)\n",
    "eval4 (Var n) = do\n",
    "    tick\n",
    "    env <- ask\n",
    "    case Map.lookup n env of\n",
    "        Nothing  -> throwError (\"unbound variable: \" ++ n)\n",
    "        Just val -> return val\n",
    "eval4 (Plus e1 e2) = do\n",
    "    tick\n",
    "    e1' <- eval4 e1\n",
    "    e2' <- eval4 e2\n",
    "    case (e1', e2') of\n",
    "        (IntVal i1, IntVal i2) -> return (IntVal (i1+i2))\n",
    "        _                      -> throwError \"type error in addition\"\n",
    "eval4 (Abs n e) = do\n",
    "    tick\n",
    "    env <- ask\n",
    "    return (FunVal env n e)\n",
    "eval4 (App e1 e2) = do\n",
    "    tick\n",
    "    val1 <- eval4 e1\n",
    "    val2 <- eval4 e2\n",
    "    case val1 of\n",
    "        FunVal env' n body -> local (const (Map.insert n val2 env')) (eval4 body)\n",
    "        _                  -> throwError \"type error in application\""
   ]
  },
  {
   "cell_type": "code",
   "execution_count": 54,
   "metadata": {},
   "outputs": [
    {
     "data": {
      "text/plain": [
       "(Right (IntVal 18),8)"
      ]
     },
     "metadata": {},
     "output_type": "display_data"
    }
   ],
   "source": [
    "runEval4 Map.empty 0 (eval4 exampleEx)"
   ]
  },
  {
   "cell_type": "markdown",
   "metadata": {},
   "source": [
    "<h4>Adding logging (using Writer)</h4>"
   ]
  },
  {
   "cell_type": "code",
   "execution_count": 55,
   "metadata": {},
   "outputs": [],
   "source": [
    "type Eval5 a = ReaderT Env (ErrorT String (WriterT [String] (StateT Integer Identity))) a\n",
    "\n",
    "runEval5 :: Env -> Integer -> Eval5 a -> ((Either String a, [String]), Integer)\n",
    "runEval5 env st ev = runIdentity (runStateT (runWriterT (runErrorT (runReaderT ev env))) st)"
   ]
  },
  {
   "cell_type": "code",
   "execution_count": 57,
   "metadata": {},
   "outputs": [],
   "source": [
    "eval5 :: Exp -> Eval5 Value\n",
    "eval5 (Lit i) = do\n",
    "    tick\n",
    "    return (IntVal i)\n",
    "eval5 (Var n) = do\n",
    "    tick\n",
    "    tell [n]\n",
    "    env <- ask\n",
    "    case Map.lookup n env of\n",
    "        Nothing  -> throwError (\"unbound variable: \" ++ n)\n",
    "        Just val -> return val\n",
    "eval5 (Plus e1 e2) = do\n",
    "    tick\n",
    "    e1' <- eval5 e1\n",
    "    e2' <- eval5 e2\n",
    "    case (e1', e2') of\n",
    "        (IntVal i1, IntVal i2) -> return (IntVal (i1+i2))\n",
    "        _                      -> throwError \"type error in addition\"\n",
    "eval5 (Abs n e) = do\n",
    "    tick\n",
    "    env <- ask\n",
    "    return (FunVal env n e)\n",
    "eval5 (App e1 e2) = do\n",
    "    tick\n",
    "    val1 <- eval5 e1\n",
    "    val2 <- eval5 e2\n",
    "    case val1 of\n",
    "        FunVal env' n body -> local (const (Map.insert n val2 env')) (eval5 body)\n",
    "        _                  -> throwError \"type error in application\""
   ]
  },
  {
   "cell_type": "code",
   "execution_count": 58,
   "metadata": {},
   "outputs": [
    {
     "data": {
      "text/plain": [
       "((Right (IntVal 18),[\"x\"]),8)"
      ]
     },
     "metadata": {},
     "output_type": "display_data"
    }
   ],
   "source": [
    "runEval5 Map.empty 0 (eval5 exampleEx)"
   ]
  },
  {
   "cell_type": "markdown",
   "metadata": {},
   "source": [
    "<h4>With IO</h4>"
   ]
  },
  {
   "cell_type": "code",
   "execution_count": 60,
   "metadata": {},
   "outputs": [],
   "source": [
    "type Eval6 a = ReaderT Env (ErrorT String (WriterT [String] (StateT Integer IO))) a\n",
    "\n",
    "runEval6 :: Env -> Integer -> Eval6 a -> IO ((Either String a, [String]), Integer)\n",
    "runEval6 env st ev = runStateT (runWriterT (runErrorT (runReaderT ev env))) st"
   ]
  },
  {
   "cell_type": "code",
   "execution_count": 63,
   "metadata": {},
   "outputs": [],
   "source": [
    "eval6 :: Exp -> Eval6 Value\n",
    "eval6 (Lit i) = do\n",
    "    tick\n",
    "    liftIO $ print i\n",
    "    return $ IntVal i\n",
    "eval6 (Var n) = do\n",
    "    tick\n",
    "    tell [n]\n",
    "    env <- ask\n",
    "    case Map.lookup n env of\n",
    "        Nothing -> throwError (\"unbound variable: \" ++ n)\n",
    "        Just val -> return val\n",
    "eval6 (Plus e1 e2) = do\n",
    "    tick\n",
    "    e1' <- eval6 e1\n",
    "    e2' <- eval6 e2\n",
    "    case (e1', e2') of\n",
    "        (IntVal i1, IntVal i2) -> return (IntVal (i1+i2))\n",
    "        _                      -> throwError \"type error in addition\"\n",
    "eval6 (Abs n e) = do\n",
    "    tick\n",
    "    env <- ask\n",
    "    return (FunVal env n e)\n",
    "eval6 (App e1 e2) = do\n",
    "    tick\n",
    "    val1 <- eval6 e1\n",
    "    val2 <- eval6 e2\n",
    "    case val1 of\n",
    "        FunVal env' n body -> local (const (Map.insert n val2 env')) (eval6 body)\n",
    "        _                  -> throwError \"type error in application\""
   ]
  },
  {
   "cell_type": "code",
   "execution_count": 64,
   "metadata": {},
   "outputs": [
    {
     "data": {
      "text/plain": [
       "12\n",
       "4\n",
       "2\n",
       "((Right (IntVal 18),[\"x\"]),8)"
      ]
     },
     "metadata": {},
     "output_type": "display_data"
    }
   ],
   "source": [
    "runEval6 Map.empty 0 (eval6 exampleEx)"
   ]
  },
  {
   "cell_type": "code",
   "execution_count": null,
   "metadata": {},
   "outputs": [],
   "source": []
  }
 ],
 "metadata": {
  "kernelspec": {
   "display_name": "Haskell",
   "language": "haskell",
   "name": "haskell"
  },
  "language_info": {
   "codemirror_mode": "ihaskell",
   "file_extension": ".hs",
   "name": "haskell",
   "pygments_lexer": "Haskell",
   "version": "8.4.4"
  }
 },
 "nbformat": 4,
 "nbformat_minor": 2
}
