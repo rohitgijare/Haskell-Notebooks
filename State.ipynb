{
 "cells": [
  {
   "cell_type": "code",
   "execution_count": 1,
   "metadata": {},
   "outputs": [],
   "source": [
    "import System.Random\n",
    "import Control.Applicative (liftA3)\n",
    "import Control.Monad (replicateM)\n",
    "import Control.Monad.Trans.State\n",
    "import qualified Data.DList as DL"
   ]
  },
  {
   "cell_type": "code",
   "execution_count": 2,
   "metadata": {},
   "outputs": [],
   "source": [
    "data Die =\n",
    "      DieOne\n",
    "    | DieTwo\n",
    "    | DieThree\n",
    "    | DieFour\n",
    "    | DieFive\n",
    "    | DieSix\n",
    "    deriving (Eq, Show)"
   ]
  },
  {
   "cell_type": "code",
   "execution_count": 3,
   "metadata": {},
   "outputs": [],
   "source": [
    "intToDie :: Int -> Die\n",
    "intToDie n =\n",
    "    case n of\n",
    "        1 -> DieOne\n",
    "        2 -> DieTwo\n",
    "        3 -> DieThree\n",
    "        4 -> DieFour\n",
    "        5 -> DieFive\n",
    "        6 -> DieSix\n",
    "        x -> error $ \"intToDie got non 1-6 integer: \" ++ show x"
   ]
  },
  {
   "cell_type": "code",
   "execution_count": 4,
   "metadata": {},
   "outputs": [],
   "source": [
    "rollDieThreeTimes :: (Die, Die, Die)\n",
    "rollDieThreeTimes = do\n",
    "    let s = mkStdGen 0\n",
    "        (d1, s1) = randomR (1, 6) s\n",
    "        (d2, s2) = randomR (1, 6) s1\n",
    "        (d3, _) =  randomR (1, 6) s2\n",
    "    (intToDie d1, intToDie d2, intToDie d3)"
   ]
  },
  {
   "cell_type": "code",
   "execution_count": 5,
   "metadata": {},
   "outputs": [],
   "source": [
    "roller = do\n",
    "    (n, s) <- randomR (1, 6)\n",
    "    return (intToDie n, s)\n",
    "\n",
    "rollDie :: State StdGen Die\n",
    "rollDie = state roller"
   ]
  },
  {
   "cell_type": "code",
   "execution_count": 6,
   "metadata": {},
   "outputs": [],
   "source": [
    "rollDie' :: State StdGen Die\n",
    "rollDie' = intToDie <$> state (randomR (1, 6))\n",
    "\n",
    "rollDieThreeTimes' :: State StdGen (Die, Die, Die)\n",
    "rollDieThreeTimes' = liftA3 (,,) rollDie rollDie rollDie"
   ]
  },
  {
   "cell_type": "code",
   "execution_count": null,
   "metadata": {},
   "outputs": [],
   "source": [
    "evalState rollDieThreeTimes' (mkStdGen 9999)"
   ]
  },
  {
   "cell_type": "code",
   "execution_count": null,
   "metadata": {},
   "outputs": [],
   "source": [
    "infiniteDie :: State StdGen [Die]\n",
    "infiniteDie = repeat <$> rollDie"
   ]
  },
  {
   "cell_type": "code",
   "execution_count": null,
   "metadata": {},
   "outputs": [],
   "source": [
    "take 6 $ evalState infiniteDie (mkStdGen 0)"
   ]
  },
  {
   "cell_type": "code",
   "execution_count": null,
   "metadata": {},
   "outputs": [],
   "source": [
    "nDie :: Int -> State StdGen [Die]\n",
    "nDie n = replicateM n rollDie"
   ]
  },
  {
   "cell_type": "code",
   "execution_count": null,
   "metadata": {},
   "outputs": [],
   "source": [
    "evalState (nDie 5) (mkStdGen 0)"
   ]
  },
  {
   "cell_type": "code",
   "execution_count": null,
   "metadata": {},
   "outputs": [],
   "source": [
    "rollsToGetTwenty :: StdGen -> Int\n",
    "rollsToGetTwenty g = go 0 0 g\n",
    "    where\n",
    "        go :: Int -> Int -> StdGen -> Int\n",
    "        go sum count gen\n",
    "            | sum >= 20 = count\n",
    "            | otherwise =\n",
    "                let (die, nextGen) = randomR (1, 6) gen\n",
    "                in go (sum + die) (count + 1) nextGen"
   ]
  },
  {
   "cell_type": "code",
   "execution_count": null,
   "metadata": {},
   "outputs": [],
   "source": [
    "rollsToGetTwenty (mkStdGen 111)"
   ]
  },
  {
   "cell_type": "code",
   "execution_count": null,
   "metadata": {},
   "outputs": [],
   "source": [
    "rollsToGetTwenty . mkStdGen <$> randomIO"
   ]
  },
  {
   "cell_type": "code",
   "execution_count": null,
   "metadata": {},
   "outputs": [],
   "source": [
    "rollsToGetN :: Int -> StdGen -> Int\n",
    "rollsToGetN n g = go 0 0 g\n",
    "    where\n",
    "        go :: Int -> Int -> StdGen -> Int\n",
    "        go sum count gen\n",
    "            | sum >= n = count\n",
    "            | otherwise =\n",
    "                let (die, nextGen) = randomR (1, 6) gen\n",
    "                in go (sum + die) (count + 1) nextGen"
   ]
  },
  {
   "cell_type": "code",
   "execution_count": null,
   "metadata": {},
   "outputs": [],
   "source": [
    "rollsToGetN 100 . mkStdGen <$> randomIO"
   ]
  },
  {
   "cell_type": "code",
   "execution_count": null,
   "metadata": {},
   "outputs": [],
   "source": [
    "rollsCountLogged :: Int -> StdGen -> (Int, [Die])\n",
    "rollsCountLogged n g = go 0 (0, []) g\n",
    "    where\n",
    "        go :: Int -> (Int, [Die]) -> StdGen -> (Int, [Die])\n",
    "        go sum (count, history) gen\n",
    "            | sum >= n = (count, history)\n",
    "            | otherwise =\n",
    "                let (die, nextGen) = randomR (1, 6) gen\n",
    "                in go (sum + die) (count+1, history ++ [intToDie die]) nextGen"
   ]
  },
  {
   "cell_type": "code",
   "execution_count": null,
   "metadata": {},
   "outputs": [],
   "source": [
    "rollsCountLogged 100 . mkStdGen <$> randomIO"
   ]
  },
  {
   "cell_type": "markdown",
   "metadata": {},
   "source": [
    "<h4>Custom State</h4>"
   ]
  },
  {
   "cell_type": "code",
   "execution_count": 7,
   "metadata": {},
   "outputs": [],
   "source": [
    "newtype Moi s a = Moi { runMoi :: s -> (a, s) }"
   ]
  },
  {
   "cell_type": "code",
   "execution_count": 8,
   "metadata": {},
   "outputs": [],
   "source": [
    "{-# LANGUAGE InstanceSigs #-}\n",
    "\n",
    "instance Functor (Moi s) where\n",
    "    fmap :: (a -> b) -> Moi s a -> Moi s b\n",
    "    fmap f (Moi g) = Moi $ \\s -> let (x, s') = g s in (f x, s')"
   ]
  },
  {
   "cell_type": "code",
   "execution_count": 9,
   "metadata": {},
   "outputs": [
    {
     "data": {
      "text/html": [
       "<style>/* Styles used for the Hoogle display in the pager */\n",
       ".hoogle-doc {\n",
       "display: block;\n",
       "padding-bottom: 1.3em;\n",
       "padding-left: 0.4em;\n",
       "}\n",
       ".hoogle-code {\n",
       "display: block;\n",
       "font-family: monospace;\n",
       "white-space: pre;\n",
       "}\n",
       ".hoogle-text {\n",
       "display: block;\n",
       "}\n",
       ".hoogle-name {\n",
       "color: green;\n",
       "font-weight: bold;\n",
       "}\n",
       ".hoogle-head {\n",
       "font-weight: bold;\n",
       "}\n",
       ".hoogle-sub {\n",
       "display: block;\n",
       "margin-left: 0.4em;\n",
       "}\n",
       ".hoogle-package {\n",
       "font-weight: bold;\n",
       "font-style: italic;\n",
       "}\n",
       ".hoogle-module {\n",
       "font-weight: bold;\n",
       "}\n",
       ".hoogle-class {\n",
       "font-weight: bold;\n",
       "}\n",
       ".get-type {\n",
       "color: green;\n",
       "font-weight: bold;\n",
       "font-family: monospace;\n",
       "display: block;\n",
       "white-space: pre-wrap;\n",
       "}\n",
       ".show-type {\n",
       "color: green;\n",
       "font-weight: bold;\n",
       "font-family: monospace;\n",
       "margin-left: 1em;\n",
       "}\n",
       ".mono {\n",
       "font-family: monospace;\n",
       "display: block;\n",
       "}\n",
       ".err-msg {\n",
       "color: red;\n",
       "font-style: italic;\n",
       "font-family: monospace;\n",
       "white-space: pre;\n",
       "display: block;\n",
       "}\n",
       "#unshowable {\n",
       "color: red;\n",
       "font-weight: bold;\n",
       "}\n",
       ".err-msg.in.collapse {\n",
       "padding-top: 0.7em;\n",
       "}\n",
       ".highlight-code {\n",
       "white-space: pre;\n",
       "font-family: monospace;\n",
       "}\n",
       ".suggestion-warning { \n",
       "font-weight: bold;\n",
       "color: rgb(200, 130, 0);\n",
       "}\n",
       ".suggestion-error { \n",
       "font-weight: bold;\n",
       "color: red;\n",
       "}\n",
       ".suggestion-name {\n",
       "font-weight: bold;\n",
       "}\n",
       "</style><div class=\"suggestion-name\" style=\"clear:both;\">Use tuple-section</div><div class=\"suggestion-row\" style=\"float: left;\"><div class=\"suggestion-warning\">Found:</div><div class=\"highlight-code\" id=\"haskell\">\\ s -> (0, s)</div></div><div class=\"suggestion-row\" style=\"float: left;\"><div class=\"suggestion-warning\">Why Not:</div><div class=\"highlight-code\" id=\"haskell\">(0,)</div></div>"
      ],
      "text/plain": [
       "Line 1: Use tuple-section\n",
       "Found:\n",
       "\\ s -> (0, s)\n",
       "Why not:\n",
       "(0,)"
      ]
     },
     "metadata": {},
     "output_type": "display_data"
    },
    {
     "data": {
      "text/plain": [
       "(1,0)"
      ]
     },
     "metadata": {},
     "output_type": "display_data"
    }
   ],
   "source": [
    "runMoi ((+1) <$> (Moi $ \\s -> (0, s))) 0"
   ]
  },
  {
   "cell_type": "code",
   "execution_count": 20,
   "metadata": {},
   "outputs": [
    {
     "data": {
      "text/html": [
       "<style>/* Styles used for the Hoogle display in the pager */\n",
       ".hoogle-doc {\n",
       "display: block;\n",
       "padding-bottom: 1.3em;\n",
       "padding-left: 0.4em;\n",
       "}\n",
       ".hoogle-code {\n",
       "display: block;\n",
       "font-family: monospace;\n",
       "white-space: pre;\n",
       "}\n",
       ".hoogle-text {\n",
       "display: block;\n",
       "}\n",
       ".hoogle-name {\n",
       "color: green;\n",
       "font-weight: bold;\n",
       "}\n",
       ".hoogle-head {\n",
       "font-weight: bold;\n",
       "}\n",
       ".hoogle-sub {\n",
       "display: block;\n",
       "margin-left: 0.4em;\n",
       "}\n",
       ".hoogle-package {\n",
       "font-weight: bold;\n",
       "font-style: italic;\n",
       "}\n",
       ".hoogle-module {\n",
       "font-weight: bold;\n",
       "}\n",
       ".hoogle-class {\n",
       "font-weight: bold;\n",
       "}\n",
       ".get-type {\n",
       "color: green;\n",
       "font-weight: bold;\n",
       "font-family: monospace;\n",
       "display: block;\n",
       "white-space: pre-wrap;\n",
       "}\n",
       ".show-type {\n",
       "color: green;\n",
       "font-weight: bold;\n",
       "font-family: monospace;\n",
       "margin-left: 1em;\n",
       "}\n",
       ".mono {\n",
       "font-family: monospace;\n",
       "display: block;\n",
       "}\n",
       ".err-msg {\n",
       "color: red;\n",
       "font-style: italic;\n",
       "font-family: monospace;\n",
       "white-space: pre;\n",
       "display: block;\n",
       "}\n",
       "#unshowable {\n",
       "color: red;\n",
       "font-weight: bold;\n",
       "}\n",
       ".err-msg.in.collapse {\n",
       "padding-top: 0.7em;\n",
       "}\n",
       ".highlight-code {\n",
       "white-space: pre;\n",
       "font-family: monospace;\n",
       "}\n",
       ".suggestion-warning { \n",
       "font-weight: bold;\n",
       "color: rgb(200, 130, 0);\n",
       "}\n",
       ".suggestion-error { \n",
       "font-weight: bold;\n",
       "color: red;\n",
       "}\n",
       ".suggestion-name {\n",
       "font-weight: bold;\n",
       "}\n",
       "</style><div class=\"suggestion-name\" style=\"clear:both;\">Use tuple-section</div><div class=\"suggestion-row\" style=\"float: left;\"><div class=\"suggestion-warning\">Found:</div><div class=\"highlight-code\" id=\"haskell\">\\ s -> (a, s)</div></div><div class=\"suggestion-row\" style=\"float: left;\"><div class=\"suggestion-warning\">Why Not:</div><div class=\"highlight-code\" id=\"haskell\">(a,)</div></div>"
      ],
      "text/plain": [
       "Line 3: Use tuple-section\n",
       "Found:\n",
       "\\ s -> (a, s)\n",
       "Why not:\n",
       "(a,)"
      ]
     },
     "metadata": {},
     "output_type": "display_data"
    }
   ],
   "source": [
    "instance Applicative (Moi s) where\n",
    "    pure :: a -> Moi s a\n",
    "    pure a = Moi $ \\s -> (a, s)\n",
    "    \n",
    "    (<*>) :: Moi s (a -> b) -> Moi s a -> Moi s b\n",
    "    (<*>) (Moi f) (Moi g) = Moi $ \\s -> let (x, s') = g s\n",
    "                                            (h, s'') = f s'\n",
    "                                        in  (h x, s'')\n",
    "    \n",
    "{---\n",
    "g ~ s -> (a, s)\n",
    "f ~ s -> (a -> b, s)\n",
    "res ~ s -> (b, s)\n",
    "---}"
   ]
  },
  {
   "cell_type": "code",
   "execution_count": 11,
   "metadata": {},
   "outputs": [
    {
     "data": {
      "text/plain": [
       "(1,2500)"
      ]
     },
     "metadata": {},
     "output_type": "display_data"
    }
   ],
   "source": [
    "x = Moi $ (,) (+1)\n",
    "y = x <*> (Moi $ \\s -> (0, s))\n",
    "\n",
    "runMoi y 2500"
   ]
  },
  {
   "cell_type": "code",
   "execution_count": 22,
   "metadata": {},
   "outputs": [],
   "source": [
    "instance Monad (Moi s) where\n",
    "    return = pure\n",
    "    \n",
    "    (>>=) :: Moi s a -> (a -> Moi s b) -> Moi s b\n",
    "    (Moi f) >>= g = Moi $ \\s -> let (x, s') = f s in runMoi (g x) s'\n",
    "    \n",
    "{--\n",
    "f ~ s -> (a, s)\n",
    "g ~ a -> s -> (b, s)\n",
    "res ~ s -> (b, s)\n",
    "--}"
   ]
  },
  {
   "cell_type": "code",
   "execution_count": 13,
   "metadata": {},
   "outputs": [
    {
     "data": {
      "text/plain": [
       "(\"curryIsAmazing\",\"curryIsAmazing\")"
      ]
     },
     "metadata": {},
     "output_type": "display_data"
    }
   ],
   "source": [
    "get :: Moi s s\n",
    "get = Moi $ \\s -> (s, s)\n",
    "\n",
    "runMoi get \"curryIsAmazing\""
   ]
  },
  {
   "cell_type": "code",
   "execution_count": 14,
   "metadata": {},
   "outputs": [
    {
     "data": {
      "text/plain": [
       "((),\"blah\")"
      ]
     },
     "metadata": {},
     "output_type": "display_data"
    }
   ],
   "source": [
    "put :: s -> Moi s ()\n",
    "put a = Moi $ \\s -> ((), a)\n",
    "\n",
    "runMoi (put \"blah\") \"woot\""
   ]
  },
  {
   "cell_type": "code",
   "execution_count": 15,
   "metadata": {},
   "outputs": [
    {
     "data": {
      "text/plain": [
       "\"wilma\""
      ]
     },
     "metadata": {},
     "output_type": "display_data"
    },
    {
     "data": {
      "text/plain": [
       "\"scooby doo\""
      ]
     },
     "metadata": {},
     "output_type": "display_data"
    }
   ],
   "source": [
    "exec :: Moi s a -> s -> s\n",
    "exec msa s = snd $ (runMoi msa) s\n",
    "\n",
    "exec (put \"wilma\") \"daphne\"\n",
    "exec get \"scooby doo\""
   ]
  },
  {
   "cell_type": "code",
   "execution_count": 16,
   "metadata": {},
   "outputs": [
    {
     "data": {
      "text/plain": [
       "\"bunny\""
      ]
     },
     "metadata": {},
     "output_type": "display_data"
    }
   ],
   "source": [
    "eval :: Moi s a -> s -> a\n",
    "eval msa = fst . (runMoi msa)\n",
    "\n",
    "eval get \"bunny\""
   ]
  },
  {
   "cell_type": "code",
   "execution_count": 23,
   "metadata": {},
   "outputs": [
    {
     "data": {
      "text/plain": [
       "((),2)"
      ]
     },
     "metadata": {},
     "output_type": "display_data"
    }
   ],
   "source": [
    "modify :: (s -> s) -> Moi s ()\n",
    "modify f = Moi $ \\s -> ((), f s)\n",
    "\n",
    "runMoi (modify (+1) >> modify (+1)) 0"
   ]
  },
  {
   "cell_type": "markdown",
   "metadata": {},
   "source": [
    "<h4>FizzBuzz</h4>"
   ]
  },
  {
   "cell_type": "code",
   "execution_count": null,
   "metadata": {},
   "outputs": [],
   "source": [
    "fizzBuzz :: Integer -> String\n",
    "fizzBuzz n | n `mod` 15 == 0 = \"FizzBuzz\"\n",
    "           | n `mod` 5 == 0 = \"Buzz\"\n",
    "           | n `mod` 3 == 0 = \"Fizz\"\n",
    "           | otherwise = show n"
   ]
  },
  {
   "cell_type": "code",
   "execution_count": null,
   "metadata": {},
   "outputs": [],
   "source": [
    "addResult :: Integer -> State [String] ()\n",
    "addResult n = do\n",
    "    xs <- get\n",
    "    let result = fizzBuzz n\n",
    "    put (result : xs)\n",
    "\n",
    "fizzBuzzList :: [Integer] -> [String]\n",
    "fizzBuzzList list = execState (mapM_ addResult list) []"
   ]
  },
  {
   "cell_type": "code",
   "execution_count": null,
   "metadata": {},
   "outputs": [],
   "source": [
    "mapM_ putStrLn $ reverse $ fizzBuzzList [1..100]"
   ]
  },
  {
   "cell_type": "code",
   "execution_count": null,
   "metadata": {},
   "outputs": [],
   "source": [
    "addResult' :: Integer -> State (DL.DList String) ()\n",
    "addResult' n = do\n",
    "    xs <- get\n",
    "    let result = fizzBuzz n\n",
    "    put (DL.snoc xs result)\n",
    "\n",
    "fizzBuzzList' :: [Integer] -> [String]\n",
    "fizzBuzzList' list = let dlist = execState (mapM_ addResult' list) DL.empty\n",
    "                     in DL.apply dlist []"
   ]
  },
  {
   "cell_type": "code",
   "execution_count": null,
   "metadata": {},
   "outputs": [],
   "source": [
    "mapM_ putStrLn $ fizzBuzzList' [1..100]"
   ]
  }
 ],
 "metadata": {
  "kernelspec": {
   "display_name": "Haskell",
   "language": "haskell",
   "name": "haskell"
  },
  "language_info": {
   "codemirror_mode": "ihaskell",
   "file_extension": ".hs",
   "name": "haskell",
   "pygments_lexer": "Haskell",
   "version": "8.4.4"
  }
 },
 "nbformat": 4,
 "nbformat_minor": 2
}
