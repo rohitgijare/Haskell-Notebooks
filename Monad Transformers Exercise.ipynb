{
 "cells": [
  {
   "cell_type": "code",
   "execution_count": 35,
   "metadata": {},
   "outputs": [],
   "source": [
    "import Control.Monad.Trans.Reader\n",
    "import Control.Monad.Trans.State\n",
    "import Data.Functor.Identity"
   ]
  },
  {
   "cell_type": "code",
   "execution_count": 13,
   "metadata": {},
   "outputs": [],
   "source": [
    "rDec :: Num a => Reader a a\n",
    "rDec = reader (subtract 1)"
   ]
  },
  {
   "cell_type": "code",
   "execution_count": 14,
   "metadata": {},
   "outputs": [
    {
     "data": {
      "text/plain": [
       "0"
      ]
     },
     "metadata": {},
     "output_type": "display_data"
    },
    {
     "data": {
      "text/plain": [
       "[0,1,2,3,4,5,6,7,8,9]"
      ]
     },
     "metadata": {},
     "output_type": "display_data"
    }
   ],
   "source": [
    "runReader rDec 1\n",
    "fmap (runReader rDec) [1..10]"
   ]
  },
  {
   "cell_type": "code",
   "execution_count": 23,
   "metadata": {},
   "outputs": [],
   "source": [
    "rShow :: Show a => ReaderT a Identity String\n",
    "rShow = ReaderT $ Identity . show"
   ]
  },
  {
   "cell_type": "code",
   "execution_count": 24,
   "metadata": {},
   "outputs": [
    {
     "data": {
      "text/plain": [
       "Identity \"1\""
      ]
     },
     "metadata": {},
     "output_type": "display_data"
    },
    {
     "data": {
      "text/plain": [
       "[Identity \"1\",Identity \"2\",Identity \"3\",Identity \"4\",Identity \"5\",Identity \"6\",Identity \"7\",Identity \"8\",Identity \"9\",Identity \"10\"]"
      ]
     },
     "metadata": {},
     "output_type": "display_data"
    }
   ],
   "source": [
    "runReaderT rShow 1\n",
    "fmap (runReaderT rShow) [1..10]"
   ]
  },
  {
   "cell_type": "code",
   "execution_count": 28,
   "metadata": {},
   "outputs": [],
   "source": [
    "rPrintAndInc :: (Num a, Show a) => ReaderT a IO a\n",
    "rPrintAndInc = ReaderT $ \\r -> putStrLn (\"Hi: \" ++ show r) >> return (r+1)"
   ]
  },
  {
   "cell_type": "code",
   "execution_count": 31,
   "metadata": {},
   "outputs": [
    {
     "data": {
      "text/plain": [
       "Hi: 1\n",
       "2"
      ]
     },
     "metadata": {},
     "output_type": "display_data"
    },
    {
     "data": {
      "text/plain": [
       "Hi: 1\n",
       "Hi: 2\n",
       "Hi: 3\n",
       "Hi: 4\n",
       "Hi: 5\n",
       "Hi: 6\n",
       "Hi: 7\n",
       "Hi: 8\n",
       "Hi: 9\n",
       "Hi: 10\n",
       "[2,3,4,5,6,7,8,9,10,11]"
      ]
     },
     "metadata": {},
     "output_type": "display_data"
    }
   ],
   "source": [
    "runReaderT rPrintAndInc 1\n",
    "traverse (runReaderT rPrintAndInc) [1..10]"
   ]
  },
  {
   "cell_type": "code",
   "execution_count": 39,
   "metadata": {},
   "outputs": [],
   "source": [
    "sPrintIncAccum :: (Num a, Show a) => StateT a IO String\n",
    "sPrintIncAccum = StateT $ \\s -> putStrLn (\"Hi: \" ++ show s) >> return (show s, s+1)"
   ]
  },
  {
   "cell_type": "code",
   "execution_count": 42,
   "metadata": {},
   "outputs": [
    {
     "data": {
      "text/plain": [
       "Hi: 10\n",
       "(\"10\",11)"
      ]
     },
     "metadata": {},
     "output_type": "display_data"
    },
    {
     "data": {
      "text/plain": [
       "Hi: 1\n",
       "Hi: 2\n",
       "Hi: 3\n",
       "Hi: 4\n",
       "Hi: 5\n",
       "[(\"1\",2),(\"2\",3),(\"3\",4),(\"4\",5),(\"5\",6)]"
      ]
     },
     "metadata": {},
     "output_type": "display_data"
    }
   ],
   "source": [
    "runStateT sPrintIncAccum 10\n",
    "mapM (runStateT sPrintIncAccum) [1..5]"
   ]
  },
  {
   "cell_type": "code",
   "execution_count": null,
   "metadata": {},
   "outputs": [],
   "source": []
  }
 ],
 "metadata": {
  "kernelspec": {
   "display_name": "Haskell",
   "language": "haskell",
   "name": "haskell"
  },
  "language_info": {
   "codemirror_mode": "ihaskell",
   "file_extension": ".hs",
   "name": "haskell",
   "pygments_lexer": "Haskell",
   "version": "8.4.4"
  }
 },
 "nbformat": 4,
 "nbformat_minor": 2
}
