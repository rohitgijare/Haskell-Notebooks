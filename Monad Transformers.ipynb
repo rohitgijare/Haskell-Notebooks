{
 "cells": [
  {
   "cell_type": "code",
   "execution_count": 43,
   "metadata": {},
   "outputs": [],
   "source": [
    "import Control.Applicative\n",
    "import Data.Char"
   ]
  },
  {
   "cell_type": "code",
   "execution_count": 2,
   "metadata": {},
   "outputs": [],
   "source": [
    "{-# LANGUAGE InstanceSigs #-}"
   ]
  },
  {
   "cell_type": "markdown",
   "metadata": {},
   "source": [
    "<h4>Identity Transformer</h4>"
   ]
  },
  {
   "cell_type": "code",
   "execution_count": 3,
   "metadata": {},
   "outputs": [],
   "source": [
    "newtype Identity a = Identity { runIdentity :: a } deriving (Eq, Show)\n",
    "\n",
    "-- Identity monad transformer, specifying additional structure should exist\n",
    "newtype IdentityT f a = IdentityT { runIdentityT :: f a } deriving (Eq, Show)"
   ]
  },
  {
   "cell_type": "code",
   "execution_count": 4,
   "metadata": {},
   "outputs": [],
   "source": [
    "instance Functor Identity where\n",
    "    fmap f (Identity a) = Identity $ f a\n",
    "    \n",
    "instance Functor m => Functor (IdentityT m) where\n",
    "    fmap :: (a -> b) -> IdentityT m a -> IdentityT m b\n",
    "    fmap f (IdentityT ma) = IdentityT $ fmap f ma"
   ]
  },
  {
   "cell_type": "code",
   "execution_count": 5,
   "metadata": {},
   "outputs": [],
   "source": [
    "instance Applicative Identity where\n",
    "    pure = Identity\n",
    "    (<*>) (Identity f) (Identity a) = Identity $ f a\n",
    "    \n",
    "instance Applicative m => Applicative (IdentityT m) where\n",
    "    pure = IdentityT . pure\n",
    "    \n",
    "    (<*>) :: IdentityT m (a -> b) -> IdentityT m a -> IdentityT m b\n",
    "    (<*>) (IdentityT mf) (IdentityT ma) = IdentityT $ mf <*> ma"
   ]
  },
  {
   "cell_type": "code",
   "execution_count": 6,
   "metadata": {},
   "outputs": [],
   "source": [
    "instance Monad Identity where\n",
    "    return = pure\n",
    "    \n",
    "    (>>=) :: Identity a -> (a -> Identity b) -> Identity b\n",
    "    (>>=) (Identity a) f = f a\n",
    "    \n",
    "instance Monad m => Monad (IdentityT m) where\n",
    "    return = IdentityT . return\n",
    "    \n",
    "    (>>=) :: IdentityT m a -> (a -> IdentityT m b) -> IdentityT m b\n",
    "    (>>=) (IdentityT ma) f = IdentityT $ ma >>= runIdentityT . f\n",
    "    \n",
    "{--\n",
    "The key point is the usage of runIdentityT, which enabled us to extract (f a) from the structure.\n",
    "--}"
   ]
  },
  {
   "cell_type": "markdown",
   "metadata": {},
   "source": [
    "<div>\n",
    "General pattern is we have two polymorphic types, f and g, that each have a Monad instance. But, we end up with this pattern:\n",
    "    \n",
    "    <code>\n",
    "        f (g (f b))\n",
    "    </code><br/>\n",
    "   \n",
    "Monads cannot join these types, because of the intervening g. That is why we need to make <i>g</i> concrete, so that we can fold it out. We keep <i>f</i> polymorphic.\n",
    "</div>"
   ]
  },
  {
   "cell_type": "markdown",
   "metadata": {},
   "source": [
    "<h4>Maybe Transformer</h4>"
   ]
  },
  {
   "cell_type": "code",
   "execution_count": 7,
   "metadata": {},
   "outputs": [],
   "source": [
    "newtype MaybeT m a = MaybeT { runMaybeT :: m (Maybe a) }"
   ]
  },
  {
   "cell_type": "code",
   "execution_count": 8,
   "metadata": {},
   "outputs": [],
   "source": [
    "instance Functor m => Functor (MaybeT m) where\n",
    "    fmap :: (a -> b) -> MaybeT m a -> MaybeT m b\n",
    "    fmap f (MaybeT ma) = MaybeT $ (fmap.fmap) f ma"
   ]
  },
  {
   "cell_type": "code",
   "execution_count": 9,
   "metadata": {},
   "outputs": [],
   "source": [
    "instance Applicative m => Applicative (MaybeT m) where\n",
    "    pure :: a -> MaybeT m a\n",
    "    pure a = MaybeT $ pure (Just a)\n",
    "    \n",
    "    (<*>) :: MaybeT m (a -> b) -> MaybeT m a -> MaybeT m b\n",
    "    (<*>) (MaybeT fma) (MaybeT ma) = MaybeT $ fmap (<*>) fma <*> ma\n",
    "    \n",
    "{--\n",
    "fma ~ m (Maybe (a -> b))\n",
    "ma ~ m (Maybe a)\n",
    "\n",
    "Applicative for m is of type\n",
    "m (f a' -> f b') -> m (f a') -> m (f b')\n",
    "\n",
    "fmap :: (a -> b) -> f2 a -> f2 b\n",
    "(<*>) :: f1 (a -> b) -> f1 a -> f1 b\n",
    ":t fmap (<*>) =>\n",
    "(Applicative f1, Functor f2) => f2 (f1 (a -> b)) -> f2 (f1 a -> f1 b)\n",
    "\n",
    "Therefore, fmap (<*>) fma :: m (Maybe a -> Maybe b)\n",
    "--}"
   ]
  },
  {
   "cell_type": "code",
   "execution_count": 10,
   "metadata": {},
   "outputs": [],
   "source": [
    "instance (Monad m) => Monad (MaybeT m) where\n",
    "    return = pure\n",
    "    \n",
    "    (>>=) :: MaybeT m a -> (a -> MaybeT m b) -> MaybeT m b\n",
    "    (>>=) (MaybeT ma) f = \n",
    "        MaybeT $ do\n",
    "            v <- ma\n",
    "            case v of\n",
    "                Nothing -> return Nothing\n",
    "                Just y -> runMaybeT (f y)\n",
    "    \n",
    "{--\n",
    "What is m's bind operator going to look like?\n",
    "(m (Maybe a)) >>= (Maybe a -> m (Maybe b)) ~ (m (Maybe b))\n",
    "\n",
    "Maybe a's bind operator\n",
    "Maybe a >>= (a -> Maybe b) ~ (Maybe b)\n",
    "\n",
    "What is f's type?\n",
    "a -> MaybeT m b ~ MaybeT $ m (Maybe b)\n",
    "\n",
    "What is fmap f (Maybe a) ?\n",
    "Maybe $ MaybeT m b\n",
    "--}"
   ]
  },
  {
   "cell_type": "markdown",
   "metadata": {},
   "source": [
    "<h4>Either Transformer</h4>"
   ]
  },
  {
   "cell_type": "code",
   "execution_count": 11,
   "metadata": {},
   "outputs": [],
   "source": [
    "newtype EitherT e m a = EitherT { runEitherT :: m (Either e a) }"
   ]
  },
  {
   "cell_type": "code",
   "execution_count": 12,
   "metadata": {},
   "outputs": [],
   "source": [
    "instance Functor m => Functor (EitherT e m) where\n",
    "    fmap :: (a -> b) -> EitherT e m a -> EitherT e m b\n",
    "    fmap f (EitherT ema) = EitherT $ fmap (fmap f) ema"
   ]
  },
  {
   "cell_type": "code",
   "execution_count": 13,
   "metadata": {},
   "outputs": [],
   "source": [
    "instance Applicative m => Applicative (EitherT e m) where\n",
    "    pure :: a -> EitherT e m a\n",
    "    pure a = EitherT $ pure (pure a)\n",
    "    \n",
    "    (<*>) :: EitherT e m (a -> b) -> EitherT e m a -> EitherT e m b\n",
    "    (<*>) (EitherT emf) (EitherT ema) = EitherT $ fmap (<*>) emf <*> ema\n",
    "    \n",
    "{--\n",
    "fmap :: (a -> b) -> f a -> f b\n",
    "(<*>) :: f1 (a -> b) -> f1 a -> f1 b\n",
    "\n",
    "fmap (<*>) :: f (f1 (a -> b)) -> f (f1 a -> f1 b)\n",
    "\n",
    "emf ~ m (Either e (a -> b))\n",
    "fmap (<*>) emf :: m (Either e a -> Either e b)\n",
    "emf' ~ fmap (<*>) emf\n",
    "\n",
    "ema ~ m (Either e a)\n",
    "emf' <*> ema :: m (Either e b)\n",
    "--}"
   ]
  },
  {
   "cell_type": "code",
   "execution_count": 14,
   "metadata": {},
   "outputs": [],
   "source": [
    "instance Monad m => Monad (EitherT e m) where\n",
    "    return = pure\n",
    "    \n",
    "    (>>=) :: EitherT e m a -> (a -> EitherT e m b) -> EitherT e m b\n",
    "    (>>=) (EitherT ema) f = EitherT $ do\n",
    "        ea <- ema\n",
    "        case ea of\n",
    "            Left e -> return (Left e)\n",
    "            Right a -> runEitherT $ f a"
   ]
  },
  {
   "cell_type": "code",
   "execution_count": 15,
   "metadata": {},
   "outputs": [],
   "source": [
    "swapEither :: Either e a -> Either a e\n",
    "swapEither ea = case ea of\n",
    "    Left e -> Right e\n",
    "    Right a -> Left a\n",
    "    \n",
    "swapEitherT :: (Functor m) => EitherT e m a -> EitherT a m e\n",
    "swapEitherT (EitherT ema) = EitherT $ fmap swapEither ema"
   ]
  },
  {
   "cell_type": "code",
   "execution_count": 16,
   "metadata": {},
   "outputs": [
    {
     "data": {
      "text/plain": [
       "[Right \"Rohit\"]"
      ]
     },
     "metadata": {},
     "output_type": "display_data"
    }
   ],
   "source": [
    "z = EitherT [Left \"Rohit\"]\n",
    "runEitherT $ swapEitherT z"
   ]
  },
  {
   "cell_type": "code",
   "execution_count": 17,
   "metadata": {},
   "outputs": [],
   "source": [
    "eitherT :: Monad m => (a -> m c) -> (b -> m c) -> EitherT a m b -> m c\n",
    "eitherT fa fb (EitherT amb) = amb >>= either fa fb"
   ]
  },
  {
   "cell_type": "code",
   "execution_count": 18,
   "metadata": {},
   "outputs": [
    {
     "data": {
      "text/plain": [
       "[\"Rohit\"]"
      ]
     },
     "metadata": {},
     "output_type": "display_data"
    }
   ],
   "source": [
    "eitherT (:[]) (:[]) z"
   ]
  },
  {
   "cell_type": "markdown",
   "metadata": {},
   "source": [
    "<h4>Reader Transformer</h4>"
   ]
  },
  {
   "cell_type": "code",
   "execution_count": 19,
   "metadata": {},
   "outputs": [],
   "source": [
    "newtype ReaderT r m a = ReaderT { runReaderT :: r -> m a }"
   ]
  },
  {
   "cell_type": "code",
   "execution_count": 20,
   "metadata": {},
   "outputs": [],
   "source": [
    "instance Functor m => Functor (ReaderT r m) where\n",
    "    fmap :: (a -> b) -> ReaderT r m a -> ReaderT r m b\n",
    "    fmap f (ReaderT rma) = ReaderT $ \\r -> fmap f (rma r)"
   ]
  },
  {
   "cell_type": "code",
   "execution_count": 21,
   "metadata": {
    "scrolled": false
   },
   "outputs": [],
   "source": [
    "instance Applicative m => Applicative (ReaderT r m) where\n",
    "    pure :: a -> ReaderT r m a\n",
    "    pure a = ReaderT (pure (pure a))\n",
    "    \n",
    "    (<*>) :: ReaderT r m (a -> b) -> ReaderT r m a -> ReaderT r m b\n",
    "    --               (r -> m (a -> b)) ->   (r -> m a) ->    (r -> m b)\n",
    "    (<*>) (ReaderT fmab) (ReaderT rma) = ReaderT $ fmap (<*>) fmab <*> rma"
   ]
  },
  {
   "cell_type": "code",
   "execution_count": 22,
   "metadata": {},
   "outputs": [],
   "source": [
    "instance Monad m => Monad (ReaderT r m) where\n",
    "    return = pure\n",
    "\n",
    "    (>>=) :: ReaderT r m a -> (a -> ReaderT r m b) -> ReaderT r m b\n",
    "    -- (r -> m a) -> (a -> (r -> m b)) -> (r -> m b)\n",
    "    (>>=) (ReaderT rma) f = ReaderT $ \\r -> do\n",
    "        a <- rma r\n",
    "        runReaderT (f a) r"
   ]
  },
  {
   "cell_type": "markdown",
   "metadata": {},
   "source": [
    "<h4>State Transformer</h4>"
   ]
  },
  {
   "cell_type": "code",
   "execution_count": 23,
   "metadata": {},
   "outputs": [],
   "source": [
    "newtype StateT s m a = StateT { runStateT :: s -> m (a, s) }"
   ]
  },
  {
   "cell_type": "code",
   "execution_count": 24,
   "metadata": {},
   "outputs": [],
   "source": [
    "instance (Functor m) => Functor (StateT s m) where\n",
    "    fmap :: (a -> b) -> StateT s m a -> StateT s m b\n",
    "    fmap f (StateT sma) = StateT $ \\s -> fmap (\\(x, y) -> (f x, y)) (sma s)"
   ]
  },
  {
   "cell_type": "code",
   "execution_count": 25,
   "metadata": {},
   "outputs": [],
   "source": [
    "instance Monad m => Applicative (StateT s m) where\n",
    "    pure a = StateT $ \\s -> pure (a, s)\n",
    "    \n",
    "    (<*>) :: StateT s m (a -> b) -> StateT s m a -> StateT s m b\n",
    "    (<*>) (StateT fmab) (StateT sma) = StateT $ \\s -> do\n",
    "        a <- fmap fst (sma s)\n",
    "        f <- fmap fst (fmab s)\n",
    "        return (f a, s)"
   ]
  },
  {
   "cell_type": "code",
   "execution_count": 26,
   "metadata": {},
   "outputs": [],
   "source": [
    "instance Monad m => Monad (StateT s m) where\n",
    "    return = pure\n",
    "    \n",
    "    (>>=) :: StateT s m a -> (a -> StateT s m b) -> StateT s m b\n",
    "    (>>=) (StateT sma) f = StateT $ \\s -> do\n",
    "        a <- fmap fst (sma s)\n",
    "        runStateT (f a) s"
   ]
  },
  {
   "cell_type": "markdown",
   "metadata": {},
   "source": [
    "<h4>Embedded Example</h4>"
   ]
  },
  {
   "cell_type": "code",
   "execution_count": 27,
   "metadata": {},
   "outputs": [],
   "source": [
    "embedded :: MaybeT (EitherT String (ReaderT () IO)) Int\n",
    "embedded = return 1"
   ]
  },
  {
   "cell_type": "code",
   "execution_count": 28,
   "metadata": {},
   "outputs": [],
   "source": [
    "maybeUnwrap :: EitherT String (ReaderT () IO) (Maybe Int)\n",
    "maybeUnwrap = runMaybeT embedded"
   ]
  },
  {
   "cell_type": "code",
   "execution_count": 29,
   "metadata": {},
   "outputs": [],
   "source": [
    "eitherUnwrap :: ReaderT () IO (Either String (Maybe Int))\n",
    "eitherUnwrap = runEitherT maybeUnwrap"
   ]
  },
  {
   "cell_type": "code",
   "execution_count": 30,
   "metadata": {},
   "outputs": [],
   "source": [
    "readerUnwrap :: () -> IO (Either String (Maybe Int))\n",
    "readerUnwrap = runReaderT eitherUnwrap"
   ]
  },
  {
   "cell_type": "code",
   "execution_count": 31,
   "metadata": {},
   "outputs": [
    {
     "data": {
      "text/plain": [
       "Right (Just 1)"
      ]
     },
     "metadata": {},
     "output_type": "display_data"
    }
   ],
   "source": [
    "readerUnwrap ()"
   ]
  },
  {
   "cell_type": "markdown",
   "metadata": {},
   "source": [
    "<h4>MonadTrans instances</h4>"
   ]
  },
  {
   "cell_type": "code",
   "execution_count": 32,
   "metadata": {},
   "outputs": [],
   "source": [
    "class MonadTrans t where\n",
    "    lift :: (Monad m) => m a -> t m a"
   ]
  },
  {
   "cell_type": "code",
   "execution_count": 33,
   "metadata": {},
   "outputs": [],
   "source": [
    "instance MonadTrans IdentityT where\n",
    "    lift = IdentityT"
   ]
  },
  {
   "cell_type": "code",
   "execution_count": 34,
   "metadata": {},
   "outputs": [],
   "source": [
    "instance MonadTrans MaybeT where\n",
    "    lift :: (Monad m) => m a -> MaybeT m a\n",
    "    lift = MaybeT . fmap Just"
   ]
  },
  {
   "cell_type": "code",
   "execution_count": 35,
   "metadata": {},
   "outputs": [],
   "source": [
    "instance MonadTrans (ReaderT r) where\n",
    "    lift :: (Monad m) => m a -> ReaderT r m a\n",
    "    lift = ReaderT . const"
   ]
  },
  {
   "cell_type": "code",
   "execution_count": 36,
   "metadata": {},
   "outputs": [],
   "source": [
    "instance MonadTrans (EitherT e) where\n",
    "    lift :: (Monad m) => m a -> EitherT e m a\n",
    "    lift = EitherT . fmap Right"
   ]
  },
  {
   "cell_type": "code",
   "execution_count": 42,
   "metadata": {},
   "outputs": [],
   "source": [
    "instance MonadTrans (StateT s) where\n",
    "    lift :: (Monad m) => m a -> StateT s m a\n",
    "    lift ma = StateT $ \\s -> ma >>= (\\x -> return (x, s))"
   ]
  },
  {
   "cell_type": "markdown",
   "metadata": {},
   "source": [
    "<h4>More examples for showing the need for monad transformers</h4>\n",
    "<h5><a href=\"https://en.wikibooks.org/wiki/Haskell/Monad_transformers\">From this website</a></h5>"
   ]
  },
  {
   "cell_type": "code",
   "execution_count": 44,
   "metadata": {},
   "outputs": [],
   "source": [
    "isValid :: String -> Bool\n",
    "isValid s = length s >= 8\n",
    "            && any isAlpha s\n",
    "            && any isNumber s\n",
    "            && any isPunctuation s\n",
    "\n",
    "getPassphrase :: IO (Maybe String)\n",
    "getPassphrase = do\n",
    "    s <- getLine\n",
    "    if isValid s then return $ Just s\n",
    "                 else return Nothing"
   ]
  },
  {
   "cell_type": "code",
   "execution_count": 45,
   "metadata": {},
   "outputs": [],
   "source": [
    "askPassphrase :: IO ()\n",
    "askPassphrase = do\n",
    "    putStrLn \"Insert your new passphrase:\"\n",
    "    maybeVal <- getPassphrase\n",
    "    case maybeVal of\n",
    "        Just val -> putStrLn \"Storing in db\"\n",
    "        Nothing -> putStrLn \"Passphrase invalid\""
   ]
  },
  {
   "cell_type": "markdown",
   "metadata": {},
   "source": [
    "<h6>Passphrase, simplified</h6>"
   ]
  },
  {
   "cell_type": "code",
   "execution_count": 64,
   "metadata": {},
   "outputs": [],
   "source": [
    "getPassphraseUsingT :: MaybeT IO String\n",
    "getPassphraseUsingT = do\n",
    "    s <- lift getLine\n",
    "    if isValid s then return s\n",
    "                 else MaybeT $ return Nothing\n",
    "                 \n",
    "askPassphraseUsingT :: MaybeT IO String\n",
    "askPassphraseUsingT = do\n",
    "    lift $ putStrLn \"Insert your new passphrase:\"\n",
    "    value <- getPassphraseUsingT\n",
    "    lift $ putStrLn \"Storing in db\"\n",
    "    return \"\""
   ]
  }
 ],
 "metadata": {
  "kernelspec": {
   "display_name": "Haskell",
   "language": "haskell",
   "name": "haskell"
  },
  "language_info": {
   "codemirror_mode": "ihaskell",
   "file_extension": ".hs",
   "name": "haskell",
   "pygments_lexer": "Haskell",
   "version": "8.4.4"
  }
 },
 "nbformat": 4,
 "nbformat_minor": 2
}
