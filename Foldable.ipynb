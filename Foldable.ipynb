{
 "cells": [
  {
   "cell_type": "code",
   "execution_count": 68,
   "metadata": {},
   "outputs": [],
   "source": [
    "import Data.Maybe\n",
    "import Test.QuickCheck\n",
    "import Test.QuickCheck.Checkers\n",
    "import Test.QuickCheck.Classes"
   ]
  },
  {
   "cell_type": "markdown",
   "metadata": {},
   "source": [
    "<h4>Identity</h4>"
   ]
  },
  {
   "cell_type": "code",
   "execution_count": null,
   "metadata": {},
   "outputs": [],
   "source": [
    "data Identity a = Identity a\n",
    "\n",
    "instance Foldable Identity where\n",
    "    foldr f a (Identity x) = f x a\n",
    "    foldl f a (Identity x) = f a x\n",
    "    foldMap f (Identity x) = f x"
   ]
  },
  {
   "cell_type": "markdown",
   "metadata": {},
   "source": [
    "<h4>Maybe synonym - Optional</h4>"
   ]
  },
  {
   "cell_type": "code",
   "execution_count": null,
   "metadata": {},
   "outputs": [],
   "source": [
    "data Optional a = Nada | Yep a deriving (Eq, Show)\n",
    "\n",
    "instance Foldable Optional where\n",
    "    foldr _ acc Nada = acc\n",
    "    foldr f acc (Yep a) = f a acc\n",
    "    \n",
    "    foldl _ acc Nada = acc\n",
    "    foldl f acc (Yep a) = f acc a\n",
    "    \n",
    "    foldMap _ Nada = mempty\n",
    "    foldMap f (Yep a) = f a"
   ]
  },
  {
   "cell_type": "markdown",
   "metadata": {},
   "source": [
    "<h4>Exercises</h4>"
   ]
  },
  {
   "cell_type": "code",
   "execution_count": 61,
   "metadata": {},
   "outputs": [],
   "source": [
    "data Constant a b = Constant b deriving (Eq, Show)\n",
    "\n",
    "instance Foldable (Constant a) where\n",
    "    foldr f b (Constant a) = f a b\n",
    "    \n",
    "    foldl f b (Constant a) = f b a\n",
    "    \n",
    "    foldMap f (Constant a) = f a"
   ]
  },
  {
   "cell_type": "code",
   "execution_count": 65,
   "metadata": {},
   "outputs": [],
   "source": [
    "data Two a b = Two a b\n",
    "\n",
    "instance Foldable (Two a) where\n",
    "    foldr f b (Two a a') = f a' b\n",
    "    \n",
    "    foldl f b (Two a a') = f b a'\n",
    "    \n",
    "    foldMap f (Two a a') = f a'"
   ]
  },
  {
   "cell_type": "code",
   "execution_count": null,
   "metadata": {},
   "outputs": [],
   "source": [
    "data Four' a b = Four' a b b b\n",
    "\n",
    "instance Foldable (Four' a) where\n",
    "    foldr "
   ]
  },
  {
   "cell_type": "markdown",
   "metadata": {},
   "source": [
    "<h4>Library functions using foldable</h4>"
   ]
  },
  {
   "cell_type": "code",
   "execution_count": null,
   "metadata": {},
   "outputs": [],
   "source": [
    "sum' :: (Foldable t, Num a) => t a -> a\n",
    "sum' = foldr (+) 0"
   ]
  },
  {
   "cell_type": "code",
   "execution_count": null,
   "metadata": {},
   "outputs": [],
   "source": [
    "sum (7, 5) == sum' (7, 5)\n",
    "fmap sum [(7, 5), (3, 4)] == fmap sum' [(7, 5), (3, 4)]\n",
    "fmap sum (Just [1..5]) == fmap sum' (Just [1..5])"
   ]
  },
  {
   "cell_type": "code",
   "execution_count": null,
   "metadata": {},
   "outputs": [],
   "source": [
    "product' :: (Foldable t, Num a) => t a -> a\n",
    "product'= foldr (*) 1"
   ]
  },
  {
   "cell_type": "code",
   "execution_count": null,
   "metadata": {},
   "outputs": [],
   "source": [
    "product Nothing == product' Nothing\n",
    "fmap product (Just []) == fmap product' (Just [])\n",
    "fmap product (Right [1, 2, 3]) == fmap product' (Right [1, 2, 3])"
   ]
  },
  {
   "cell_type": "code",
   "execution_count": null,
   "metadata": {},
   "outputs": [],
   "source": [
    "elem' :: (Foldable t, Eq a) => a -> t a -> Bool\n",
    "elem' e t = foldr (\\a b -> a == e || b) False t"
   ]
  },
  {
   "cell_type": "code",
   "execution_count": null,
   "metadata": {},
   "outputs": [],
   "source": [
    "elem 2 (Just 3) == elem' 2 (Just 3)\n",
    "elem True (Left False) == elem' True (Left False)\n",
    "elem True (Left True) == elem' True (Left True)\n",
    "elem True (Right False) == elem' True (Right False)\n",
    "elem True (Right True) == elem' True (Right True)\n",
    "fmap (elem 3) [Right 1, Right 2, Right 3] == fmap (elem' 3) [Right 1, Right 2, Right 3]"
   ]
  },
  {
   "cell_type": "code",
   "execution_count": 40,
   "metadata": {},
   "outputs": [],
   "source": [
    "minimum' :: (Foldable t, Ord a) => t a -> Maybe a\n",
    "minimum' = foldr (\\x y -> if y == Nothing then Just x else (Just (min x (fromJust y)))) Nothing "
   ]
  },
  {
   "cell_type": "code",
   "execution_count": 71,
   "metadata": {},
   "outputs": [
    {
     "data": {
      "text/plain": [
       "True"
      ]
     },
     "metadata": {},
     "output_type": "display_data"
    },
    {
     "data": {
      "text/plain": [
       "True"
      ]
     },
     "metadata": {},
     "output_type": "display_data"
    }
   ],
   "source": [
    "Just (minimum \"julie\") == minimum' \"julie\"\n",
    "(Just \"julie\" >>= minimum') == fmap minimum (Just \"julie\")"
   ]
  },
  {
   "cell_type": "code",
   "execution_count": null,
   "metadata": {},
   "outputs": [],
   "source": []
  }
 ],
 "metadata": {
  "kernelspec": {
   "display_name": "Haskell",
   "language": "haskell",
   "name": "haskell"
  },
  "language_info": {
   "codemirror_mode": "ihaskell",
   "file_extension": ".hs",
   "name": "haskell",
   "pygments_lexer": "Haskell",
   "version": "8.4.4"
  }
 },
 "nbformat": 4,
 "nbformat_minor": 2
}
