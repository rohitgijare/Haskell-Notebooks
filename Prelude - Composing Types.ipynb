{
 "cells": [
  {
   "cell_type": "code",
   "execution_count": 64,
   "metadata": {},
   "outputs": [],
   "source": [
    "import Control.Applicative"
   ]
  },
  {
   "cell_type": "code",
   "execution_count": 3,
   "metadata": {},
   "outputs": [],
   "source": [
    "newtype Identity a = Identity { runIdentity :: a } deriving (Eq, Show)"
   ]
  },
  {
   "cell_type": "code",
   "execution_count": 2,
   "metadata": {},
   "outputs": [],
   "source": [
    "newtype Compose f g a = Compose { getCompose :: f (g a) } deriving (Eq, Show)"
   ]
  },
  {
   "cell_type": "code",
   "execution_count": 14,
   "metadata": {},
   "outputs": [
    {
     "data": {
      "text/html": [
       "<style>/* Styles used for the Hoogle display in the pager */\n",
       ".hoogle-doc {\n",
       "display: block;\n",
       "padding-bottom: 1.3em;\n",
       "padding-left: 0.4em;\n",
       "}\n",
       ".hoogle-code {\n",
       "display: block;\n",
       "font-family: monospace;\n",
       "white-space: pre;\n",
       "}\n",
       ".hoogle-text {\n",
       "display: block;\n",
       "}\n",
       ".hoogle-name {\n",
       "color: green;\n",
       "font-weight: bold;\n",
       "}\n",
       ".hoogle-head {\n",
       "font-weight: bold;\n",
       "}\n",
       ".hoogle-sub {\n",
       "display: block;\n",
       "margin-left: 0.4em;\n",
       "}\n",
       ".hoogle-package {\n",
       "font-weight: bold;\n",
       "font-style: italic;\n",
       "}\n",
       ".hoogle-module {\n",
       "font-weight: bold;\n",
       "}\n",
       ".hoogle-class {\n",
       "font-weight: bold;\n",
       "}\n",
       ".get-type {\n",
       "color: green;\n",
       "font-weight: bold;\n",
       "font-family: monospace;\n",
       "display: block;\n",
       "white-space: pre-wrap;\n",
       "}\n",
       ".show-type {\n",
       "color: green;\n",
       "font-weight: bold;\n",
       "font-family: monospace;\n",
       "margin-left: 1em;\n",
       "}\n",
       ".mono {\n",
       "font-family: monospace;\n",
       "display: block;\n",
       "}\n",
       ".err-msg {\n",
       "color: red;\n",
       "font-style: italic;\n",
       "font-family: monospace;\n",
       "white-space: pre;\n",
       "display: block;\n",
       "}\n",
       "#unshowable {\n",
       "color: red;\n",
       "font-weight: bold;\n",
       "}\n",
       ".err-msg.in.collapse {\n",
       "padding-top: 0.7em;\n",
       "}\n",
       ".highlight-code {\n",
       "white-space: pre;\n",
       "font-family: monospace;\n",
       "}\n",
       ".suggestion-warning { \n",
       "font-weight: bold;\n",
       "color: rgb(200, 130, 0);\n",
       "}\n",
       ".suggestion-error { \n",
       "font-weight: bold;\n",
       "color: red;\n",
       "}\n",
       ".suggestion-name {\n",
       "font-weight: bold;\n",
       "}\n",
       "</style><span class='get-type'>k :: Compose [] Maybe Int</span>"
      ],
      "text/plain": [
       "k :: Compose [] Maybe Int"
      ]
     },
     "metadata": {},
     "output_type": "display_data"
    }
   ],
   "source": [
    "k = Compose [Just (1 :: Int), Nothing]\n",
    ":t k"
   ]
  },
  {
   "cell_type": "code",
   "execution_count": 15,
   "metadata": {},
   "outputs": [],
   "source": [
    "instance Functor Identity where\n",
    "    fmap f (Identity a) = Identity (f a)"
   ]
  },
  {
   "cell_type": "code",
   "execution_count": 16,
   "metadata": {},
   "outputs": [],
   "source": [
    "instance (Functor f, Functor g) => Functor (Compose f g) where\n",
    "    fmap f (Compose fga) = Compose $ (fmap . fmap) f fga"
   ]
  },
  {
   "cell_type": "code",
   "execution_count": 18,
   "metadata": {},
   "outputs": [
    {
     "data": {
      "text/plain": [
       "Compose {getCompose = [Just 2,Nothing]}"
      ]
     },
     "metadata": {},
     "output_type": "display_data"
    }
   ],
   "source": [
    "fmap (+1) k"
   ]
  },
  {
   "cell_type": "code",
   "execution_count": 89,
   "metadata": {
    "scrolled": true
   },
   "outputs": [
    {
     "data": {
      "text/html": [
       "<style>/* Styles used for the Hoogle display in the pager */\n",
       ".hoogle-doc {\n",
       "display: block;\n",
       "padding-bottom: 1.3em;\n",
       "padding-left: 0.4em;\n",
       "}\n",
       ".hoogle-code {\n",
       "display: block;\n",
       "font-family: monospace;\n",
       "white-space: pre;\n",
       "}\n",
       ".hoogle-text {\n",
       "display: block;\n",
       "}\n",
       ".hoogle-name {\n",
       "color: green;\n",
       "font-weight: bold;\n",
       "}\n",
       ".hoogle-head {\n",
       "font-weight: bold;\n",
       "}\n",
       ".hoogle-sub {\n",
       "display: block;\n",
       "margin-left: 0.4em;\n",
       "}\n",
       ".hoogle-package {\n",
       "font-weight: bold;\n",
       "font-style: italic;\n",
       "}\n",
       ".hoogle-module {\n",
       "font-weight: bold;\n",
       "}\n",
       ".hoogle-class {\n",
       "font-weight: bold;\n",
       "}\n",
       ".get-type {\n",
       "color: green;\n",
       "font-weight: bold;\n",
       "font-family: monospace;\n",
       "display: block;\n",
       "white-space: pre-wrap;\n",
       "}\n",
       ".show-type {\n",
       "color: green;\n",
       "font-weight: bold;\n",
       "font-family: monospace;\n",
       "margin-left: 1em;\n",
       "}\n",
       ".mono {\n",
       "font-family: monospace;\n",
       "display: block;\n",
       "}\n",
       ".err-msg {\n",
       "color: red;\n",
       "font-style: italic;\n",
       "font-family: monospace;\n",
       "white-space: pre;\n",
       "display: block;\n",
       "}\n",
       "#unshowable {\n",
       "color: red;\n",
       "font-weight: bold;\n",
       "}\n",
       ".err-msg.in.collapse {\n",
       "padding-top: 0.7em;\n",
       "}\n",
       ".highlight-code {\n",
       "white-space: pre;\n",
       "font-family: monospace;\n",
       "}\n",
       ".suggestion-warning { \n",
       "font-weight: bold;\n",
       "color: rgb(200, 130, 0);\n",
       "}\n",
       ".suggestion-error { \n",
       "font-weight: bold;\n",
       "color: red;\n",
       "}\n",
       ".suggestion-name {\n",
       "font-weight: bold;\n",
       "}\n",
       "</style><div class=\"suggestion-name\" style=\"clear:both;\">Redundant bracket</div><div class=\"suggestion-row\" style=\"float: left;\"><div class=\"suggestion-warning\">Found:</div><div class=\"highlight-code\" id=\"haskell\">(fmap (<*>) f') <*> a'</div></div><div class=\"suggestion-row\" style=\"float: left;\"><div class=\"suggestion-warning\">Why Not:</div><div class=\"highlight-code\" id=\"haskell\">fmap (<*>) f' <*> a'</div></div>"
      ],
      "text/plain": [
       "Line 6: Redundant bracket\n",
       "Found:\n",
       "(fmap (<*>) f') <*> a'\n",
       "Why not:\n",
       "fmap (<*>) f' <*> a'"
      ]
     },
     "metadata": {},
     "output_type": "display_data"
    }
   ],
   "source": [
    "{-# LANGUAGE InstanceSigs #-}\n",
    "instance (Applicative f, Applicative g) => Applicative (Compose f g) where\n",
    "    pure :: a -> Compose f g a\n",
    "    pure = Compose . pure . pure\n",
    "    \n",
    "    (<*>) :: Compose f g (a -> b) -> Compose f g a -> Compose f g b\n",
    "    (<*>) (Compose f') (Compose a') = Compose $ (fmap (<*>) f') <*> a'\n",
    "    \n",
    "{--\n",
    "fmap :: (a -> b) -> f a -> f b\n",
    "<*> :: f1 (a -> b) -> f1 a -> f1 b\n",
    "\n",
    "fmap (<*>) :: f (f1 (a -> b)) -> f (f1 a -> f1 b)\n",
    "f' ~ f g (a -> b)\n",
    "f'' ~ fmap (<*>) f' :: f (g a -> g b)\n",
    "a' ~ f g a\n",
    "\n",
    "Therefore,\n",
    "f'' <*> a' :: f g b\n",
    "--}"
   ]
  },
  {
   "cell_type": "code",
   "execution_count": 86,
   "metadata": {},
   "outputs": [
    {
     "data": {
      "text/plain": [
       "Compose {getCompose = [Just 3,Nothing,Just 2,Nothing]}"
      ]
     },
     "metadata": {},
     "output_type": "display_data"
    }
   ],
   "source": [
    "Compose [Just (+2), Just (*2)] <*> k"
   ]
  },
  {
   "cell_type": "code",
   "execution_count": 99,
   "metadata": {},
   "outputs": [],
   "source": [
    "instance (Monad f, Monad g) => Monad (Compose f g) where\n",
    "    return = pure\n",
    "    \n",
    "    (>>=) :: Compose f g a -> (a -> Compose f g b) -> Compose f g b\n",
    "    -- (>>=) (Compose fga) f = fga >>= (\\x -> x >>= (\\y -> getCompose $ f y)) \n",
    "    (>>=) = undefined\n",
    "\n",
    "{--\n",
    "\\x -> x :: ga (\\y -> y :: a)\n",
    "x >>= \\y :: g (f g a)\n",
    "y >>= (f :: Compose f g b) :: \n",
    "--}"
   ]
  },
  {
   "cell_type": "code",
   "execution_count": 97,
   "metadata": {},
   "outputs": [],
   "source": [
    "instance (Foldable f, Foldable g) => Foldable (Compose f g) where\n",
    "    foldMap f (Compose fga) = foldMap (foldMap f) fga"
   ]
  },
  {
   "cell_type": "code",
   "execution_count": 106,
   "metadata": {},
   "outputs": [],
   "source": [
    "instance (Traversable f, Traversable g) => Traversable (Compose f g) where\n",
    "    traverse :: Applicative f' => (a -> f' b) -> Compose f g a -> f' (Compose f g b) \n",
    "    traverse f (Compose fga) = fmap Compose (traverse (traverse f) fga)"
   ]
  },
  {
   "cell_type": "markdown",
   "metadata": {},
   "source": [
    "<h4>BiFunctory Type Class</h4>"
   ]
  },
  {
   "cell_type": "code",
   "execution_count": 107,
   "metadata": {},
   "outputs": [],
   "source": [
    "class BiFunctor p where\n",
    "    {-# MINIMAL bimap | first, second #-}\n",
    "    \n",
    "    bimap :: (a -> b) -> (c -> d) -> p a c -> p b d\n",
    "    bimap f g = first f . second g\n",
    "    \n",
    "    first :: (a -> b) -> p a c -> p b c\n",
    "    first f = bimap f id\n",
    "    \n",
    "    second :: (c -> d) -> p a c -> p a d\n",
    "    second = bimap id"
   ]
  },
  {
   "cell_type": "code",
   "execution_count": 110,
   "metadata": {},
   "outputs": [],
   "source": [
    "data Deux a b = Deux a b deriving (Eq, Show)\n",
    "\n",
    "instance BiFunctor Deux where\n",
    "    bimap f g (Deux a b) = Deux (f a) (g b)"
   ]
  },
  {
   "cell_type": "code",
   "execution_count": 111,
   "metadata": {},
   "outputs": [
    {
     "data": {
      "text/plain": [
       "Deux 2.1 \"rohit gijare\""
      ]
     },
     "metadata": {},
     "output_type": "display_data"
    }
   ],
   "source": [
    "x = Deux 1.1 \"rohit\"\n",
    "bimap (+1) (++ \" gijare\") x"
   ]
  },
  {
   "cell_type": "code",
   "execution_count": 114,
   "metadata": {},
   "outputs": [],
   "source": [
    "data Const a b = Const a deriving (Eq, Show)\n",
    "\n",
    "instance BiFunctor Const where\n",
    "    bimap f _ (Const a) = Const $ f a"
   ]
  },
  {
   "cell_type": "code",
   "execution_count": 115,
   "metadata": {},
   "outputs": [
    {
     "data": {
      "text/plain": [
       "Const 2.3"
      ]
     },
     "metadata": {},
     "output_type": "display_data"
    }
   ],
   "source": [
    "y = Const 1.3\n",
    "bimap (+1) (++ \" gijare\") y"
   ]
  },
  {
   "cell_type": "code",
   "execution_count": 116,
   "metadata": {},
   "outputs": [],
   "source": [
    "data Drei a b c = Drei a b c deriving (Eq, Show)\n",
    "\n",
    "instance BiFunctor (Drei a) where\n",
    "    bimap f g (Drei a b c) = Drei a (f b) (g c)"
   ]
  },
  {
   "cell_type": "code",
   "execution_count": 118,
   "metadata": {},
   "outputs": [
    {
     "data": {
      "text/plain": [
       "Drei 1.5 4.0 \"Rohit gijare\""
      ]
     },
     "metadata": {},
     "output_type": "display_data"
    }
   ],
   "source": [
    "z = Drei 1.5 3.0 \"Rohit\"\n",
    "bimap (+1) (++ \" gijare\") z"
   ]
  },
  {
   "cell_type": "code",
   "execution_count": 126,
   "metadata": {},
   "outputs": [],
   "source": [
    "data SuperDrei a b c = SuperDrei a b deriving (Eq, Show)\n",
    "\n",
    "instance BiFunctor (SuperDrei a) where\n",
    "    bimap f _ (SuperDrei a b) = SuperDrei a (f b)"
   ]
  },
  {
   "cell_type": "code",
   "execution_count": 128,
   "metadata": {},
   "outputs": [
    {
     "data": {
      "text/plain": [
       "SuperDrei \"Rohit\" \"Gijare GG \""
      ]
     },
     "metadata": {},
     "output_type": "display_data"
    }
   ],
   "source": [
    "z' = SuperDrei \"Rohit\" \"Gijare\"\n",
    "bimap (++ \" GG \") (+1) z'"
   ]
  },
  {
   "cell_type": "code",
   "execution_count": 130,
   "metadata": {},
   "outputs": [],
   "source": [
    "data SemiDrei a b c = SemiDrei a\n",
    "\n",
    "instance BiFunctor (SemiDrei a) where\n",
    "    bimap _ _ (SemiDrei a) = SemiDrei a"
   ]
  },
  {
   "cell_type": "code",
   "execution_count": 133,
   "metadata": {},
   "outputs": [],
   "source": [
    "data Quadriceps a b c d = Quadrazzz a b c d deriving (Eq, Show)\n",
    "\n",
    "instance BiFunctor (Quadriceps a b) where\n",
    "    bimap f g (Quadrazzz a b c d) = Quadrazzz a b (f c) (g d)"
   ]
  },
  {
   "cell_type": "code",
   "execution_count": 134,
   "metadata": {},
   "outputs": [
    {
     "data": {
      "text/plain": [
       "Quadrazzz 1 2 (Just 2.1) 4.2"
      ]
     },
     "metadata": {},
     "output_type": "display_data"
    }
   ],
   "source": [
    "z'' = Quadrazzz 1 2 (Just 1.1) 2.2\n",
    "bimap (fmap (+1)) (+2) z''"
   ]
  },
  {
   "cell_type": "code",
   "execution_count": 138,
   "metadata": {},
   "outputs": [],
   "source": [
    "data Sum a b = Lefty a | Righty b deriving (Eq, Show)\n",
    "\n",
    "instance BiFunctor Sum where\n",
    "    bimap f _ (Lefty a) = Lefty $ f a\n",
    "    bimap _ g (Righty b) = Righty $ g b"
   ]
  },
  {
   "cell_type": "code",
   "execution_count": 139,
   "metadata": {},
   "outputs": [
    {
     "data": {
      "text/plain": [
       "Lefty \"Rohit Gijare\""
      ]
     },
     "metadata": {},
     "output_type": "display_data"
    },
    {
     "data": {
      "text/plain": [
       "Righty \"Exception Error\""
      ]
     },
     "metadata": {},
     "output_type": "display_data"
    }
   ],
   "source": [
    "x'  = Lefty \"Rohit\"\n",
    "x'' = Righty \"Exception\"\n",
    "\n",
    "bimap (++ \" Gijare\") (++ \" Error\") x'\n",
    "bimap (++ \" Gijare\") (++ \" Error\") x''"
   ]
  },
  {
   "cell_type": "code",
   "execution_count": null,
   "metadata": {},
   "outputs": [],
   "source": []
  }
 ],
 "metadata": {
  "kernelspec": {
   "display_name": "Haskell",
   "language": "haskell",
   "name": "haskell"
  },
  "language_info": {
   "codemirror_mode": "ihaskell",
   "file_extension": ".hs",
   "name": "haskell",
   "pygments_lexer": "Haskell",
   "version": "8.4.4"
  }
 },
 "nbformat": 4,
 "nbformat_minor": 2
}
