{
 "cells": [
  {
   "cell_type": "code",
   "execution_count": 69,
   "metadata": {},
   "outputs": [],
   "source": [
    "import Control.Monad\n",
    "import Test.QuickCheck\n",
    "import Test.QuickCheck.Checkers\n",
    "import Test.QuickCheck.Classes"
   ]
  },
  {
   "cell_type": "code",
   "execution_count": 3,
   "metadata": {},
   "outputs": [],
   "source": [
    "bind :: Monad m => m a -> (a -> m b) -> m b\n",
    "bind a f = join (fmap f a)"
   ]
  },
  {
   "cell_type": "markdown",
   "metadata": {},
   "source": [
    "<h4>Simple comparison between Functors and Monads</h4>"
   ]
  },
  {
   "cell_type": "code",
   "execution_count": 22,
   "metadata": {},
   "outputs": [],
   "source": [
    "twiceWhenEven = fmap (\\x -> if x `mod` 2 == 1 then [] else [x*x, x*x])"
   ]
  },
  {
   "cell_type": "code",
   "execution_count": 23,
   "metadata": {},
   "outputs": [
    {
     "data": {
      "text/plain": [
       "[[],[]]"
      ]
     },
     "metadata": {},
     "output_type": "display_data"
    }
   ],
   "source": [
    "twiceWhenEven [1,3]"
   ]
  },
  {
   "cell_type": "code",
   "execution_count": 17,
   "metadata": {},
   "outputs": [],
   "source": [
    "twiceWhenEvenMonadic :: [Integer] -> [Integer]\n",
    "twiceWhenEvenMonadic xs = do\n",
    "    x <- xs\n",
    "    if even x\n",
    "        then [x*x, x*x]\n",
    "        else [x*x]"
   ]
  },
  {
   "cell_type": "code",
   "execution_count": 18,
   "metadata": {},
   "outputs": [
    {
     "data": {
      "text/plain": [
       "[1,4,4,9]"
      ]
     },
     "metadata": {},
     "output_type": "display_data"
    }
   ],
   "source": [
    "twiceWhenEvenMonadic [1..3]"
   ]
  },
  {
   "cell_type": "code",
   "execution_count": 19,
   "metadata": {},
   "outputs": [],
   "source": [
    "twiceWhenEvenMonadic' :: [Integer] -> [Integer]\n",
    "twiceWhenEvenMonadic' xs = do\n",
    "    x <- xs\n",
    "    if even x\n",
    "        then [x*x, x*x]\n",
    "        else []"
   ]
  },
  {
   "cell_type": "code",
   "execution_count": 21,
   "metadata": {},
   "outputs": [
    {
     "data": {
      "text/plain": [
       "[]"
      ]
     },
     "metadata": {},
     "output_type": "display_data"
    }
   ],
   "source": [
    "twiceWhenEvenMonadic' [1,3]"
   ]
  },
  {
   "cell_type": "markdown",
   "metadata": {},
   "source": [
    "<h4>Cow example (compare with example in Applicatives)</h4>"
   ]
  },
  {
   "cell_type": "code",
   "execution_count": 24,
   "metadata": {},
   "outputs": [],
   "source": [
    "data Cow = Cow { name:: String, age:: Int, weight:: Int } deriving (Eq, Show)"
   ]
  },
  {
   "cell_type": "code",
   "execution_count": 25,
   "metadata": {},
   "outputs": [],
   "source": [
    "noEmpty :: String -> Maybe String\n",
    "noEmpty \"\" = Nothing\n",
    "noEmpty str = Just str"
   ]
  },
  {
   "cell_type": "code",
   "execution_count": 26,
   "metadata": {},
   "outputs": [],
   "source": [
    "noNegative :: Int -> Maybe Int\n",
    "noNegative n \n",
    "    | n >= 0     = Just n\n",
    "    | otherwise  = Nothing"
   ]
  },
  {
   "cell_type": "code",
   "execution_count": 27,
   "metadata": {},
   "outputs": [],
   "source": [
    "weightCheck :: Cow -> Maybe Cow\n",
    "weightCheck c = \n",
    "    let w = weight c\n",
    "        n = name c\n",
    "    in if n == \"Bess\" && w > 499\n",
    "        then Nothing\n",
    "        else Just c"
   ]
  },
  {
   "cell_type": "code",
   "execution_count": 28,
   "metadata": {},
   "outputs": [],
   "source": [
    "mkSphericalCow :: String -> Int -> Int -> Maybe Cow\n",
    "mkSphericalCow name' age' wt' = do\n",
    "    maybeName <- noEmpty name'\n",
    "    maybeAge <- noNegative age'\n",
    "    maybeWt <- noNegative wt'\n",
    "    weightCheck (Cow maybeName maybeAge maybeWt)"
   ]
  },
  {
   "cell_type": "markdown",
   "metadata": {},
   "source": [
    "<h4>Another example</h4>"
   ]
  },
  {
   "cell_type": "code",
   "execution_count": 31,
   "metadata": {},
   "outputs": [],
   "source": [
    "f :: Integer -> Maybe Integer\n",
    "f 0 = Nothing\n",
    "f n = Just n"
   ]
  },
  {
   "cell_type": "code",
   "execution_count": 32,
   "metadata": {},
   "outputs": [],
   "source": [
    "g :: Integer -> Maybe Integer\n",
    "g i = if even i then Just (i+1) else Nothing"
   ]
  },
  {
   "cell_type": "code",
   "execution_count": 33,
   "metadata": {},
   "outputs": [],
   "source": [
    "h :: Integer -> Maybe String\n",
    "h i = Just (show i)"
   ]
  },
  {
   "cell_type": "code",
   "execution_count": 34,
   "metadata": {},
   "outputs": [],
   "source": [
    "doSomething' n = do\n",
    "    a <- f n\n",
    "    b <- g a\n",
    "    c <- h b\n",
    "    pure (a, b, c)"
   ]
  },
  {
   "cell_type": "code",
   "execution_count": 35,
   "metadata": {},
   "outputs": [
    {
     "data": {
      "text/plain": [
       "Just (100,101,\"101\")"
      ]
     },
     "metadata": {},
     "output_type": "display_data"
    }
   ],
   "source": [
    "doSomething' 100"
   ]
  },
  {
   "cell_type": "markdown",
   "metadata": {},
   "source": [
    "<h4>Either Monad example</h4>"
   ]
  },
  {
   "cell_type": "code",
   "execution_count": 37,
   "metadata": {},
   "outputs": [],
   "source": [
    "type Founded = Int\n",
    "type Coders = Int"
   ]
  },
  {
   "cell_type": "code",
   "execution_count": 45,
   "metadata": {},
   "outputs": [],
   "source": [
    "data SoftwareShop = Shop { founded :: Founded, programmers :: Coders } deriving (Eq, Show)"
   ]
  },
  {
   "cell_type": "code",
   "execution_count": 48,
   "metadata": {},
   "outputs": [],
   "source": [
    "data FoundedError =\n",
    "    NegativeYears Founded\n",
    "    | TooManyYears Founded\n",
    "    | NegativeCoders Coders\n",
    "    | TooManyCoders Coders\n",
    "    | TooManyCodersForYears Founded Coders\n",
    "    deriving (Eq, Show)"
   ]
  },
  {
   "cell_type": "code",
   "execution_count": 49,
   "metadata": {},
   "outputs": [],
   "source": [
    "validateFounded :: Int -> Either FoundedError Founded\n",
    "validateFounded n\n",
    "    | n < 0 = Left $ NegativeYears n\n",
    "    | n > 500 = Left $ TooManyYears n\n",
    "    | otherwise = Right n"
   ]
  },
  {
   "cell_type": "code",
   "execution_count": 50,
   "metadata": {},
   "outputs": [],
   "source": [
    "validateCoders :: Int -> Either FoundedError Coders\n",
    "validateCoders n\n",
    "    | n < 0 = Left $ NegativeCoders n\n",
    "    | n > 5000 = Left $ TooManyCoders n\n",
    "    | otherwise = Right n"
   ]
  },
  {
   "cell_type": "code",
   "execution_count": 51,
   "metadata": {},
   "outputs": [],
   "source": [
    "mkSoftware :: Int -> Int -> Either FoundedError SoftwareShop\n",
    "mkSoftware yrs coders = do\n",
    "    founded <- validateFounded yrs\n",
    "    programmers <- validateCoders coders\n",
    "    if programmers > div founded 10\n",
    "        then Left $\n",
    "                TooManyCodersForYears founded programmers\n",
    "        else Right $ Shop founded programmers"
   ]
  },
  {
   "cell_type": "code",
   "execution_count": 57,
   "metadata": {},
   "outputs": [],
   "source": [
    "tooManyCodersCheck :: Founded -> Coders -> Either FoundedError SoftwareShop\n",
    "tooManyCodersCheck yrs coders = if coders > div yrs 10 \n",
    "                                    then Left $ TooManyCodersForYears yrs coders \n",
    "                                    else Right $ Shop yrs coders\n",
    "\n",
    "mkSoftware' :: Int -> Int -> Either FoundedError SoftwareShop\n",
    "mkSoftware' yrs coders = validateFounded yrs \n",
    "                            >>= \\years -> validateCoders coders\n",
    "                                >>= \\cdrs -> tooManyCodersCheck years cdrs"
   ]
  },
  {
   "cell_type": "code",
   "execution_count": 63,
   "metadata": {},
   "outputs": [
    {
     "data": {
      "text/plain": [
       "Left (TooManyCodersForYears 0 500)"
      ]
     },
     "metadata": {},
     "output_type": "display_data"
    }
   ],
   "source": [
    "mkSoftware 0 500"
   ]
  },
  {
   "cell_type": "markdown",
   "metadata": {},
   "source": [
    "<h4>Sum (Either Synonym)</h4>"
   ]
  },
  {
   "cell_type": "code",
   "execution_count": 75,
   "metadata": {},
   "outputs": [],
   "source": [
    "data Sum a b = First a | Second b deriving (Eq, Show)\n",
    "\n",
    "instance (Arbitrary a, Arbitrary b) => Arbitrary (Sum a b) where\n",
    "    arbitrary = frequency[(1, fmap First arbitrary), (3, fmap Second arbitrary)]\n",
    "    \n",
    "instance (Eq a, Eq b) => EqProp (Sum a b) where\n",
    "    (=-=) = eq"
   ]
  },
  {
   "cell_type": "code",
   "execution_count": 76,
   "metadata": {},
   "outputs": [],
   "source": [
    "instance Functor (Sum a) where\n",
    "    fmap _ (First a) = First a\n",
    "    fmap f (Second b) = Second (f b)"
   ]
  },
  {
   "cell_type": "code",
   "execution_count": 78,
   "metadata": {},
   "outputs": [
    {
     "data": {
      "text/plain": [
       "\n",
       "functor:\n",
       "  identity: +++ OK, passed 500 tests.\n",
       "  compose:  +++ OK, passed 500 tests."
      ]
     },
     "metadata": {},
     "output_type": "display_data"
    }
   ],
   "source": [
    "trigger :: Sum String (String, Int, String)\n",
    "trigger = undefined\n",
    "\n",
    "verboseBatch (functor trigger)"
   ]
  },
  {
   "cell_type": "code",
   "execution_count": 81,
   "metadata": {},
   "outputs": [],
   "source": [
    "instance Applicative (Sum a) where\n",
    "    pure = Second\n",
    "    (<*>) (First f) _ = First f\n",
    "    (<*>) _ (First x) = First x\n",
    "    (<*>) (Second f) x = fmap f x"
   ]
  },
  {
   "cell_type": "code",
   "execution_count": 83,
   "metadata": {},
   "outputs": [
    {
     "data": {
      "text/plain": [
       "\n",
       "applicative:\n",
       "  identity:     +++ OK, passed 500 tests.\n",
       "  composition:  +++ OK, passed 500 tests.\n",
       "  homomorphism: +++ OK, passed 500 tests.\n",
       "  interchange:  +++ OK, passed 500 tests.\n",
       "  functor:      +++ OK, passed 500 tests."
      ]
     },
     "metadata": {},
     "output_type": "display_data"
    }
   ],
   "source": [
    "verboseBatch (applicative trigger)"
   ]
  },
  {
   "cell_type": "code",
   "execution_count": 90,
   "metadata": {},
   "outputs": [],
   "source": [
    "instance Monad (Sum a) where\n",
    "    return = pure\n",
    "    (>>=) (First a) _ = First a\n",
    "    (>>=) (Second b) f = f b"
   ]
  },
  {
   "cell_type": "code",
   "execution_count": 91,
   "metadata": {},
   "outputs": [
    {
     "data": {
      "text/plain": [
       "\n",
       "monad laws:\n",
       "  left  identity: +++ OK, passed 500 tests.\n",
       "  right identity: +++ OK, passed 500 tests.\n",
       "  associativity:  +++ OK, passed 500 tests."
      ]
     },
     "metadata": {},
     "output_type": "display_data"
    }
   ],
   "source": [
    "verboseBatch (monad trigger)"
   ]
  },
  {
   "cell_type": "markdown",
   "metadata": {},
   "source": [
    "<h4>Bad Monad</h4>"
   ]
  },
  {
   "cell_type": "code",
   "execution_count": 96,
   "metadata": {},
   "outputs": [],
   "source": [
    "data CountMe a = CountMe Integer a deriving (Eq, Show)"
   ]
  },
  {
   "cell_type": "code",
   "execution_count": 106,
   "metadata": {},
   "outputs": [],
   "source": [
    "instance Functor CountMe where\n",
    "    fmap f (CountMe i a) = CountMe i (f a)"
   ]
  },
  {
   "cell_type": "code",
   "execution_count": 107,
   "metadata": {},
   "outputs": [],
   "source": [
    "instance Applicative CountMe where\n",
    "    pure = CountMe 0\n",
    "    (<*>) (CountMe n f) (CountMe n' a) = CountMe (n + n') (f a)"
   ]
  },
  {
   "cell_type": "code",
   "execution_count": 114,
   "metadata": {},
   "outputs": [],
   "source": [
    "instance Monad CountMe where\n",
    "    return = pure\n",
    "    (>>=) (CountMe n a) f = CountMe (n + n') b where\n",
    "                            CountMe n' b = f a"
   ]
  },
  {
   "cell_type": "code",
   "execution_count": 115,
   "metadata": {},
   "outputs": [],
   "source": [
    "instance Arbitrary a => Arbitrary (CountMe a) where\n",
    "    arbitrary = CountMe <$> arbitrary <*> arbitrary\n",
    "    \n",
    "instance Eq a => EqProp (CountMe a) where\n",
    "    (=-=) = eq"
   ]
  },
  {
   "cell_type": "code",
   "execution_count": 116,
   "metadata": {},
   "outputs": [
    {
     "data": {
      "text/plain": [
       "\n",
       "functor:\n",
       "  identity: +++ OK, passed 500 tests.\n",
       "  compose:  +++ OK, passed 500 tests."
      ]
     },
     "metadata": {},
     "output_type": "display_data"
    },
    {
     "data": {
      "text/plain": [
       "\n",
       "applicative:\n",
       "  identity:     +++ OK, passed 500 tests.\n",
       "  composition:  +++ OK, passed 500 tests.\n",
       "  homomorphism: +++ OK, passed 500 tests.\n",
       "  interchange:  +++ OK, passed 500 tests.\n",
       "  functor:      +++ OK, passed 500 tests."
      ]
     },
     "metadata": {},
     "output_type": "display_data"
    },
    {
     "data": {
      "text/plain": [
       "\n",
       "monad laws:\n",
       "  left  identity: +++ OK, passed 500 tests.\n",
       "  right identity: +++ OK, passed 500 tests.\n",
       "  associativity:  +++ OK, passed 500 tests."
      ]
     },
     "metadata": {},
     "output_type": "display_data"
    }
   ],
   "source": [
    "trigger :: CountMe (Int, String, Int)\n",
    "trigger = undefined\n",
    "\n",
    "quickBatch $ functor trigger\n",
    "quickBatch $ applicative trigger\n",
    "quickBatch $ monad trigger"
   ]
  },
  {
   "cell_type": "markdown",
   "metadata": {},
   "source": [
    "<h4>Monadic composition</h4>"
   ]
  },
  {
   "cell_type": "code",
   "execution_count": 117,
   "metadata": {},
   "outputs": [],
   "source": [
    "sayHi :: String -> IO String\n",
    "sayHi greeting = do\n",
    "    putStrLn greeting\n",
    "    getLine\n",
    "    \n",
    "readM :: Read a => String -> IO a\n",
    "readM = return . read\n",
    "\n",
    "getAge :: String -> IO Int\n",
    "getAge = sayHi >=> readM\n",
    "\n",
    "askForAge :: IO Int\n",
    "askForAge = getAge \"Hello! How old are you? \""
   ]
  },
  {
   "cell_type": "markdown",
   "metadata": {},
   "source": [
    "<h3>Exercises</h3>"
   ]
  },
  {
   "cell_type": "markdown",
   "metadata": {},
   "source": [
    "<h4>Nope</h4>"
   ]
  },
  {
   "cell_type": "code",
   "execution_count": 119,
   "metadata": {},
   "outputs": [],
   "source": [
    "data Nope a = NopeDotJpg deriving (Eq, Show)\n",
    "\n",
    "instance Arbitrary (Nope a) where\n",
    "    arbitrary = return NopeDotJpg\n",
    "    \n",
    "instance EqProp (Nope a) where\n",
    "    (=-=) = eq"
   ]
  },
  {
   "cell_type": "code",
   "execution_count": 120,
   "metadata": {},
   "outputs": [],
   "source": [
    "instance Functor Nope where\n",
    "    fmap _ NopeDotJpg = NopeDotJpg"
   ]
  },
  {
   "cell_type": "code",
   "execution_count": 121,
   "metadata": {},
   "outputs": [],
   "source": [
    "instance Applicative Nope where\n",
    "    pure _ = NopeDotJpg\n",
    "    (<*>) _ _ = NopeDotJpg"
   ]
  },
  {
   "cell_type": "code",
   "execution_count": 124,
   "metadata": {},
   "outputs": [],
   "source": [
    "instance Monad Nope where\n",
    "    return = pure\n",
    "    (>>=) _ _ = NopeDotJpg"
   ]
  },
  {
   "cell_type": "code",
   "execution_count": 125,
   "metadata": {},
   "outputs": [
    {
     "data": {
      "text/plain": [
       "\n",
       "functor:\n",
       "  identity: +++ OK, passed 500 tests.\n",
       "  compose:  +++ OK, passed 500 tests."
      ]
     },
     "metadata": {},
     "output_type": "display_data"
    },
    {
     "data": {
      "text/plain": [
       "\n",
       "applicative:\n",
       "  identity:     +++ OK, passed 500 tests.\n",
       "  composition:  +++ OK, passed 500 tests.\n",
       "  homomorphism: +++ OK, passed 500 tests.\n",
       "  interchange:  +++ OK, passed 500 tests.\n",
       "  functor:      +++ OK, passed 500 tests."
      ]
     },
     "metadata": {},
     "output_type": "display_data"
    },
    {
     "data": {
      "text/plain": [
       "\n",
       "monad laws:\n",
       "  left  identity: +++ OK, passed 500 tests.\n",
       "  right identity: +++ OK, passed 500 tests.\n",
       "  associativity:  +++ OK, passed 500 tests."
      ]
     },
     "metadata": {},
     "output_type": "display_data"
    }
   ],
   "source": [
    "trigger :: Nope (Int, String, Int)\n",
    "trigger = undefined\n",
    "\n",
    "quickBatch $ functor trigger\n",
    "quickBatch $ applicative trigger\n",
    "quickBatch $ monad trigger"
   ]
  },
  {
   "cell_type": "markdown",
   "metadata": {},
   "source": [
    "<h4>Identity</h4>"
   ]
  },
  {
   "cell_type": "code",
   "execution_count": 127,
   "metadata": {},
   "outputs": [],
   "source": [
    "newtype Identity a = Identity a deriving (Eq, Show, Ord)"
   ]
  },
  {
   "cell_type": "code",
   "execution_count": 128,
   "metadata": {},
   "outputs": [],
   "source": [
    "instance Arbitrary (Nope a) where\n",
    "    arbitrary = return NopeDotJpg\n",
    "    \n",
    "instance EqProp (Nope a) where\n",
    "    (=-=) = eq"
   ]
  },
  {
   "cell_type": "code",
   "execution_count": 129,
   "metadata": {},
   "outputs": [],
   "source": [
    "instance Functor Identity where\n",
    "    fmap f (Identity a) = Identity (f a)"
   ]
  },
  {
   "cell_type": "code",
   "execution_count": 130,
   "metadata": {},
   "outputs": [],
   "source": [
    "instance Applicative Identity where\n",
    "    pure = Identity\n",
    "    (<*>) (Identity f) (Identity a) = Identity (f a)"
   ]
  },
  {
   "cell_type": "code",
   "execution_count": 132,
   "metadata": {},
   "outputs": [],
   "source": [
    "instance Monad Identity where\n",
    "    return = pure\n",
    "    (>>=) (Identity a) f = f a"
   ]
  },
  {
   "cell_type": "code",
   "execution_count": 133,
   "metadata": {},
   "outputs": [
    {
     "data": {
      "text/plain": [
       "\n",
       "functor:\n",
       "  identity: +++ OK, passed 500 tests.\n",
       "  compose:  +++ OK, passed 500 tests."
      ]
     },
     "metadata": {},
     "output_type": "display_data"
    },
    {
     "data": {
      "text/plain": [
       "\n",
       "applicative:\n",
       "  identity:     +++ OK, passed 500 tests.\n",
       "  composition:  +++ OK, passed 500 tests.\n",
       "  homomorphism: +++ OK, passed 500 tests.\n",
       "  interchange:  +++ OK, passed 500 tests.\n",
       "  functor:      +++ OK, passed 500 tests."
      ]
     },
     "metadata": {},
     "output_type": "display_data"
    },
    {
     "data": {
      "text/plain": [
       "\n",
       "monad laws:\n",
       "  left  identity: +++ OK, passed 500 tests.\n",
       "  right identity: +++ OK, passed 500 tests.\n",
       "  associativity:  +++ OK, passed 500 tests."
      ]
     },
     "metadata": {},
     "output_type": "display_data"
    }
   ],
   "source": [
    "trigger :: Nope (Int, String, Int)\n",
    "trigger = undefined\n",
    "\n",
    "quickBatch $ functor trigger\n",
    "quickBatch $ applicative trigger\n",
    "quickBatch $ monad trigger"
   ]
  },
  {
   "cell_type": "markdown",
   "metadata": {},
   "source": [
    "<h4>Listy (Synonym of List)</h4>"
   ]
  },
  {
   "cell_type": "code",
   "execution_count": 134,
   "metadata": {},
   "outputs": [],
   "source": [
    "data Listy a = Nil | Cons {head':: a, tail':: Listy a} deriving (Eq, Show)\n",
    "\n",
    "instance Arbitrary a => Arbitrary (Listy a) where\n",
    "    arbitrary = frequency [(1, pure Nil), (5, Cons <$> arbitrary <*> arbitrary)]\n",
    "    \n",
    "instance Eq a => EqProp (Listy a) where\n",
    "    (=-=) = eq"
   ]
  },
  {
   "cell_type": "code",
   "execution_count": 135,
   "metadata": {},
   "outputs": [],
   "source": [
    "instance Semigroup (Listy a) where\n",
    "    (<>) Nil ys = ys\n",
    "    (<>) (Cons x xs) ys = Cons x (xs <> ys)\n",
    "    \n",
    "instance Monoid (Listy a) where\n",
    "    mempty = Nil\n",
    "    mappend = (<>)"
   ]
  },
  {
   "cell_type": "code",
   "execution_count": 136,
   "metadata": {},
   "outputs": [],
   "source": [
    "instance Functor Listy where\n",
    "    fmap _ Nil = Nil\n",
    "    fmap f (Cons x xs) = Cons (f x) (fmap f xs)"
   ]
  },
  {
   "cell_type": "code",
   "execution_count": 137,
   "metadata": {},
   "outputs": [],
   "source": [
    "instance Applicative Listy where\n",
    "    pure x = Cons x Nil\n",
    "    (<*>) _ Nil = Nil\n",
    "    (<*>) Nil _ = Nil\n",
    "    (<*>) (Cons f fs) x = (f <$> x) <> (fs <*> x)"
   ]
  },
  {
   "cell_type": "code",
   "execution_count": 144,
   "metadata": {},
   "outputs": [],
   "source": [
    "instance Monad Listy where\n",
    "    return = pure\n",
    "    (>>=) Nil _ = Nil\n",
    "    (>>=) (Cons x xs) f = f x <> (xs >>= f)"
   ]
  },
  {
   "cell_type": "code",
   "execution_count": 145,
   "metadata": {},
   "outputs": [
    {
     "data": {
      "text/plain": [
       "\n",
       "monad laws:\n",
       "  left  identity: +++ OK, passed 500 tests.\n",
       "  right identity: +++ OK, passed 500 tests.\n",
       "  associativity:  +++ OK, passed 500 tests."
      ]
     },
     "metadata": {},
     "output_type": "display_data"
    }
   ],
   "source": [
    "trigger :: Listy (String, String, String)\n",
    "trigger = undefined\n",
    "\n",
    "quickBatch $ monad trigger"
   ]
  },
  {
   "cell_type": "code",
   "execution_count": 140,
   "metadata": {},
   "outputs": [
    {
     "data": {
      "text/html": [
       "<style>/* Styles used for the Hoogle display in the pager */\n",
       ".hoogle-doc {\n",
       "display: block;\n",
       "padding-bottom: 1.3em;\n",
       "padding-left: 0.4em;\n",
       "}\n",
       ".hoogle-code {\n",
       "display: block;\n",
       "font-family: monospace;\n",
       "white-space: pre;\n",
       "}\n",
       ".hoogle-text {\n",
       "display: block;\n",
       "}\n",
       ".hoogle-name {\n",
       "color: green;\n",
       "font-weight: bold;\n",
       "}\n",
       ".hoogle-head {\n",
       "font-weight: bold;\n",
       "}\n",
       ".hoogle-sub {\n",
       "display: block;\n",
       "margin-left: 0.4em;\n",
       "}\n",
       ".hoogle-package {\n",
       "font-weight: bold;\n",
       "font-style: italic;\n",
       "}\n",
       ".hoogle-module {\n",
       "font-weight: bold;\n",
       "}\n",
       ".hoogle-class {\n",
       "font-weight: bold;\n",
       "}\n",
       ".get-type {\n",
       "color: green;\n",
       "font-weight: bold;\n",
       "font-family: monospace;\n",
       "display: block;\n",
       "white-space: pre-wrap;\n",
       "}\n",
       ".show-type {\n",
       "color: green;\n",
       "font-weight: bold;\n",
       "font-family: monospace;\n",
       "margin-left: 1em;\n",
       "}\n",
       ".mono {\n",
       "font-family: monospace;\n",
       "display: block;\n",
       "}\n",
       ".err-msg {\n",
       "color: red;\n",
       "font-style: italic;\n",
       "font-family: monospace;\n",
       "white-space: pre;\n",
       "display: block;\n",
       "}\n",
       "#unshowable {\n",
       "color: red;\n",
       "font-weight: bold;\n",
       "}\n",
       ".err-msg.in.collapse {\n",
       "padding-top: 0.7em;\n",
       "}\n",
       ".highlight-code {\n",
       "white-space: pre;\n",
       "font-family: monospace;\n",
       "}\n",
       ".suggestion-warning { \n",
       "font-weight: bold;\n",
       "color: rgb(200, 130, 0);\n",
       "}\n",
       ".suggestion-error { \n",
       "font-weight: bold;\n",
       "color: red;\n",
       "}\n",
       ".suggestion-name {\n",
       "font-weight: bold;\n",
       "}\n",
       "</style><span class='get-type'>(>>=) :: forall (m :: * -> *) a b. Monad m => m a -> (a -> m b) -> m b</span>"
      ],
      "text/plain": [
       "(>>=) :: forall (m :: * -> *) a b. Monad m => m a -> (a -> m b) -> m b"
      ]
     },
     "metadata": {},
     "output_type": "display_data"
    }
   ],
   "source": [
    ":t (>>=)"
   ]
  },
  {
   "cell_type": "code",
   "execution_count": null,
   "metadata": {},
   "outputs": [],
   "source": []
  }
 ],
 "metadata": {
  "kernelspec": {
   "display_name": "Haskell",
   "language": "haskell",
   "name": "haskell"
  },
  "language_info": {
   "codemirror_mode": "ihaskell",
   "file_extension": ".hs",
   "name": "haskell",
   "pygments_lexer": "Haskell",
   "version": "8.4.4"
  }
 },
 "nbformat": 4,
 "nbformat_minor": 2
}
