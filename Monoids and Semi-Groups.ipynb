{
 "cells": [
  {
   "cell_type": "code",
   "execution_count": 1,
   "metadata": {},
   "outputs": [],
   "source": [
    "import Data.Monoid\n",
    "import Control.Monad\n",
    "import Test.QuickCheck\n",
    "import Test.QuickCheck.Checkers\n",
    "import Test.QuickCheck.Classes"
   ]
  },
  {
   "cell_type": "markdown",
   "metadata": {},
   "source": [
    "<h3>New Maybe type</h3>"
   ]
  },
  {
   "cell_type": "code",
   "execution_count": null,
   "metadata": {},
   "outputs": [],
   "source": [
    "data Optional a = Nada | Only a deriving (Eq, Show)"
   ]
  },
  {
   "cell_type": "code",
   "execution_count": null,
   "metadata": {},
   "outputs": [],
   "source": [
    "instance Semigroup a => Semigroup (Optional a) where\n",
    "    (<>) Nada a = a\n",
    "    (<>) a Nada = a\n",
    "    (<>) (Only a) (Only b) = Only (a <> b)"
   ]
  },
  {
   "cell_type": "code",
   "execution_count": null,
   "metadata": {},
   "outputs": [],
   "source": [
    "instance Monoid a => Monoid (Optional a) where\n",
    "    mempty = Only mempty\n",
    "    mappend = (<>)"
   ]
  },
  {
   "cell_type": "markdown",
   "metadata": {},
   "source": [
    "<h3>Quick Check examples</h3>"
   ]
  },
  {
   "cell_type": "code",
   "execution_count": null,
   "metadata": {},
   "outputs": [],
   "source": [
    "monoidAssoc :: (Eq m, Monoid m)\n",
    "    => m -> m -> m -> Bool\n",
    "monoidAssoc a b c = (a <> (b <> c)) == ((a <> b) <> c)"
   ]
  },
  {
   "cell_type": "code",
   "execution_count": null,
   "metadata": {},
   "outputs": [],
   "source": [
    "type S = String\n",
    "quickCheck (monoidAssoc :: S -> S -> S -> Bool)"
   ]
  },
  {
   "cell_type": "code",
   "execution_count": null,
   "metadata": {},
   "outputs": [],
   "source": [
    "monoidLeftIdentity :: (Eq m, Monoid m)\n",
    "    => m -> Bool\n",
    "monoidLeftIdentity a = (mempty <> a) == a\n",
    "\n",
    "monoidRightIdentity :: (Eq m, Monoid m)\n",
    "    => m -> Bool\n",
    "monoidRightIdentity a = (a <> mempty) == a"
   ]
  },
  {
   "cell_type": "code",
   "execution_count": null,
   "metadata": {},
   "outputs": [],
   "source": [
    "quickCheck (monoidLeftIdentity :: S -> Bool)"
   ]
  },
  {
   "cell_type": "code",
   "execution_count": null,
   "metadata": {},
   "outputs": [],
   "source": [
    "quickCheck (monoidRightIdentity :: S -> Bool)"
   ]
  },
  {
   "cell_type": "code",
   "execution_count": 2,
   "metadata": {},
   "outputs": [],
   "source": [
    "data Bull = Fools | Twoo deriving (Eq, Show)\n",
    "\n",
    "instance Arbitrary Bull where\n",
    "    arbitrary = frequency [(1, return Fools), (1, return Twoo)]\n",
    "\n",
    "instance Semigroup Bull where\n",
    "    (<>) _ _ = Fools\n",
    "\n",
    "instance Monoid Bull where\n",
    "    mempty = Fools\n",
    "    mappend _ _ = Fools"
   ]
  },
  {
   "cell_type": "code",
   "execution_count": null,
   "metadata": {},
   "outputs": [],
   "source": [
    "type BullMappend = Bull -> Bull -> Bull -> Bool"
   ]
  },
  {
   "cell_type": "code",
   "execution_count": null,
   "metadata": {},
   "outputs": [],
   "source": [
    "quickCheck (monoidAssoc :: BullMappend)"
   ]
  },
  {
   "cell_type": "code",
   "execution_count": null,
   "metadata": {},
   "outputs": [],
   "source": [
    "quickCheck (monoidLeftIdentity :: Bull -> Bool)"
   ]
  },
  {
   "cell_type": "code",
   "execution_count": 3,
   "metadata": {},
   "outputs": [],
   "source": [
    "instance EqProp Bull where\n",
    "    (=-=) = eq"
   ]
  },
  {
   "cell_type": "code",
   "execution_count": 17,
   "metadata": {},
   "outputs": [
    {
     "data": {
      "text/plain": [
       "\n",
       "monoid:\n",
       "  left  identity: *** Failed! Falsifiable (after 1 test):\n",
       "Twoo\n",
       "  right identity: *** Failed! Falsifiable (after 2 tests):\n",
       "Twoo\n",
       "  associativity:  +++ OK, passed 500 tests."
      ]
     },
     "metadata": {},
     "output_type": "display_data"
    }
   ],
   "source": [
    "verboseBatch (monoid Twoo)"
   ]
  },
  {
   "cell_type": "markdown",
   "metadata": {},
   "source": [
    "<h3>Maybe monoid without underlying monoid type</h3>"
   ]
  },
  {
   "cell_type": "code",
   "execution_count": null,
   "metadata": {},
   "outputs": [],
   "source": [
    "newtype First' a = First' { getFirst' :: Optional a } deriving (Eq, Show)"
   ]
  },
  {
   "cell_type": "code",
   "execution_count": null,
   "metadata": {},
   "outputs": [],
   "source": [
    "instance Arbitrary a => Arbitrary (First' a) where\n",
    "    arbitrary = frequency [(1, return (First' Nada)), (3, fmap (First' . Only) arbitrary)]"
   ]
  },
  {
   "cell_type": "code",
   "execution_count": null,
   "metadata": {},
   "outputs": [],
   "source": [
    "instance Semigroup (First' a) where\n",
    "    (<>) _ (First' (Only a)) = First' (Only a)\n",
    "    (<>) a (First' Nada) = a\n",
    "    \n",
    "instance Monoid (First' a) where\n",
    "    mempty = First' Nada\n",
    "    mappend = (<>)"
   ]
  },
  {
   "cell_type": "code",
   "execution_count": null,
   "metadata": {},
   "outputs": [],
   "source": [
    "firstMappend :: First' a -> First' a -> First' a\n",
    "firstMappend = mappend"
   ]
  },
  {
   "cell_type": "code",
   "execution_count": null,
   "metadata": {},
   "outputs": [],
   "source": [
    "type FirstMappend = First' String -> First' String -> First' String -> Bool\n",
    "type FstId = First' String -> Bool"
   ]
  },
  {
   "cell_type": "code",
   "execution_count": null,
   "metadata": {},
   "outputs": [],
   "source": [
    "quickCheck(monoidAssoc :: FirstMappend)"
   ]
  },
  {
   "cell_type": "code",
   "execution_count": null,
   "metadata": {},
   "outputs": [],
   "source": [
    "quickCheck(monoidLeftIdentity :: FstId)\n",
    "quickCheck(monoidRightIdentity :: FstId)"
   ]
  },
  {
   "cell_type": "markdown",
   "metadata": {},
   "source": [
    "<h3>List type</h3>"
   ]
  },
  {
   "cell_type": "code",
   "execution_count": 5,
   "metadata": {},
   "outputs": [],
   "source": [
    "data Listy a = Nil | Cons {head':: a, tail':: Listy a} deriving (Eq, Show)"
   ]
  },
  {
   "cell_type": "code",
   "execution_count": 6,
   "metadata": {},
   "outputs": [],
   "source": [
    "instance Arbitrary a => Arbitrary (Listy a) where\n",
    "    arbitrary = frequency [(1, pure Nil), (5, Cons <$> arbitrary <*> arbitrary)]"
   ]
  },
  {
   "cell_type": "code",
   "execution_count": 7,
   "metadata": {},
   "outputs": [],
   "source": [
    "instance Semigroup (Listy a) where\n",
    "    (<>) Nil ys = ys\n",
    "    (<>) (Cons x xs) ys = Cons x (xs <> ys)"
   ]
  },
  {
   "cell_type": "code",
   "execution_count": 8,
   "metadata": {},
   "outputs": [],
   "source": [
    "instance Monoid (Listy a) where\n",
    "    mempty = Nil\n",
    "    mappend = (<>)"
   ]
  },
  {
   "cell_type": "code",
   "execution_count": null,
   "metadata": {},
   "outputs": [],
   "source": [
    "type ListyMappend = Listy String -> Listy String -> Listy String -> Bool\n",
    "type ListyId = Listy String -> Bool"
   ]
  },
  {
   "cell_type": "code",
   "execution_count": null,
   "metadata": {},
   "outputs": [],
   "source": [
    "quickCheck(monoidAssoc :: ListyMappend)"
   ]
  },
  {
   "cell_type": "code",
   "execution_count": null,
   "metadata": {},
   "outputs": [],
   "source": [
    "quickCheck(monoidLeftIdentity :: ListyId)\n",
    "quickCheck(monoidRightIdentity :: ListyId)"
   ]
  },
  {
   "cell_type": "code",
   "execution_count": 10,
   "metadata": {},
   "outputs": [],
   "source": [
    "instance Eq a => EqProp (Listy a) where\n",
    "    (=-=) = eq"
   ]
  },
  {
   "cell_type": "code",
   "execution_count": 14,
   "metadata": {},
   "outputs": [],
   "source": [
    "type LS = Listy String\n",
    "trigger :: LS\n",
    "trigger = undefined"
   ]
  },
  {
   "cell_type": "code",
   "execution_count": 16,
   "metadata": {},
   "outputs": [
    {
     "data": {
      "text/plain": [
       "\n",
       "monoid:\n",
       "  left  identity: +++ OK, passed 500 tests.\n",
       "  right identity: +++ OK, passed 500 tests.\n",
       "  associativity:  +++ OK, passed 500 tests."
      ]
     },
     "metadata": {},
     "output_type": "display_data"
    }
   ],
   "source": [
    "verboseBatch (monoid trigger)"
   ]
  },
  {
   "cell_type": "markdown",
   "metadata": {},
   "source": [
    "<h3>Tupley (like Tuple)</h3>"
   ]
  },
  {
   "cell_type": "code",
   "execution_count": null,
   "metadata": {},
   "outputs": [],
   "source": [
    "data Tupley a b = Tupley {first:: a, second:: b} deriving (Eq, Show)\n",
    "\n",
    "instance (Arbitrary a, Arbitrary b) => Arbitrary (Tupley a b) where\n",
    "    arbitrary = do\n",
    "        a <- arbitrary\n",
    "        b <- arbitrary\n",
    "        return (Tupley a b)"
   ]
  },
  {
   "cell_type": "code",
   "execution_count": null,
   "metadata": {},
   "outputs": [],
   "source": [
    "instance (Semigroup a, Semigroup b) => Semigroup (Tupley a b) where\n",
    "    (<>) (Tupley a b) (Tupley a' b') = Tupley (a <> a') (b <> b')"
   ]
  },
  {
   "cell_type": "code",
   "execution_count": null,
   "metadata": {},
   "outputs": [],
   "source": [
    "instance (Monoid a, Monoid b) => Monoid (Tupley a b) where\n",
    "    mempty = Tupley mempty mempty\n",
    "    mappend = (<>)"
   ]
  },
  {
   "cell_type": "code",
   "execution_count": null,
   "metadata": {},
   "outputs": [],
   "source": [
    "type TupleyAssoc = Tupley (Sum Int) String -> Tupley (Sum Int) String -> Tupley (Sum Int) String -> Bool\n",
    "type TupleyId = Tupley (Sum Int) String -> Bool"
   ]
  },
  {
   "cell_type": "code",
   "execution_count": null,
   "metadata": {},
   "outputs": [],
   "source": [
    "quickCheck(monoidAssoc :: TupleyAssoc)"
   ]
  },
  {
   "cell_type": "code",
   "execution_count": null,
   "metadata": {},
   "outputs": [],
   "source": [
    "quickCheck(monoidLeftIdentity :: TupleyId)\n",
    "quickCheck(monoidRightIdentity :: TupleyId)"
   ]
  },
  {
   "cell_type": "code",
   "execution_count": null,
   "metadata": {},
   "outputs": [],
   "source": []
  }
 ],
 "metadata": {
  "kernelspec": {
   "display_name": "Haskell",
   "language": "haskell",
   "name": "haskell"
  },
  "language_info": {
   "codemirror_mode": "ihaskell",
   "file_extension": ".hs",
   "name": "haskell",
   "pygments_lexer": "Haskell",
   "version": "8.4.4"
  }
 },
 "nbformat": 4,
 "nbformat_minor": 2
}
