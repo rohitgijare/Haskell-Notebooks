{
 "cells": [
  {
   "cell_type": "code",
   "execution_count": 67,
   "metadata": {},
   "outputs": [],
   "source": [
    "import Data.Monoid\n",
    "import Control.Monad\n",
    "import Test.QuickCheck"
   ]
  },
  {
   "cell_type": "markdown",
   "metadata": {},
   "source": [
    "<h3>New Maybe type</h3>"
   ]
  },
  {
   "cell_type": "code",
   "execution_count": 53,
   "metadata": {},
   "outputs": [],
   "source": [
    "data Optional a = Nada | Only a deriving (Eq, Show)"
   ]
  },
  {
   "cell_type": "code",
   "execution_count": 54,
   "metadata": {},
   "outputs": [],
   "source": [
    "instance Semigroup a => Semigroup (Optional a) where\n",
    "    (<>) Nada a = a\n",
    "    (<>) a Nada = a\n",
    "    (<>) (Only a) (Only b) = Only (a <> b)"
   ]
  },
  {
   "cell_type": "code",
   "execution_count": 55,
   "metadata": {},
   "outputs": [],
   "source": [
    "instance Monoid a => Monoid (Optional a) where\n",
    "    mempty = Only mempty\n",
    "    mappend = (<>)"
   ]
  },
  {
   "cell_type": "markdown",
   "metadata": {},
   "source": [
    "<h3>Quick Check examples</h3>"
   ]
  },
  {
   "cell_type": "code",
   "execution_count": 30,
   "metadata": {},
   "outputs": [],
   "source": [
    "monoidAssoc :: (Eq m, Monoid m)\n",
    "    => m -> m -> m -> Bool\n",
    "monoidAssoc a b c = (a <> (b <> c)) == ((a <> b) <> c)"
   ]
  },
  {
   "cell_type": "code",
   "execution_count": 41,
   "metadata": {},
   "outputs": [
    {
     "data": {
      "text/plain": [
       "+++ OK, passed 100 tests."
      ]
     },
     "metadata": {},
     "output_type": "display_data"
    }
   ],
   "source": [
    "type S = String\n",
    "quickCheck (monoidAssoc :: S -> S -> S -> Bool)"
   ]
  },
  {
   "cell_type": "code",
   "execution_count": 42,
   "metadata": {},
   "outputs": [],
   "source": [
    "monoidLeftIdentity :: (Eq m, Monoid m)\n",
    "    => m -> Bool\n",
    "monoidLeftIdentity a = (mempty <> a) == a\n",
    "\n",
    "monoidRightIdentity :: (Eq m, Monoid m)\n",
    "    => m -> Bool\n",
    "monoidRightIdentity a = (a <> mempty) == a"
   ]
  },
  {
   "cell_type": "code",
   "execution_count": 43,
   "metadata": {},
   "outputs": [
    {
     "data": {
      "text/plain": [
       "+++ OK, passed 100 tests."
      ]
     },
     "metadata": {},
     "output_type": "display_data"
    }
   ],
   "source": [
    "quickCheck (monoidLeftIdentity :: S -> Bool)"
   ]
  },
  {
   "cell_type": "code",
   "execution_count": 44,
   "metadata": {},
   "outputs": [
    {
     "data": {
      "text/plain": [
       "+++ OK, passed 100 tests."
      ]
     },
     "metadata": {},
     "output_type": "display_data"
    }
   ],
   "source": [
    "quickCheck (monoidRightIdentity :: S -> Bool)"
   ]
  },
  {
   "cell_type": "code",
   "execution_count": 46,
   "metadata": {},
   "outputs": [],
   "source": [
    "data Bull = Fools | Twoo deriving (Eq, Show)\n",
    "\n",
    "instance Arbitrary Bull where\n",
    "    arbitrary = frequency [(1, return Fools), (1, return Twoo)]\n",
    "\n",
    "instance Semigroup Bull where\n",
    "    (<>) _ _ = Fools\n",
    "\n",
    "instance Monoid Bull where\n",
    "    mempty = Fools\n",
    "    mappend _ _ = Fools"
   ]
  },
  {
   "cell_type": "code",
   "execution_count": 47,
   "metadata": {},
   "outputs": [],
   "source": [
    "type BullMappend = Bull -> Bull -> Bull -> Bool"
   ]
  },
  {
   "cell_type": "code",
   "execution_count": 48,
   "metadata": {},
   "outputs": [
    {
     "data": {
      "text/plain": [
       "+++ OK, passed 100 tests."
      ]
     },
     "metadata": {},
     "output_type": "display_data"
    }
   ],
   "source": [
    "quickCheck (monoidAssoc :: BullMappend)"
   ]
  },
  {
   "cell_type": "code",
   "execution_count": 50,
   "metadata": {},
   "outputs": [
    {
     "data": {
      "text/plain": [
       "*** Failed! Falsifiable (after 4 tests):\n",
       "Twoo"
      ]
     },
     "metadata": {},
     "output_type": "display_data"
    }
   ],
   "source": [
    "quickCheck (monoidLeftIdentity :: Bull -> Bool)"
   ]
  },
  {
   "cell_type": "markdown",
   "metadata": {},
   "source": [
    "<h3>Maybe monoid without underlying monoid type</h3>"
   ]
  },
  {
   "cell_type": "code",
   "execution_count": 58,
   "metadata": {},
   "outputs": [],
   "source": [
    "newtype First' a = First' { getFirst' :: Optional a } deriving (Eq, Show)"
   ]
  },
  {
   "cell_type": "code",
   "execution_count": 86,
   "metadata": {},
   "outputs": [],
   "source": [
    "instance Arbitrary a => Arbitrary (First' a) where\n",
    "    arbitrary = frequency [(1, return (First' Nada)), (3, fmap (First' . Only) arbitrary)]"
   ]
  },
  {
   "cell_type": "code",
   "execution_count": 93,
   "metadata": {},
   "outputs": [],
   "source": [
    "instance Semigroup (First' a) where\n",
    "    (<>) _ (First' (Only a)) = First' (Only a)\n",
    "    (<>) a (First' Nada) = a\n",
    "    \n",
    "instance Monoid (First' a) where\n",
    "    mempty = First' Nada\n",
    "    mappend = (<>)"
   ]
  },
  {
   "cell_type": "code",
   "execution_count": 94,
   "metadata": {},
   "outputs": [],
   "source": [
    "firstMappend :: First' a -> First' a -> First' a\n",
    "firstMappend = mappend"
   ]
  },
  {
   "cell_type": "code",
   "execution_count": 95,
   "metadata": {},
   "outputs": [],
   "source": [
    "type FirstMappend = First' String -> First' String -> First' String -> Bool\n",
    "type FstId = First' String -> Bool"
   ]
  },
  {
   "cell_type": "code",
   "execution_count": 96,
   "metadata": {},
   "outputs": [
    {
     "data": {
      "text/plain": [
       "+++ OK, passed 100 tests."
      ]
     },
     "metadata": {},
     "output_type": "display_data"
    }
   ],
   "source": [
    "quickCheck(monoidAssoc :: FirstMappend)"
   ]
  },
  {
   "cell_type": "code",
   "execution_count": 97,
   "metadata": {},
   "outputs": [
    {
     "data": {
      "text/plain": [
       "+++ OK, passed 100 tests."
      ]
     },
     "metadata": {},
     "output_type": "display_data"
    },
    {
     "data": {
      "text/plain": [
       "+++ OK, passed 100 tests."
      ]
     },
     "metadata": {},
     "output_type": "display_data"
    }
   ],
   "source": [
    "quickCheck(monoidLeftIdentity :: FstId)\n",
    "quickCheck(monoidRightIdentity :: FstId)"
   ]
  },
  {
   "cell_type": "markdown",
   "metadata": {},
   "source": [
    "<h3>List type</h3>"
   ]
  },
  {
   "cell_type": "code",
   "execution_count": 100,
   "metadata": {},
   "outputs": [],
   "source": [
    "data Listy a = Nil | Cons {head':: a, tail':: Listy a} deriving (Eq, Show)"
   ]
  },
  {
   "cell_type": "code",
   "execution_count": 101,
   "metadata": {},
   "outputs": [],
   "source": [
    "instance Arbitrary a => Arbitrary (Listy a) where\n",
    "    arbitrary = frequency [(1, pure Nil), (5, Cons <$> arbitrary <*> arbitrary)]"
   ]
  },
  {
   "cell_type": "code",
   "execution_count": 102,
   "metadata": {},
   "outputs": [],
   "source": [
    "instance Semigroup (Listy a) where\n",
    "    (<>) Nil ys = ys\n",
    "    (<>) (Cons x xs) ys = Cons x (xs <> ys)"
   ]
  },
  {
   "cell_type": "code",
   "execution_count": 103,
   "metadata": {},
   "outputs": [],
   "source": [
    "instance Monoid (Listy a) where\n",
    "    mempty = Nil\n",
    "    mappend = (<>)"
   ]
  },
  {
   "cell_type": "code",
   "execution_count": 105,
   "metadata": {},
   "outputs": [],
   "source": [
    "type ListyMappend = Listy String -> Listy String -> Listy String -> Bool\n",
    "type ListyId = Listy String -> Bool"
   ]
  },
  {
   "cell_type": "code",
   "execution_count": 106,
   "metadata": {},
   "outputs": [
    {
     "data": {
      "text/plain": [
       "+++ OK, passed 100 tests."
      ]
     },
     "metadata": {},
     "output_type": "display_data"
    }
   ],
   "source": [
    "quickCheck(monoidAssoc :: ListyMappend)"
   ]
  },
  {
   "cell_type": "code",
   "execution_count": 108,
   "metadata": {},
   "outputs": [
    {
     "data": {
      "text/plain": [
       "+++ OK, passed 100 tests."
      ]
     },
     "metadata": {},
     "output_type": "display_data"
    },
    {
     "data": {
      "text/plain": [
       "+++ OK, passed 100 tests."
      ]
     },
     "metadata": {},
     "output_type": "display_data"
    }
   ],
   "source": [
    "quickCheck(monoidLeftIdentity :: ListyId)\n",
    "quickCheck(monoidRightIdentity :: ListyId)"
   ]
  },
  {
   "cell_type": "code",
   "execution_count": null,
   "metadata": {},
   "outputs": [],
   "source": []
  }
 ],
 "metadata": {
  "kernelspec": {
   "display_name": "Haskell",
   "language": "haskell",
   "name": "haskell"
  },
  "language_info": {
   "codemirror_mode": "ihaskell",
   "file_extension": ".hs",
   "name": "haskell",
   "pygments_lexer": "Haskell",
   "version": "8.4.4"
  }
 },
 "nbformat": 4,
 "nbformat_minor": 2
}
