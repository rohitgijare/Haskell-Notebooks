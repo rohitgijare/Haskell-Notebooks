{
 "cells": [
  {
   "cell_type": "code",
   "execution_count": 19,
   "metadata": {},
   "outputs": [],
   "source": [
    "import Text.Trifecta\n",
    "import Control.Applicative     ((<|>))"
   ]
  },
  {
   "cell_type": "code",
   "execution_count": 2,
   "metadata": {},
   "outputs": [],
   "source": [
    "stop :: Parser a\n",
    "stop = unexpected \"stop\""
   ]
  },
  {
   "cell_type": "code",
   "execution_count": 4,
   "metadata": {},
   "outputs": [],
   "source": [
    "one = char '1'\n",
    "one' = one >> stop"
   ]
  },
  {
   "cell_type": "code",
   "execution_count": 9,
   "metadata": {},
   "outputs": [],
   "source": [
    "oneTwo = char '1' >> char '2'\n",
    "oneTwo' = oneTwo >> stop"
   ]
  },
  {
   "cell_type": "code",
   "execution_count": 12,
   "metadata": {},
   "outputs": [],
   "source": [
    "testParse :: Parser Char -> IO ()\n",
    "testParse p = print $ parseString p mempty \"123\"\n",
    "\n",
    "pNL s = putStrLn ('\\n': s)"
   ]
  },
  {
   "cell_type": "code",
   "execution_count": 13,
   "metadata": {},
   "outputs": [],
   "source": [
    "main = do\n",
    "    pNL \"stop:\"\n",
    "    testParse stop\n",
    "    pNL \"one:\"\n",
    "    testParse one\n",
    "    pNL \"one':\"\n",
    "    testParse one'\n",
    "    pNL \"oneTwo:\"\n",
    "    testParse oneTwo\n",
    "    pNL \"oneTwo':\"\n",
    "    testParse oneTwo'"
   ]
  },
  {
   "cell_type": "code",
   "execution_count": 14,
   "metadata": {
    "scrolled": true
   },
   "outputs": [
    {
     "data": {
      "text/plain": [
       "\n",
       "stop:\n",
       "Failure (ErrInfo {_errDoc = \u001b[1m(interactive)\u001b[0m:\u001b[1m1\u001b[0m:\u001b[1m1\u001b[0m: \u001b[91merror\u001b[0m: unexpected\n",
       "    stop\n",
       "123\u001b[1m\u001b[94m<EOF>\u001b[0;1m\u001b[0m \n",
       "\u001b[92m^\u001b[0m        , _errDeltas = [Columns 0 0]})\n",
       "\n",
       "one:\n",
       "Success '1'\n",
       "\n",
       "one':\n",
       "Failure (ErrInfo {_errDoc = \u001b[1m(interactive)\u001b[0m:\u001b[1m1\u001b[0m:\u001b[1m2\u001b[0m: \u001b[91merror\u001b[0m: unexpected\n",
       "    stop\n",
       "123\u001b[1m\u001b[94m<EOF>\u001b[0;1m\u001b[0m \n",
       " \u001b[92m^\u001b[0m       , _errDeltas = [Columns 1 1]})\n",
       "\n",
       "oneTwo:\n",
       "Success '2'\n",
       "\n",
       "oneTwo':\n",
       "Failure (ErrInfo {_errDoc = \u001b[1m(interactive)\u001b[0m:\u001b[1m1\u001b[0m:\u001b[1m3\u001b[0m: \u001b[91merror\u001b[0m: unexpected\n",
       "    stop\n",
       "123\u001b[1m\u001b[94m<EOF>\u001b[0;1m\u001b[0m \n",
       "  \u001b[92m^\u001b[0m      , _errDeltas = [Columns 2 2]})"
      ]
     },
     "metadata": {},
     "output_type": "display_data"
    }
   ],
   "source": [
    "main"
   ]
  },
  {
   "cell_type": "code",
   "execution_count": 25,
   "metadata": {},
   "outputs": [],
   "source": [
    "multString :: Parser ()\n",
    "multString = (string \"123\" <|> string \"12\" <|> string \"1\") >> eof"
   ]
  },
  {
   "cell_type": "code",
   "execution_count": 26,
   "metadata": {},
   "outputs": [
    {
     "data": {
      "text/plain": [
       "Success ()"
      ]
     },
     "metadata": {},
     "output_type": "display_data"
    },
    {
     "data": {
      "text/plain": [
       "Success ()"
      ]
     },
     "metadata": {},
     "output_type": "display_data"
    },
    {
     "data": {
      "text/plain": [
       "Success ()"
      ]
     },
     "metadata": {},
     "output_type": "display_data"
    }
   ],
   "source": [
    "print $ parseString multString mempty \"1\"\n",
    "print $ parseString multString mempty \"12\"\n",
    "print $ parseString multString mempty \"123\""
   ]
  },
  {
   "cell_type": "markdown",
   "metadata": {},
   "source": [
    "<h4>Parsing free jazz</h4>"
   ]
  },
  {
   "cell_type": "code",
   "execution_count": 28,
   "metadata": {},
   "outputs": [
    {
     "data": {
      "text/html": [
       "<style>/* Styles used for the Hoogle display in the pager */\n",
       ".hoogle-doc {\n",
       "display: block;\n",
       "padding-bottom: 1.3em;\n",
       "padding-left: 0.4em;\n",
       "}\n",
       ".hoogle-code {\n",
       "display: block;\n",
       "font-family: monospace;\n",
       "white-space: pre;\n",
       "}\n",
       ".hoogle-text {\n",
       "display: block;\n",
       "}\n",
       ".hoogle-name {\n",
       "color: green;\n",
       "font-weight: bold;\n",
       "}\n",
       ".hoogle-head {\n",
       "font-weight: bold;\n",
       "}\n",
       ".hoogle-sub {\n",
       "display: block;\n",
       "margin-left: 0.4em;\n",
       "}\n",
       ".hoogle-package {\n",
       "font-weight: bold;\n",
       "font-style: italic;\n",
       "}\n",
       ".hoogle-module {\n",
       "font-weight: bold;\n",
       "}\n",
       ".hoogle-class {\n",
       "font-weight: bold;\n",
       "}\n",
       ".get-type {\n",
       "color: green;\n",
       "font-weight: bold;\n",
       "font-family: monospace;\n",
       "display: block;\n",
       "white-space: pre-wrap;\n",
       "}\n",
       ".show-type {\n",
       "color: green;\n",
       "font-weight: bold;\n",
       "font-family: monospace;\n",
       "margin-left: 1em;\n",
       "}\n",
       ".mono {\n",
       "font-family: monospace;\n",
       "display: block;\n",
       "}\n",
       ".err-msg {\n",
       "color: red;\n",
       "font-style: italic;\n",
       "font-family: monospace;\n",
       "white-space: pre;\n",
       "display: block;\n",
       "}\n",
       "#unshowable {\n",
       "color: red;\n",
       "font-weight: bold;\n",
       "}\n",
       ".err-msg.in.collapse {\n",
       "padding-top: 0.7em;\n",
       "}\n",
       ".highlight-code {\n",
       "white-space: pre;\n",
       "font-family: monospace;\n",
       "}\n",
       ".suggestion-warning { \n",
       "font-weight: bold;\n",
       "color: rgb(200, 130, 0);\n",
       "}\n",
       ".suggestion-error { \n",
       "font-weight: bold;\n",
       "color: red;\n",
       "}\n",
       ".suggestion-name {\n",
       "font-weight: bold;\n",
       "}\n",
       "</style><span class='get-type'>parseString gimmeA mempty :: String -> Result Char</span>"
      ],
      "text/plain": [
       "parseString gimmeA mempty :: String -> Result Char"
      ]
     },
     "metadata": {},
     "output_type": "display_data"
    }
   ],
   "source": [
    "gimmeA = char 'a'\n",
    ":t parseString gimmeA mempty"
   ]
  },
  {
   "cell_type": "code",
   "execution_count": 34,
   "metadata": {},
   "outputs": [
    {
     "data": {
      "text/plain": [
       "Success 'a'"
      ]
     },
     "metadata": {},
     "output_type": "display_data"
    },
    {
     "data": {
      "text/plain": [
       "Success \"b\""
      ]
     },
     "metadata": {},
     "output_type": "display_data"
    },
    {
     "data": {
      "text/plain": [
       "Success \"bc\""
      ]
     },
     "metadata": {},
     "output_type": "display_data"
    }
   ],
   "source": [
    "parseString gimmeA mempty \"a\"\n",
    "parseString (string \"b\") mempty \"b\"\n",
    "parseString (string \"bc\") mempty \"bc\""
   ]
  },
  {
   "cell_type": "code",
   "execution_count": null,
   "metadata": {},
   "outputs": [],
   "source": []
  }
 ],
 "metadata": {
  "kernelspec": {
   "display_name": "Haskell",
   "language": "haskell",
   "name": "haskell"
  },
  "language_info": {
   "codemirror_mode": "ihaskell",
   "file_extension": ".hs",
   "name": "haskell",
   "pygments_lexer": "Haskell",
   "version": "8.4.4"
  }
 },
 "nbformat": 4,
 "nbformat_minor": 2
}
